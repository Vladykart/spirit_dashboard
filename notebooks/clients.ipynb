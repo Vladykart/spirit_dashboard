{
 "cells": [
  {
   "cell_type": "code",
   "execution_count": 1,
   "metadata": {
    "collapsed": true,
    "pycharm": {
     "name": "#%%\n"
    }
   },
   "outputs": [
    {
     "name": "stderr",
     "output_type": "stream",
     "text": [
      "2022-06-17 17:10:10.436 WARNING streamlit.state.auto_session_state: Session state does not function when running a script without `streamlit run`\n"
     ]
    }
   ],
   "source": [
    "import pandas as pd\n",
    "import numpy as np\n",
    "from settings import LOCAL_DATA_PATH, ROOT_DIR\n",
    "import re\n",
    "from data.get_data import get_unique_values_from_columns, get_data_from_collection\n"
   ]
  },
  {
   "cell_type": "code",
   "execution_count": 13,
   "outputs": [
    {
     "data": {
      "text/plain": "                          _id date_created  customer_group_id  month_created  \\\n0    626596cb2f7d05734cbb20e2   2021-01-07                  2              1   \n1    626596cb2f7d05734cbb20e3   2021-01-21                  0              1   \n2    626596cb2f7d05734cbb20e4   2021-02-15                  0              2   \n3    626596cb2f7d05734cbb20e5   2021-04-08                  0              4   \n4    626596cb2f7d05734cbb20e6   2021-04-28                  0              4   \n..                        ...          ...                ...            ...   \n405  626596cb2f7d05734cbb2277   2022-01-17                  0              1   \n406  626596cb2f7d05734cbb2278   2022-01-19                  0              1   \n407  626596cb2f7d05734cbb2279   2022-01-26                  0              1   \n408  626596cb2f7d05734cbb227a   2022-01-27                  0              1   \n409  626596cb2f7d05734cbb227b   2022-01-27                  0              1   \n\n     year_created  day_created  weekday_created  hour_created  \\\n0            2021            7                3            15   \n1            2021           21                3            15   \n2            2021           15                0             9   \n3            2021            8                3            16   \n4            2021           28                2             7   \n..            ...          ...              ...           ...   \n405          2022           17                0            16   \n406          2022           19                2            22   \n407          2022           26                2             1   \n408          2022           27                3             9   \n409          2022           27                3            10   \n\n     day_of_year_created month_created_str  \n0                      7               Jan  \n1                     21               Jan  \n2                     46               Feb  \n3                     98               Apr  \n4                    118               Apr  \n..                   ...               ...  \n405                   17               Jan  \n406                   19               Jan  \n407                   26               Jan  \n408                   27               Jan  \n409                   27               Jan  \n\n[410 rows x 10 columns]",
      "text/html": "<div>\n<style scoped>\n    .dataframe tbody tr th:only-of-type {\n        vertical-align: middle;\n    }\n\n    .dataframe tbody tr th {\n        vertical-align: top;\n    }\n\n    .dataframe thead th {\n        text-align: right;\n    }\n</style>\n<table border=\"1\" class=\"dataframe\">\n  <thead>\n    <tr style=\"text-align: right;\">\n      <th></th>\n      <th>_id</th>\n      <th>date_created</th>\n      <th>customer_group_id</th>\n      <th>month_created</th>\n      <th>year_created</th>\n      <th>day_created</th>\n      <th>weekday_created</th>\n      <th>hour_created</th>\n      <th>day_of_year_created</th>\n      <th>month_created_str</th>\n    </tr>\n  </thead>\n  <tbody>\n    <tr>\n      <th>0</th>\n      <td>626596cb2f7d05734cbb20e2</td>\n      <td>2021-01-07</td>\n      <td>2</td>\n      <td>1</td>\n      <td>2021</td>\n      <td>7</td>\n      <td>3</td>\n      <td>15</td>\n      <td>7</td>\n      <td>Jan</td>\n    </tr>\n    <tr>\n      <th>1</th>\n      <td>626596cb2f7d05734cbb20e3</td>\n      <td>2021-01-21</td>\n      <td>0</td>\n      <td>1</td>\n      <td>2021</td>\n      <td>21</td>\n      <td>3</td>\n      <td>15</td>\n      <td>21</td>\n      <td>Jan</td>\n    </tr>\n    <tr>\n      <th>2</th>\n      <td>626596cb2f7d05734cbb20e4</td>\n      <td>2021-02-15</td>\n      <td>0</td>\n      <td>2</td>\n      <td>2021</td>\n      <td>15</td>\n      <td>0</td>\n      <td>9</td>\n      <td>46</td>\n      <td>Feb</td>\n    </tr>\n    <tr>\n      <th>3</th>\n      <td>626596cb2f7d05734cbb20e5</td>\n      <td>2021-04-08</td>\n      <td>0</td>\n      <td>4</td>\n      <td>2021</td>\n      <td>8</td>\n      <td>3</td>\n      <td>16</td>\n      <td>98</td>\n      <td>Apr</td>\n    </tr>\n    <tr>\n      <th>4</th>\n      <td>626596cb2f7d05734cbb20e6</td>\n      <td>2021-04-28</td>\n      <td>0</td>\n      <td>4</td>\n      <td>2021</td>\n      <td>28</td>\n      <td>2</td>\n      <td>7</td>\n      <td>118</td>\n      <td>Apr</td>\n    </tr>\n    <tr>\n      <th>...</th>\n      <td>...</td>\n      <td>...</td>\n      <td>...</td>\n      <td>...</td>\n      <td>...</td>\n      <td>...</td>\n      <td>...</td>\n      <td>...</td>\n      <td>...</td>\n      <td>...</td>\n    </tr>\n    <tr>\n      <th>405</th>\n      <td>626596cb2f7d05734cbb2277</td>\n      <td>2022-01-17</td>\n      <td>0</td>\n      <td>1</td>\n      <td>2022</td>\n      <td>17</td>\n      <td>0</td>\n      <td>16</td>\n      <td>17</td>\n      <td>Jan</td>\n    </tr>\n    <tr>\n      <th>406</th>\n      <td>626596cb2f7d05734cbb2278</td>\n      <td>2022-01-19</td>\n      <td>0</td>\n      <td>1</td>\n      <td>2022</td>\n      <td>19</td>\n      <td>2</td>\n      <td>22</td>\n      <td>19</td>\n      <td>Jan</td>\n    </tr>\n    <tr>\n      <th>407</th>\n      <td>626596cb2f7d05734cbb2279</td>\n      <td>2022-01-26</td>\n      <td>0</td>\n      <td>1</td>\n      <td>2022</td>\n      <td>26</td>\n      <td>2</td>\n      <td>1</td>\n      <td>26</td>\n      <td>Jan</td>\n    </tr>\n    <tr>\n      <th>408</th>\n      <td>626596cb2f7d05734cbb227a</td>\n      <td>2022-01-27</td>\n      <td>0</td>\n      <td>1</td>\n      <td>2022</td>\n      <td>27</td>\n      <td>3</td>\n      <td>9</td>\n      <td>27</td>\n      <td>Jan</td>\n    </tr>\n    <tr>\n      <th>409</th>\n      <td>626596cb2f7d05734cbb227b</td>\n      <td>2022-01-27</td>\n      <td>0</td>\n      <td>1</td>\n      <td>2022</td>\n      <td>27</td>\n      <td>3</td>\n      <td>10</td>\n      <td>27</td>\n      <td>Jan</td>\n    </tr>\n  </tbody>\n</table>\n<p>410 rows × 10 columns</p>\n</div>"
     },
     "execution_count": 13,
     "metadata": {},
     "output_type": "execute_result"
    }
   ],
   "source": [
    "query = {}\n",
    "df = get_data_from_collection('clients', query)\n",
    "df = df.reset_index()\n",
    "df =  df[['_id', 'date_created', 'customer_group_id']]\n",
    "\n",
    "def parse_date_created(df):\n",
    "    df['date_created'] = pd.to_datetime(df['date_created'])\n",
    "    df['month_created'] = df['date_created'].dt.month\n",
    "    df['year_created'] = df['date_created'].dt.year\n",
    "    df['day_created'] = df['date_created'].dt.day\n",
    "    df['weekday_created'] = df['date_created'].dt.weekday\n",
    "    df['hour_created'] = df['date_created'].dt.hour\n",
    "    df['day_of_year_created'] = df['date_created'].dt.dayofyear\n",
    "    df['month_created_str'] = df['date_created'].dt.strftime(\"%b\")\n",
    "\n",
    "    df['date_created'] = df['date_created'].dt.date\n",
    "\n",
    "    return df\n",
    "df = parse_date_created(df)\n",
    "\n",
    "def aggregate_date_created(df):\n",
    "    df = df[['_id', 'date_created']].groupby(['date_created']).count()\n",
    "    df = df.reset_index()\n",
    "    df = df.rename(columns={'_id': 'count'})\n",
    "    return df\n",
    "\n",
    "def aggregate_monthly(df):\n",
    "    df = df[['_id', 'month_created']].groupby(['month_created']).count()\n",
    "    df = df.reset_index()\n",
    "    df = df.rename(columns={'_id': 'count'})\n",
    "    return df\n",
    "\n",
    "def aggregate_yearly(df):\n",
    "    df = df[['_id', 'year_created']].groupby(['year_created']).count()\n",
    "    df = df.reset_index()\n",
    "    df = df.rename(columns={'_id': 'count'})\n",
    "    return df\n",
    "\n",
    "dayly_agg =  aggregate_date_created(df)\n",
    "monthly_agg = aggregate_monthly(df)\n",
    "yearly_agg = aggregate_yearly(df)\n",
    "df"
   ],
   "metadata": {
    "collapsed": false,
    "pycharm": {
     "name": "#%%\n"
    }
   }
  },
  {
   "cell_type": "code",
   "execution_count": 15,
   "outputs": [],
   "source": [
    "df1 = df[['date_created', 'month_created_str', 'day_created', '_id']].groupby(['date_created', 'month_created_str', 'day_created']).count().reset_index().rename(columns={'_id': 'count'})\n",
    "\n",
    "df1 = df1[['month_created_str','day_created','count']].set_index('day_created')"
   ],
   "metadata": {
    "collapsed": false,
    "pycharm": {
     "name": "#%%\n"
    }
   }
  },
  {
   "cell_type": "code",
   "execution_count": 16,
   "outputs": [
    {
     "data": {
      "application/vnd.plotly.v1+json": {
       "data": [
        {
         "fillpattern": {
          "shape": ""
         },
         "hovertemplate": "variable=count<br>month_created_str=Jan<br>day_created=%{x}<br>value=%{y}<extra></extra>",
         "legendgroup": "count",
         "line": {
          "color": "#0d0887"
         },
         "marker": {
          "symbol": "circle"
         },
         "mode": "lines",
         "name": "count",
         "orientation": "v",
         "showlegend": true,
         "stackgroup": "1",
         "x": [
          7,
          21,
          6,
          17,
          19,
          26,
          27
         ],
         "xaxis": "x10",
         "y": [
          1,
          1,
          1,
          5,
          1,
          1,
          2
         ],
         "yaxis": "y10",
         "type": "scatter"
        },
        {
         "fillpattern": {
          "shape": ""
         },
         "hovertemplate": "variable=count<br>month_created_str=Feb<br>day_created=%{x}<br>value=%{y}<extra></extra>",
         "legendgroup": "count",
         "line": {
          "color": "#0d0887"
         },
         "marker": {
          "symbol": "circle"
         },
         "mode": "lines",
         "name": "count",
         "orientation": "v",
         "showlegend": false,
         "stackgroup": "1",
         "x": [
          15
         ],
         "xaxis": "x11",
         "y": [
          1
         ],
         "yaxis": "y11",
         "type": "scatter"
        },
        {
         "fillpattern": {
          "shape": ""
         },
         "hovertemplate": "variable=count<br>month_created_str=Apr<br>day_created=%{x}<br>value=%{y}<extra></extra>",
         "legendgroup": "count",
         "line": {
          "color": "#0d0887"
         },
         "marker": {
          "symbol": "circle"
         },
         "mode": "lines",
         "name": "count",
         "orientation": "v",
         "showlegend": false,
         "stackgroup": "1",
         "x": [
          8,
          28,
          29
         ],
         "xaxis": "x12",
         "y": [
          1,
          1,
          2
         ],
         "yaxis": "y12",
         "type": "scatter"
        },
        {
         "fillpattern": {
          "shape": ""
         },
         "hovertemplate": "variable=count<br>month_created_str=May<br>day_created=%{x}<br>value=%{y}<extra></extra>",
         "legendgroup": "count",
         "line": {
          "color": "#0d0887"
         },
         "marker": {
          "symbol": "circle"
         },
         "mode": "lines",
         "name": "count",
         "orientation": "v",
         "showlegend": false,
         "stackgroup": "1",
         "x": [
          17,
          27,
          29,
          31
         ],
         "xaxis": "x7",
         "y": [
          1,
          1,
          5,
          1
         ],
         "yaxis": "y7",
         "type": "scatter"
        },
        {
         "fillpattern": {
          "shape": ""
         },
         "hovertemplate": "variable=count<br>month_created_str=Jun<br>day_created=%{x}<br>value=%{y}<extra></extra>",
         "legendgroup": "count",
         "line": {
          "color": "#0d0887"
         },
         "marker": {
          "symbol": "circle"
         },
         "mode": "lines",
         "name": "count",
         "orientation": "v",
         "showlegend": false,
         "stackgroup": "1",
         "x": [
          2,
          3,
          4,
          7,
          11,
          15,
          16,
          22,
          24
         ],
         "xaxis": "x8",
         "y": [
          3,
          14,
          18,
          1,
          12,
          2,
          6,
          1,
          2
         ],
         "yaxis": "y8",
         "type": "scatter"
        },
        {
         "fillpattern": {
          "shape": ""
         },
         "hovertemplate": "variable=count<br>month_created_str=Jul<br>day_created=%{x}<br>value=%{y}<extra></extra>",
         "legendgroup": "count",
         "line": {
          "color": "#0d0887"
         },
         "marker": {
          "symbol": "circle"
         },
         "mode": "lines",
         "name": "count",
         "orientation": "v",
         "showlegend": false,
         "stackgroup": "1",
         "x": [
          2,
          5,
          14,
          20,
          21,
          22,
          26,
          28,
          29,
          30
         ],
         "xaxis": "x9",
         "y": [
          1,
          1,
          1,
          2,
          1,
          1,
          6,
          2,
          2,
          1
         ],
         "yaxis": "y9",
         "type": "scatter"
        },
        {
         "fillpattern": {
          "shape": ""
         },
         "hovertemplate": "variable=count<br>month_created_str=Aug<br>day_created=%{x}<br>value=%{y}<extra></extra>",
         "legendgroup": "count",
         "line": {
          "color": "#0d0887"
         },
         "marker": {
          "symbol": "circle"
         },
         "mode": "lines",
         "name": "count",
         "orientation": "v",
         "showlegend": false,
         "stackgroup": "1",
         "x": [
          2,
          3,
          4,
          6,
          9,
          10,
          12,
          16,
          17,
          19,
          23,
          25,
          26,
          30,
          31
         ],
         "xaxis": "x4",
         "y": [
          1,
          2,
          1,
          1,
          2,
          5,
          1,
          2,
          1,
          2,
          1,
          2,
          1,
          4,
          4
         ],
         "yaxis": "y4",
         "type": "scatter"
        },
        {
         "fillpattern": {
          "shape": ""
         },
         "hovertemplate": "variable=count<br>month_created_str=Sep<br>day_created=%{x}<br>value=%{y}<extra></extra>",
         "legendgroup": "count",
         "line": {
          "color": "#0d0887"
         },
         "marker": {
          "symbol": "circle"
         },
         "mode": "lines",
         "name": "count",
         "orientation": "v",
         "showlegend": false,
         "stackgroup": "1",
         "x": [
          1,
          2,
          3,
          7,
          8,
          9,
          10,
          13,
          14,
          15,
          16,
          20,
          21,
          22,
          23,
          24,
          27,
          28,
          29
         ],
         "xaxis": "x5",
         "y": [
          10,
          7,
          4,
          2,
          2,
          4,
          2,
          1,
          5,
          9,
          1,
          3,
          10,
          7,
          1,
          3,
          3,
          3,
          1
         ],
         "yaxis": "y5",
         "type": "scatter"
        },
        {
         "fillpattern": {
          "shape": ""
         },
         "hovertemplate": "variable=count<br>month_created_str=Oct<br>day_created=%{x}<br>value=%{y}<extra></extra>",
         "legendgroup": "count",
         "line": {
          "color": "#0d0887"
         },
         "marker": {
          "symbol": "circle"
         },
         "mode": "lines",
         "name": "count",
         "orientation": "v",
         "showlegend": false,
         "stackgroup": "1",
         "x": [
          1,
          4,
          5,
          6,
          7,
          11,
          12,
          15,
          19,
          21,
          27,
          28,
          29
         ],
         "xaxis": "x6",
         "y": [
          4,
          5,
          3,
          8,
          4,
          1,
          1,
          1,
          2,
          2,
          1,
          1,
          3
         ],
         "yaxis": "y6",
         "type": "scatter"
        },
        {
         "fillpattern": {
          "shape": ""
         },
         "hovertemplate": "variable=count<br>month_created_str=Nov<br>day_created=%{x}<br>value=%{y}<extra></extra>",
         "legendgroup": "count",
         "line": {
          "color": "#0d0887"
         },
         "marker": {
          "symbol": "circle"
         },
         "mode": "lines",
         "name": "count",
         "orientation": "v",
         "showlegend": false,
         "stackgroup": "1",
         "x": [
          4,
          5,
          7,
          8,
          9,
          10,
          11,
          12,
          15,
          16,
          17,
          18,
          22,
          23,
          24,
          25,
          29,
          30
         ],
         "xaxis": "x",
         "y": [
          1,
          1,
          1,
          7,
          1,
          1,
          12,
          15,
          2,
          6,
          7,
          4,
          8,
          1,
          2,
          2,
          1,
          20
         ],
         "yaxis": "y",
         "type": "scatter"
        },
        {
         "fillpattern": {
          "shape": ""
         },
         "hovertemplate": "variable=count<br>month_created_str=Dec<br>day_created=%{x}<br>value=%{y}<extra></extra>",
         "legendgroup": "count",
         "line": {
          "color": "#0d0887"
         },
         "marker": {
          "symbol": "circle"
         },
         "mode": "lines",
         "name": "count",
         "orientation": "v",
         "showlegend": false,
         "stackgroup": "1",
         "x": [
          1,
          2,
          3,
          6,
          9,
          14,
          15,
          16,
          17,
          20,
          22,
          23,
          24,
          27,
          28,
          29,
          30,
          31
         ],
         "xaxis": "x2",
         "y": [
          5,
          5,
          5,
          3,
          1,
          2,
          7,
          17,
          7,
          5,
          3,
          2,
          1,
          1,
          2,
          1,
          4,
          1
         ],
         "yaxis": "y2",
         "type": "scatter"
        }
       ],
       "layout": {
        "template": {
         "data": {
          "histogram2dcontour": [
           {
            "type": "histogram2dcontour",
            "colorbar": {
             "outlinewidth": 0,
             "ticks": ""
            },
            "colorscale": [
             [
              0.0,
              "#0d0887"
             ],
             [
              0.1111111111111111,
              "#46039f"
             ],
             [
              0.2222222222222222,
              "#7201a8"
             ],
             [
              0.3333333333333333,
              "#9c179e"
             ],
             [
              0.4444444444444444,
              "#bd3786"
             ],
             [
              0.5555555555555556,
              "#d8576b"
             ],
             [
              0.6666666666666666,
              "#ed7953"
             ],
             [
              0.7777777777777778,
              "#fb9f3a"
             ],
             [
              0.8888888888888888,
              "#fdca26"
             ],
             [
              1.0,
              "#f0f921"
             ]
            ]
           }
          ],
          "choropleth": [
           {
            "type": "choropleth",
            "colorbar": {
             "outlinewidth": 0,
             "ticks": ""
            }
           }
          ],
          "histogram2d": [
           {
            "type": "histogram2d",
            "colorbar": {
             "outlinewidth": 0,
             "ticks": ""
            },
            "colorscale": [
             [
              0.0,
              "#0d0887"
             ],
             [
              0.1111111111111111,
              "#46039f"
             ],
             [
              0.2222222222222222,
              "#7201a8"
             ],
             [
              0.3333333333333333,
              "#9c179e"
             ],
             [
              0.4444444444444444,
              "#bd3786"
             ],
             [
              0.5555555555555556,
              "#d8576b"
             ],
             [
              0.6666666666666666,
              "#ed7953"
             ],
             [
              0.7777777777777778,
              "#fb9f3a"
             ],
             [
              0.8888888888888888,
              "#fdca26"
             ],
             [
              1.0,
              "#f0f921"
             ]
            ]
           }
          ],
          "heatmap": [
           {
            "type": "heatmap",
            "colorbar": {
             "outlinewidth": 0,
             "ticks": ""
            },
            "colorscale": [
             [
              0.0,
              "#0d0887"
             ],
             [
              0.1111111111111111,
              "#46039f"
             ],
             [
              0.2222222222222222,
              "#7201a8"
             ],
             [
              0.3333333333333333,
              "#9c179e"
             ],
             [
              0.4444444444444444,
              "#bd3786"
             ],
             [
              0.5555555555555556,
              "#d8576b"
             ],
             [
              0.6666666666666666,
              "#ed7953"
             ],
             [
              0.7777777777777778,
              "#fb9f3a"
             ],
             [
              0.8888888888888888,
              "#fdca26"
             ],
             [
              1.0,
              "#f0f921"
             ]
            ]
           }
          ],
          "heatmapgl": [
           {
            "type": "heatmapgl",
            "colorbar": {
             "outlinewidth": 0,
             "ticks": ""
            },
            "colorscale": [
             [
              0.0,
              "#0d0887"
             ],
             [
              0.1111111111111111,
              "#46039f"
             ],
             [
              0.2222222222222222,
              "#7201a8"
             ],
             [
              0.3333333333333333,
              "#9c179e"
             ],
             [
              0.4444444444444444,
              "#bd3786"
             ],
             [
              0.5555555555555556,
              "#d8576b"
             ],
             [
              0.6666666666666666,
              "#ed7953"
             ],
             [
              0.7777777777777778,
              "#fb9f3a"
             ],
             [
              0.8888888888888888,
              "#fdca26"
             ],
             [
              1.0,
              "#f0f921"
             ]
            ]
           }
          ],
          "contourcarpet": [
           {
            "type": "contourcarpet",
            "colorbar": {
             "outlinewidth": 0,
             "ticks": ""
            }
           }
          ],
          "contour": [
           {
            "type": "contour",
            "colorbar": {
             "outlinewidth": 0,
             "ticks": ""
            },
            "colorscale": [
             [
              0.0,
              "#0d0887"
             ],
             [
              0.1111111111111111,
              "#46039f"
             ],
             [
              0.2222222222222222,
              "#7201a8"
             ],
             [
              0.3333333333333333,
              "#9c179e"
             ],
             [
              0.4444444444444444,
              "#bd3786"
             ],
             [
              0.5555555555555556,
              "#d8576b"
             ],
             [
              0.6666666666666666,
              "#ed7953"
             ],
             [
              0.7777777777777778,
              "#fb9f3a"
             ],
             [
              0.8888888888888888,
              "#fdca26"
             ],
             [
              1.0,
              "#f0f921"
             ]
            ]
           }
          ],
          "surface": [
           {
            "type": "surface",
            "colorbar": {
             "outlinewidth": 0,
             "ticks": ""
            },
            "colorscale": [
             [
              0.0,
              "#0d0887"
             ],
             [
              0.1111111111111111,
              "#46039f"
             ],
             [
              0.2222222222222222,
              "#7201a8"
             ],
             [
              0.3333333333333333,
              "#9c179e"
             ],
             [
              0.4444444444444444,
              "#bd3786"
             ],
             [
              0.5555555555555556,
              "#d8576b"
             ],
             [
              0.6666666666666666,
              "#ed7953"
             ],
             [
              0.7777777777777778,
              "#fb9f3a"
             ],
             [
              0.8888888888888888,
              "#fdca26"
             ],
             [
              1.0,
              "#f0f921"
             ]
            ]
           }
          ],
          "mesh3d": [
           {
            "type": "mesh3d",
            "colorbar": {
             "outlinewidth": 0,
             "ticks": ""
            }
           }
          ],
          "scatter": [
           {
            "marker": {
             "line": {
              "color": "#283442"
             }
            },
            "type": "scatter"
           }
          ],
          "parcoords": [
           {
            "type": "parcoords",
            "line": {
             "colorbar": {
              "outlinewidth": 0,
              "ticks": ""
             }
            }
           }
          ],
          "scatterpolargl": [
           {
            "type": "scatterpolargl",
            "marker": {
             "colorbar": {
              "outlinewidth": 0,
              "ticks": ""
             }
            }
           }
          ],
          "bar": [
           {
            "error_x": {
             "color": "#f2f5fa"
            },
            "error_y": {
             "color": "#f2f5fa"
            },
            "marker": {
             "line": {
              "color": "rgb(17,17,17)",
              "width": 0.5
             },
             "pattern": {
              "fillmode": "overlay",
              "size": 10,
              "solidity": 0.2
             }
            },
            "type": "bar"
           }
          ],
          "scattergeo": [
           {
            "type": "scattergeo",
            "marker": {
             "colorbar": {
              "outlinewidth": 0,
              "ticks": ""
             }
            }
           }
          ],
          "scatterpolar": [
           {
            "type": "scatterpolar",
            "marker": {
             "colorbar": {
              "outlinewidth": 0,
              "ticks": ""
             }
            }
           }
          ],
          "histogram": [
           {
            "marker": {
             "pattern": {
              "fillmode": "overlay",
              "size": 10,
              "solidity": 0.2
             }
            },
            "type": "histogram"
           }
          ],
          "scattergl": [
           {
            "marker": {
             "line": {
              "color": "#283442"
             }
            },
            "type": "scattergl"
           }
          ],
          "scatter3d": [
           {
            "type": "scatter3d",
            "line": {
             "colorbar": {
              "outlinewidth": 0,
              "ticks": ""
             }
            },
            "marker": {
             "colorbar": {
              "outlinewidth": 0,
              "ticks": ""
             }
            }
           }
          ],
          "scattermapbox": [
           {
            "type": "scattermapbox",
            "marker": {
             "colorbar": {
              "outlinewidth": 0,
              "ticks": ""
             }
            }
           }
          ],
          "scatterternary": [
           {
            "type": "scatterternary",
            "marker": {
             "colorbar": {
              "outlinewidth": 0,
              "ticks": ""
             }
            }
           }
          ],
          "scattercarpet": [
           {
            "type": "scattercarpet",
            "marker": {
             "colorbar": {
              "outlinewidth": 0,
              "ticks": ""
             }
            }
           }
          ],
          "carpet": [
           {
            "aaxis": {
             "endlinecolor": "#A2B1C6",
             "gridcolor": "#506784",
             "linecolor": "#506784",
             "minorgridcolor": "#506784",
             "startlinecolor": "#A2B1C6"
            },
            "baxis": {
             "endlinecolor": "#A2B1C6",
             "gridcolor": "#506784",
             "linecolor": "#506784",
             "minorgridcolor": "#506784",
             "startlinecolor": "#A2B1C6"
            },
            "type": "carpet"
           }
          ],
          "table": [
           {
            "cells": {
             "fill": {
              "color": "#506784"
             },
             "line": {
              "color": "rgb(17,17,17)"
             }
            },
            "header": {
             "fill": {
              "color": "#2a3f5f"
             },
             "line": {
              "color": "rgb(17,17,17)"
             }
            },
            "type": "table"
           }
          ],
          "barpolar": [
           {
            "marker": {
             "line": {
              "color": "rgb(17,17,17)",
              "width": 0.5
             },
             "pattern": {
              "fillmode": "overlay",
              "size": 10,
              "solidity": 0.2
             }
            },
            "type": "barpolar"
           }
          ],
          "pie": [
           {
            "automargin": true,
            "type": "pie"
           }
          ]
         },
         "layout": {
          "autotypenumbers": "strict",
          "colorway": [
           "#636efa",
           "#EF553B",
           "#00cc96",
           "#ab63fa",
           "#FFA15A",
           "#19d3f3",
           "#FF6692",
           "#B6E880",
           "#FF97FF",
           "#FECB52"
          ],
          "font": {
           "color": "#f2f5fa"
          },
          "hovermode": "closest",
          "hoverlabel": {
           "align": "left"
          },
          "paper_bgcolor": "rgb(17,17,17)",
          "plot_bgcolor": "rgb(17,17,17)",
          "polar": {
           "bgcolor": "rgb(17,17,17)",
           "angularaxis": {
            "gridcolor": "#506784",
            "linecolor": "#506784",
            "ticks": ""
           },
           "radialaxis": {
            "gridcolor": "#506784",
            "linecolor": "#506784",
            "ticks": ""
           }
          },
          "ternary": {
           "bgcolor": "rgb(17,17,17)",
           "aaxis": {
            "gridcolor": "#506784",
            "linecolor": "#506784",
            "ticks": ""
           },
           "baxis": {
            "gridcolor": "#506784",
            "linecolor": "#506784",
            "ticks": ""
           },
           "caxis": {
            "gridcolor": "#506784",
            "linecolor": "#506784",
            "ticks": ""
           }
          },
          "coloraxis": {
           "colorbar": {
            "outlinewidth": 0,
            "ticks": ""
           }
          },
          "colorscale": {
           "sequential": [
            [
             0.0,
             "#0d0887"
            ],
            [
             0.1111111111111111,
             "#46039f"
            ],
            [
             0.2222222222222222,
             "#7201a8"
            ],
            [
             0.3333333333333333,
             "#9c179e"
            ],
            [
             0.4444444444444444,
             "#bd3786"
            ],
            [
             0.5555555555555556,
             "#d8576b"
            ],
            [
             0.6666666666666666,
             "#ed7953"
            ],
            [
             0.7777777777777778,
             "#fb9f3a"
            ],
            [
             0.8888888888888888,
             "#fdca26"
            ],
            [
             1.0,
             "#f0f921"
            ]
           ],
           "sequentialminus": [
            [
             0.0,
             "#0d0887"
            ],
            [
             0.1111111111111111,
             "#46039f"
            ],
            [
             0.2222222222222222,
             "#7201a8"
            ],
            [
             0.3333333333333333,
             "#9c179e"
            ],
            [
             0.4444444444444444,
             "#bd3786"
            ],
            [
             0.5555555555555556,
             "#d8576b"
            ],
            [
             0.6666666666666666,
             "#ed7953"
            ],
            [
             0.7777777777777778,
             "#fb9f3a"
            ],
            [
             0.8888888888888888,
             "#fdca26"
            ],
            [
             1.0,
             "#f0f921"
            ]
           ],
           "diverging": [
            [
             0,
             "#8e0152"
            ],
            [
             0.1,
             "#c51b7d"
            ],
            [
             0.2,
             "#de77ae"
            ],
            [
             0.3,
             "#f1b6da"
            ],
            [
             0.4,
             "#fde0ef"
            ],
            [
             0.5,
             "#f7f7f7"
            ],
            [
             0.6,
             "#e6f5d0"
            ],
            [
             0.7,
             "#b8e186"
            ],
            [
             0.8,
             "#7fbc41"
            ],
            [
             0.9,
             "#4d9221"
            ],
            [
             1,
             "#276419"
            ]
           ]
          },
          "xaxis": {
           "gridcolor": "#283442",
           "linecolor": "#506784",
           "ticks": "",
           "title": {
            "standoff": 15
           },
           "zerolinecolor": "#283442",
           "automargin": true,
           "zerolinewidth": 2
          },
          "yaxis": {
           "gridcolor": "#283442",
           "linecolor": "#506784",
           "ticks": "",
           "title": {
            "standoff": 15
           },
           "zerolinecolor": "#283442",
           "automargin": true,
           "zerolinewidth": 2
          },
          "scene": {
           "xaxis": {
            "backgroundcolor": "rgb(17,17,17)",
            "gridcolor": "#506784",
            "linecolor": "#506784",
            "showbackground": true,
            "ticks": "",
            "zerolinecolor": "#C8D4E3",
            "gridwidth": 2
           },
           "yaxis": {
            "backgroundcolor": "rgb(17,17,17)",
            "gridcolor": "#506784",
            "linecolor": "#506784",
            "showbackground": true,
            "ticks": "",
            "zerolinecolor": "#C8D4E3",
            "gridwidth": 2
           },
           "zaxis": {
            "backgroundcolor": "rgb(17,17,17)",
            "gridcolor": "#506784",
            "linecolor": "#506784",
            "showbackground": true,
            "ticks": "",
            "zerolinecolor": "#C8D4E3",
            "gridwidth": 2
           }
          },
          "shapedefaults": {
           "line": {
            "color": "#f2f5fa"
           }
          },
          "annotationdefaults": {
           "arrowcolor": "#f2f5fa",
           "arrowhead": 0,
           "arrowwidth": 1
          },
          "geo": {
           "bgcolor": "rgb(17,17,17)",
           "landcolor": "rgb(17,17,17)",
           "subunitcolor": "#506784",
           "showland": true,
           "showlakes": true,
           "lakecolor": "rgb(17,17,17)"
          },
          "title": {
           "x": 0.05
          },
          "updatemenudefaults": {
           "bgcolor": "#506784",
           "borderwidth": 0
          },
          "sliderdefaults": {
           "bgcolor": "#C8D4E3",
           "borderwidth": 1,
           "bordercolor": "rgb(17,17,17)",
           "tickwidth": 0
          },
          "mapbox": {
           "style": "dark"
          }
         }
        },
        "xaxis": {
         "anchor": "y",
         "domain": [
          0.0,
          0.31999999999999995
         ],
         "title": {
          "text": "day_created"
         }
        },
        "yaxis": {
         "anchor": "x",
         "domain": [
          0.0,
          0.1975
         ],
         "title": {
          "text": "value"
         }
        },
        "xaxis2": {
         "anchor": "y2",
         "domain": [
          0.33999999999999997,
          0.6599999999999999
         ],
         "matches": "x",
         "title": {
          "text": "day_created"
         }
        },
        "yaxis2": {
         "anchor": "x2",
         "domain": [
          0.0,
          0.1975
         ],
         "matches": "y",
         "showticklabels": false
        },
        "xaxis3": {
         "anchor": "y3",
         "domain": [
          0.6799999999999999,
          0.9999999999999999
         ],
         "matches": "x",
         "title": {
          "text": "day_created"
         }
        },
        "yaxis3": {
         "anchor": "x3",
         "domain": [
          0.0,
          0.1975
         ],
         "matches": "y",
         "showticklabels": false
        },
        "xaxis4": {
         "anchor": "y4",
         "domain": [
          0.0,
          0.31999999999999995
         ],
         "matches": "x",
         "showticklabels": false
        },
        "yaxis4": {
         "anchor": "x4",
         "domain": [
          0.2675,
          0.465
         ],
         "matches": "y",
         "title": {
          "text": "value"
         }
        },
        "xaxis5": {
         "anchor": "y5",
         "domain": [
          0.33999999999999997,
          0.6599999999999999
         ],
         "matches": "x",
         "showticklabels": false
        },
        "yaxis5": {
         "anchor": "x5",
         "domain": [
          0.2675,
          0.465
         ],
         "matches": "y",
         "showticklabels": false
        },
        "xaxis6": {
         "anchor": "y6",
         "domain": [
          0.6799999999999999,
          0.9999999999999999
         ],
         "matches": "x",
         "showticklabels": false
        },
        "yaxis6": {
         "anchor": "x6",
         "domain": [
          0.2675,
          0.465
         ],
         "matches": "y",
         "showticklabels": false
        },
        "xaxis7": {
         "anchor": "y7",
         "domain": [
          0.0,
          0.31999999999999995
         ],
         "matches": "x",
         "showticklabels": false
        },
        "yaxis7": {
         "anchor": "x7",
         "domain": [
          0.535,
          0.7325
         ],
         "matches": "y",
         "title": {
          "text": "value"
         }
        },
        "xaxis8": {
         "anchor": "y8",
         "domain": [
          0.33999999999999997,
          0.6599999999999999
         ],
         "matches": "x",
         "showticklabels": false
        },
        "yaxis8": {
         "anchor": "x8",
         "domain": [
          0.535,
          0.7325
         ],
         "matches": "y",
         "showticklabels": false
        },
        "xaxis9": {
         "anchor": "y9",
         "domain": [
          0.6799999999999999,
          0.9999999999999999
         ],
         "matches": "x",
         "showticklabels": false
        },
        "yaxis9": {
         "anchor": "x9",
         "domain": [
          0.535,
          0.7325
         ],
         "matches": "y",
         "showticklabels": false
        },
        "xaxis10": {
         "anchor": "y10",
         "domain": [
          0.0,
          0.31999999999999995
         ],
         "matches": "x",
         "showticklabels": false
        },
        "yaxis10": {
         "anchor": "x10",
         "domain": [
          0.8025,
          1.0
         ],
         "matches": "y",
         "title": {
          "text": "value"
         }
        },
        "xaxis11": {
         "anchor": "y11",
         "domain": [
          0.33999999999999997,
          0.6599999999999999
         ],
         "matches": "x",
         "showticklabels": false
        },
        "yaxis11": {
         "anchor": "x11",
         "domain": [
          0.8025,
          1.0
         ],
         "matches": "y",
         "showticklabels": false
        },
        "xaxis12": {
         "anchor": "y12",
         "domain": [
          0.6799999999999999,
          0.9999999999999999
         ],
         "matches": "x",
         "showticklabels": false
        },
        "yaxis12": {
         "anchor": "x12",
         "domain": [
          0.8025,
          1.0
         ],
         "matches": "y",
         "showticklabels": false
        },
        "annotations": [
         {
          "font": {},
          "showarrow": false,
          "text": "month_created_str=Nov",
          "x": 0.15999999999999998,
          "xanchor": "center",
          "xref": "paper",
          "y": 0.1975,
          "yanchor": "bottom",
          "yref": "paper"
         },
         {
          "font": {},
          "showarrow": false,
          "text": "month_created_str=Dec",
          "x": 0.49999999999999994,
          "xanchor": "center",
          "xref": "paper",
          "y": 0.1975,
          "yanchor": "bottom",
          "yref": "paper"
         },
         {
          "font": {},
          "showarrow": false,
          "text": "month_created_str=Aug",
          "x": 0.15999999999999998,
          "xanchor": "center",
          "xref": "paper",
          "y": 0.465,
          "yanchor": "bottom",
          "yref": "paper"
         },
         {
          "font": {},
          "showarrow": false,
          "text": "month_created_str=Sep",
          "x": 0.49999999999999994,
          "xanchor": "center",
          "xref": "paper",
          "y": 0.465,
          "yanchor": "bottom",
          "yref": "paper"
         },
         {
          "font": {},
          "showarrow": false,
          "text": "month_created_str=Oct",
          "x": 0.8399999999999999,
          "xanchor": "center",
          "xref": "paper",
          "y": 0.465,
          "yanchor": "bottom",
          "yref": "paper"
         },
         {
          "font": {},
          "showarrow": false,
          "text": "month_created_str=May",
          "x": 0.15999999999999998,
          "xanchor": "center",
          "xref": "paper",
          "y": 0.7325,
          "yanchor": "bottom",
          "yref": "paper"
         },
         {
          "font": {},
          "showarrow": false,
          "text": "month_created_str=Jun",
          "x": 0.49999999999999994,
          "xanchor": "center",
          "xref": "paper",
          "y": 0.7325,
          "yanchor": "bottom",
          "yref": "paper"
         },
         {
          "font": {},
          "showarrow": false,
          "text": "month_created_str=Jul",
          "x": 0.8399999999999999,
          "xanchor": "center",
          "xref": "paper",
          "y": 0.7325,
          "yanchor": "bottom",
          "yref": "paper"
         },
         {
          "font": {},
          "showarrow": false,
          "text": "month_created_str=Jan",
          "x": 0.15999999999999998,
          "xanchor": "center",
          "xref": "paper",
          "y": 1.0,
          "yanchor": "bottom",
          "yref": "paper"
         },
         {
          "font": {},
          "showarrow": false,
          "text": "month_created_str=Feb",
          "x": 0.49999999999999994,
          "xanchor": "center",
          "xref": "paper",
          "y": 1.0,
          "yanchor": "bottom",
          "yref": "paper"
         },
         {
          "font": {},
          "showarrow": false,
          "text": "month_created_str=Apr",
          "x": 0.8399999999999999,
          "xanchor": "center",
          "xref": "paper",
          "y": 1.0,
          "yanchor": "bottom",
          "yref": "paper"
         }
        ],
        "legend": {
         "title": {
          "text": "variable"
         },
         "tracegroupgap": 0
        },
        "margin": {
         "t": 60
        }
       },
       "config": {
        "plotlyServerURL": "https://plot.ly"
       }
      },
      "text/html": "<div>                            <div id=\"6d24465e-6923-4593-9c91-1d501cc419b1\" class=\"plotly-graph-div\" style=\"height:525px; width:100%;\"></div>            <script type=\"text/javascript\">                require([\"plotly\"], function(Plotly) {                    window.PLOTLYENV=window.PLOTLYENV || {};                                    if (document.getElementById(\"6d24465e-6923-4593-9c91-1d501cc419b1\")) {                    Plotly.newPlot(                        \"6d24465e-6923-4593-9c91-1d501cc419b1\",                        [{\"fillpattern\":{\"shape\":\"\"},\"hovertemplate\":\"variable=count<br>month_created_str=Jan<br>day_created=%{x}<br>value=%{y}<extra></extra>\",\"legendgroup\":\"count\",\"line\":{\"color\":\"#0d0887\"},\"marker\":{\"symbol\":\"circle\"},\"mode\":\"lines\",\"name\":\"count\",\"orientation\":\"v\",\"showlegend\":true,\"stackgroup\":\"1\",\"x\":[7,21,6,17,19,26,27],\"xaxis\":\"x10\",\"y\":[1,1,1,5,1,1,2],\"yaxis\":\"y10\",\"type\":\"scatter\"},{\"fillpattern\":{\"shape\":\"\"},\"hovertemplate\":\"variable=count<br>month_created_str=Feb<br>day_created=%{x}<br>value=%{y}<extra></extra>\",\"legendgroup\":\"count\",\"line\":{\"color\":\"#0d0887\"},\"marker\":{\"symbol\":\"circle\"},\"mode\":\"lines\",\"name\":\"count\",\"orientation\":\"v\",\"showlegend\":false,\"stackgroup\":\"1\",\"x\":[15],\"xaxis\":\"x11\",\"y\":[1],\"yaxis\":\"y11\",\"type\":\"scatter\"},{\"fillpattern\":{\"shape\":\"\"},\"hovertemplate\":\"variable=count<br>month_created_str=Apr<br>day_created=%{x}<br>value=%{y}<extra></extra>\",\"legendgroup\":\"count\",\"line\":{\"color\":\"#0d0887\"},\"marker\":{\"symbol\":\"circle\"},\"mode\":\"lines\",\"name\":\"count\",\"orientation\":\"v\",\"showlegend\":false,\"stackgroup\":\"1\",\"x\":[8,28,29],\"xaxis\":\"x12\",\"y\":[1,1,2],\"yaxis\":\"y12\",\"type\":\"scatter\"},{\"fillpattern\":{\"shape\":\"\"},\"hovertemplate\":\"variable=count<br>month_created_str=May<br>day_created=%{x}<br>value=%{y}<extra></extra>\",\"legendgroup\":\"count\",\"line\":{\"color\":\"#0d0887\"},\"marker\":{\"symbol\":\"circle\"},\"mode\":\"lines\",\"name\":\"count\",\"orientation\":\"v\",\"showlegend\":false,\"stackgroup\":\"1\",\"x\":[17,27,29,31],\"xaxis\":\"x7\",\"y\":[1,1,5,1],\"yaxis\":\"y7\",\"type\":\"scatter\"},{\"fillpattern\":{\"shape\":\"\"},\"hovertemplate\":\"variable=count<br>month_created_str=Jun<br>day_created=%{x}<br>value=%{y}<extra></extra>\",\"legendgroup\":\"count\",\"line\":{\"color\":\"#0d0887\"},\"marker\":{\"symbol\":\"circle\"},\"mode\":\"lines\",\"name\":\"count\",\"orientation\":\"v\",\"showlegend\":false,\"stackgroup\":\"1\",\"x\":[2,3,4,7,11,15,16,22,24],\"xaxis\":\"x8\",\"y\":[3,14,18,1,12,2,6,1,2],\"yaxis\":\"y8\",\"type\":\"scatter\"},{\"fillpattern\":{\"shape\":\"\"},\"hovertemplate\":\"variable=count<br>month_created_str=Jul<br>day_created=%{x}<br>value=%{y}<extra></extra>\",\"legendgroup\":\"count\",\"line\":{\"color\":\"#0d0887\"},\"marker\":{\"symbol\":\"circle\"},\"mode\":\"lines\",\"name\":\"count\",\"orientation\":\"v\",\"showlegend\":false,\"stackgroup\":\"1\",\"x\":[2,5,14,20,21,22,26,28,29,30],\"xaxis\":\"x9\",\"y\":[1,1,1,2,1,1,6,2,2,1],\"yaxis\":\"y9\",\"type\":\"scatter\"},{\"fillpattern\":{\"shape\":\"\"},\"hovertemplate\":\"variable=count<br>month_created_str=Aug<br>day_created=%{x}<br>value=%{y}<extra></extra>\",\"legendgroup\":\"count\",\"line\":{\"color\":\"#0d0887\"},\"marker\":{\"symbol\":\"circle\"},\"mode\":\"lines\",\"name\":\"count\",\"orientation\":\"v\",\"showlegend\":false,\"stackgroup\":\"1\",\"x\":[2,3,4,6,9,10,12,16,17,19,23,25,26,30,31],\"xaxis\":\"x4\",\"y\":[1,2,1,1,2,5,1,2,1,2,1,2,1,4,4],\"yaxis\":\"y4\",\"type\":\"scatter\"},{\"fillpattern\":{\"shape\":\"\"},\"hovertemplate\":\"variable=count<br>month_created_str=Sep<br>day_created=%{x}<br>value=%{y}<extra></extra>\",\"legendgroup\":\"count\",\"line\":{\"color\":\"#0d0887\"},\"marker\":{\"symbol\":\"circle\"},\"mode\":\"lines\",\"name\":\"count\",\"orientation\":\"v\",\"showlegend\":false,\"stackgroup\":\"1\",\"x\":[1,2,3,7,8,9,10,13,14,15,16,20,21,22,23,24,27,28,29],\"xaxis\":\"x5\",\"y\":[10,7,4,2,2,4,2,1,5,9,1,3,10,7,1,3,3,3,1],\"yaxis\":\"y5\",\"type\":\"scatter\"},{\"fillpattern\":{\"shape\":\"\"},\"hovertemplate\":\"variable=count<br>month_created_str=Oct<br>day_created=%{x}<br>value=%{y}<extra></extra>\",\"legendgroup\":\"count\",\"line\":{\"color\":\"#0d0887\"},\"marker\":{\"symbol\":\"circle\"},\"mode\":\"lines\",\"name\":\"count\",\"orientation\":\"v\",\"showlegend\":false,\"stackgroup\":\"1\",\"x\":[1,4,5,6,7,11,12,15,19,21,27,28,29],\"xaxis\":\"x6\",\"y\":[4,5,3,8,4,1,1,1,2,2,1,1,3],\"yaxis\":\"y6\",\"type\":\"scatter\"},{\"fillpattern\":{\"shape\":\"\"},\"hovertemplate\":\"variable=count<br>month_created_str=Nov<br>day_created=%{x}<br>value=%{y}<extra></extra>\",\"legendgroup\":\"count\",\"line\":{\"color\":\"#0d0887\"},\"marker\":{\"symbol\":\"circle\"},\"mode\":\"lines\",\"name\":\"count\",\"orientation\":\"v\",\"showlegend\":false,\"stackgroup\":\"1\",\"x\":[4,5,7,8,9,10,11,12,15,16,17,18,22,23,24,25,29,30],\"xaxis\":\"x\",\"y\":[1,1,1,7,1,1,12,15,2,6,7,4,8,1,2,2,1,20],\"yaxis\":\"y\",\"type\":\"scatter\"},{\"fillpattern\":{\"shape\":\"\"},\"hovertemplate\":\"variable=count<br>month_created_str=Dec<br>day_created=%{x}<br>value=%{y}<extra></extra>\",\"legendgroup\":\"count\",\"line\":{\"color\":\"#0d0887\"},\"marker\":{\"symbol\":\"circle\"},\"mode\":\"lines\",\"name\":\"count\",\"orientation\":\"v\",\"showlegend\":false,\"stackgroup\":\"1\",\"x\":[1,2,3,6,9,14,15,16,17,20,22,23,24,27,28,29,30,31],\"xaxis\":\"x2\",\"y\":[5,5,5,3,1,2,7,17,7,5,3,2,1,1,2,1,4,1],\"yaxis\":\"y2\",\"type\":\"scatter\"}],                        {\"template\":{\"data\":{\"histogram2dcontour\":[{\"type\":\"histogram2dcontour\",\"colorbar\":{\"outlinewidth\":0,\"ticks\":\"\"},\"colorscale\":[[0.0,\"#0d0887\"],[0.1111111111111111,\"#46039f\"],[0.2222222222222222,\"#7201a8\"],[0.3333333333333333,\"#9c179e\"],[0.4444444444444444,\"#bd3786\"],[0.5555555555555556,\"#d8576b\"],[0.6666666666666666,\"#ed7953\"],[0.7777777777777778,\"#fb9f3a\"],[0.8888888888888888,\"#fdca26\"],[1.0,\"#f0f921\"]]}],\"choropleth\":[{\"type\":\"choropleth\",\"colorbar\":{\"outlinewidth\":0,\"ticks\":\"\"}}],\"histogram2d\":[{\"type\":\"histogram2d\",\"colorbar\":{\"outlinewidth\":0,\"ticks\":\"\"},\"colorscale\":[[0.0,\"#0d0887\"],[0.1111111111111111,\"#46039f\"],[0.2222222222222222,\"#7201a8\"],[0.3333333333333333,\"#9c179e\"],[0.4444444444444444,\"#bd3786\"],[0.5555555555555556,\"#d8576b\"],[0.6666666666666666,\"#ed7953\"],[0.7777777777777778,\"#fb9f3a\"],[0.8888888888888888,\"#fdca26\"],[1.0,\"#f0f921\"]]}],\"heatmap\":[{\"type\":\"heatmap\",\"colorbar\":{\"outlinewidth\":0,\"ticks\":\"\"},\"colorscale\":[[0.0,\"#0d0887\"],[0.1111111111111111,\"#46039f\"],[0.2222222222222222,\"#7201a8\"],[0.3333333333333333,\"#9c179e\"],[0.4444444444444444,\"#bd3786\"],[0.5555555555555556,\"#d8576b\"],[0.6666666666666666,\"#ed7953\"],[0.7777777777777778,\"#fb9f3a\"],[0.8888888888888888,\"#fdca26\"],[1.0,\"#f0f921\"]]}],\"heatmapgl\":[{\"type\":\"heatmapgl\",\"colorbar\":{\"outlinewidth\":0,\"ticks\":\"\"},\"colorscale\":[[0.0,\"#0d0887\"],[0.1111111111111111,\"#46039f\"],[0.2222222222222222,\"#7201a8\"],[0.3333333333333333,\"#9c179e\"],[0.4444444444444444,\"#bd3786\"],[0.5555555555555556,\"#d8576b\"],[0.6666666666666666,\"#ed7953\"],[0.7777777777777778,\"#fb9f3a\"],[0.8888888888888888,\"#fdca26\"],[1.0,\"#f0f921\"]]}],\"contourcarpet\":[{\"type\":\"contourcarpet\",\"colorbar\":{\"outlinewidth\":0,\"ticks\":\"\"}}],\"contour\":[{\"type\":\"contour\",\"colorbar\":{\"outlinewidth\":0,\"ticks\":\"\"},\"colorscale\":[[0.0,\"#0d0887\"],[0.1111111111111111,\"#46039f\"],[0.2222222222222222,\"#7201a8\"],[0.3333333333333333,\"#9c179e\"],[0.4444444444444444,\"#bd3786\"],[0.5555555555555556,\"#d8576b\"],[0.6666666666666666,\"#ed7953\"],[0.7777777777777778,\"#fb9f3a\"],[0.8888888888888888,\"#fdca26\"],[1.0,\"#f0f921\"]]}],\"surface\":[{\"type\":\"surface\",\"colorbar\":{\"outlinewidth\":0,\"ticks\":\"\"},\"colorscale\":[[0.0,\"#0d0887\"],[0.1111111111111111,\"#46039f\"],[0.2222222222222222,\"#7201a8\"],[0.3333333333333333,\"#9c179e\"],[0.4444444444444444,\"#bd3786\"],[0.5555555555555556,\"#d8576b\"],[0.6666666666666666,\"#ed7953\"],[0.7777777777777778,\"#fb9f3a\"],[0.8888888888888888,\"#fdca26\"],[1.0,\"#f0f921\"]]}],\"mesh3d\":[{\"type\":\"mesh3d\",\"colorbar\":{\"outlinewidth\":0,\"ticks\":\"\"}}],\"scatter\":[{\"marker\":{\"line\":{\"color\":\"#283442\"}},\"type\":\"scatter\"}],\"parcoords\":[{\"type\":\"parcoords\",\"line\":{\"colorbar\":{\"outlinewidth\":0,\"ticks\":\"\"}}}],\"scatterpolargl\":[{\"type\":\"scatterpolargl\",\"marker\":{\"colorbar\":{\"outlinewidth\":0,\"ticks\":\"\"}}}],\"bar\":[{\"error_x\":{\"color\":\"#f2f5fa\"},\"error_y\":{\"color\":\"#f2f5fa\"},\"marker\":{\"line\":{\"color\":\"rgb(17,17,17)\",\"width\":0.5},\"pattern\":{\"fillmode\":\"overlay\",\"size\":10,\"solidity\":0.2}},\"type\":\"bar\"}],\"scattergeo\":[{\"type\":\"scattergeo\",\"marker\":{\"colorbar\":{\"outlinewidth\":0,\"ticks\":\"\"}}}],\"scatterpolar\":[{\"type\":\"scatterpolar\",\"marker\":{\"colorbar\":{\"outlinewidth\":0,\"ticks\":\"\"}}}],\"histogram\":[{\"marker\":{\"pattern\":{\"fillmode\":\"overlay\",\"size\":10,\"solidity\":0.2}},\"type\":\"histogram\"}],\"scattergl\":[{\"marker\":{\"line\":{\"color\":\"#283442\"}},\"type\":\"scattergl\"}],\"scatter3d\":[{\"type\":\"scatter3d\",\"line\":{\"colorbar\":{\"outlinewidth\":0,\"ticks\":\"\"}},\"marker\":{\"colorbar\":{\"outlinewidth\":0,\"ticks\":\"\"}}}],\"scattermapbox\":[{\"type\":\"scattermapbox\",\"marker\":{\"colorbar\":{\"outlinewidth\":0,\"ticks\":\"\"}}}],\"scatterternary\":[{\"type\":\"scatterternary\",\"marker\":{\"colorbar\":{\"outlinewidth\":0,\"ticks\":\"\"}}}],\"scattercarpet\":[{\"type\":\"scattercarpet\",\"marker\":{\"colorbar\":{\"outlinewidth\":0,\"ticks\":\"\"}}}],\"carpet\":[{\"aaxis\":{\"endlinecolor\":\"#A2B1C6\",\"gridcolor\":\"#506784\",\"linecolor\":\"#506784\",\"minorgridcolor\":\"#506784\",\"startlinecolor\":\"#A2B1C6\"},\"baxis\":{\"endlinecolor\":\"#A2B1C6\",\"gridcolor\":\"#506784\",\"linecolor\":\"#506784\",\"minorgridcolor\":\"#506784\",\"startlinecolor\":\"#A2B1C6\"},\"type\":\"carpet\"}],\"table\":[{\"cells\":{\"fill\":{\"color\":\"#506784\"},\"line\":{\"color\":\"rgb(17,17,17)\"}},\"header\":{\"fill\":{\"color\":\"#2a3f5f\"},\"line\":{\"color\":\"rgb(17,17,17)\"}},\"type\":\"table\"}],\"barpolar\":[{\"marker\":{\"line\":{\"color\":\"rgb(17,17,17)\",\"width\":0.5},\"pattern\":{\"fillmode\":\"overlay\",\"size\":10,\"solidity\":0.2}},\"type\":\"barpolar\"}],\"pie\":[{\"automargin\":true,\"type\":\"pie\"}]},\"layout\":{\"autotypenumbers\":\"strict\",\"colorway\":[\"#636efa\",\"#EF553B\",\"#00cc96\",\"#ab63fa\",\"#FFA15A\",\"#19d3f3\",\"#FF6692\",\"#B6E880\",\"#FF97FF\",\"#FECB52\"],\"font\":{\"color\":\"#f2f5fa\"},\"hovermode\":\"closest\",\"hoverlabel\":{\"align\":\"left\"},\"paper_bgcolor\":\"rgb(17,17,17)\",\"plot_bgcolor\":\"rgb(17,17,17)\",\"polar\":{\"bgcolor\":\"rgb(17,17,17)\",\"angularaxis\":{\"gridcolor\":\"#506784\",\"linecolor\":\"#506784\",\"ticks\":\"\"},\"radialaxis\":{\"gridcolor\":\"#506784\",\"linecolor\":\"#506784\",\"ticks\":\"\"}},\"ternary\":{\"bgcolor\":\"rgb(17,17,17)\",\"aaxis\":{\"gridcolor\":\"#506784\",\"linecolor\":\"#506784\",\"ticks\":\"\"},\"baxis\":{\"gridcolor\":\"#506784\",\"linecolor\":\"#506784\",\"ticks\":\"\"},\"caxis\":{\"gridcolor\":\"#506784\",\"linecolor\":\"#506784\",\"ticks\":\"\"}},\"coloraxis\":{\"colorbar\":{\"outlinewidth\":0,\"ticks\":\"\"}},\"colorscale\":{\"sequential\":[[0.0,\"#0d0887\"],[0.1111111111111111,\"#46039f\"],[0.2222222222222222,\"#7201a8\"],[0.3333333333333333,\"#9c179e\"],[0.4444444444444444,\"#bd3786\"],[0.5555555555555556,\"#d8576b\"],[0.6666666666666666,\"#ed7953\"],[0.7777777777777778,\"#fb9f3a\"],[0.8888888888888888,\"#fdca26\"],[1.0,\"#f0f921\"]],\"sequentialminus\":[[0.0,\"#0d0887\"],[0.1111111111111111,\"#46039f\"],[0.2222222222222222,\"#7201a8\"],[0.3333333333333333,\"#9c179e\"],[0.4444444444444444,\"#bd3786\"],[0.5555555555555556,\"#d8576b\"],[0.6666666666666666,\"#ed7953\"],[0.7777777777777778,\"#fb9f3a\"],[0.8888888888888888,\"#fdca26\"],[1.0,\"#f0f921\"]],\"diverging\":[[0,\"#8e0152\"],[0.1,\"#c51b7d\"],[0.2,\"#de77ae\"],[0.3,\"#f1b6da\"],[0.4,\"#fde0ef\"],[0.5,\"#f7f7f7\"],[0.6,\"#e6f5d0\"],[0.7,\"#b8e186\"],[0.8,\"#7fbc41\"],[0.9,\"#4d9221\"],[1,\"#276419\"]]},\"xaxis\":{\"gridcolor\":\"#283442\",\"linecolor\":\"#506784\",\"ticks\":\"\",\"title\":{\"standoff\":15},\"zerolinecolor\":\"#283442\",\"automargin\":true,\"zerolinewidth\":2},\"yaxis\":{\"gridcolor\":\"#283442\",\"linecolor\":\"#506784\",\"ticks\":\"\",\"title\":{\"standoff\":15},\"zerolinecolor\":\"#283442\",\"automargin\":true,\"zerolinewidth\":2},\"scene\":{\"xaxis\":{\"backgroundcolor\":\"rgb(17,17,17)\",\"gridcolor\":\"#506784\",\"linecolor\":\"#506784\",\"showbackground\":true,\"ticks\":\"\",\"zerolinecolor\":\"#C8D4E3\",\"gridwidth\":2},\"yaxis\":{\"backgroundcolor\":\"rgb(17,17,17)\",\"gridcolor\":\"#506784\",\"linecolor\":\"#506784\",\"showbackground\":true,\"ticks\":\"\",\"zerolinecolor\":\"#C8D4E3\",\"gridwidth\":2},\"zaxis\":{\"backgroundcolor\":\"rgb(17,17,17)\",\"gridcolor\":\"#506784\",\"linecolor\":\"#506784\",\"showbackground\":true,\"ticks\":\"\",\"zerolinecolor\":\"#C8D4E3\",\"gridwidth\":2}},\"shapedefaults\":{\"line\":{\"color\":\"#f2f5fa\"}},\"annotationdefaults\":{\"arrowcolor\":\"#f2f5fa\",\"arrowhead\":0,\"arrowwidth\":1},\"geo\":{\"bgcolor\":\"rgb(17,17,17)\",\"landcolor\":\"rgb(17,17,17)\",\"subunitcolor\":\"#506784\",\"showland\":true,\"showlakes\":true,\"lakecolor\":\"rgb(17,17,17)\"},\"title\":{\"x\":0.05},\"updatemenudefaults\":{\"bgcolor\":\"#506784\",\"borderwidth\":0},\"sliderdefaults\":{\"bgcolor\":\"#C8D4E3\",\"borderwidth\":1,\"bordercolor\":\"rgb(17,17,17)\",\"tickwidth\":0},\"mapbox\":{\"style\":\"dark\"}}},\"xaxis\":{\"anchor\":\"y\",\"domain\":[0.0,0.31999999999999995],\"title\":{\"text\":\"day_created\"}},\"yaxis\":{\"anchor\":\"x\",\"domain\":[0.0,0.1975],\"title\":{\"text\":\"value\"}},\"xaxis2\":{\"anchor\":\"y2\",\"domain\":[0.33999999999999997,0.6599999999999999],\"matches\":\"x\",\"title\":{\"text\":\"day_created\"}},\"yaxis2\":{\"anchor\":\"x2\",\"domain\":[0.0,0.1975],\"matches\":\"y\",\"showticklabels\":false},\"xaxis3\":{\"anchor\":\"y3\",\"domain\":[0.6799999999999999,0.9999999999999999],\"matches\":\"x\",\"title\":{\"text\":\"day_created\"}},\"yaxis3\":{\"anchor\":\"x3\",\"domain\":[0.0,0.1975],\"matches\":\"y\",\"showticklabels\":false},\"xaxis4\":{\"anchor\":\"y4\",\"domain\":[0.0,0.31999999999999995],\"matches\":\"x\",\"showticklabels\":false},\"yaxis4\":{\"anchor\":\"x4\",\"domain\":[0.2675,0.465],\"matches\":\"y\",\"title\":{\"text\":\"value\"}},\"xaxis5\":{\"anchor\":\"y5\",\"domain\":[0.33999999999999997,0.6599999999999999],\"matches\":\"x\",\"showticklabels\":false},\"yaxis5\":{\"anchor\":\"x5\",\"domain\":[0.2675,0.465],\"matches\":\"y\",\"showticklabels\":false},\"xaxis6\":{\"anchor\":\"y6\",\"domain\":[0.6799999999999999,0.9999999999999999],\"matches\":\"x\",\"showticklabels\":false},\"yaxis6\":{\"anchor\":\"x6\",\"domain\":[0.2675,0.465],\"matches\":\"y\",\"showticklabels\":false},\"xaxis7\":{\"anchor\":\"y7\",\"domain\":[0.0,0.31999999999999995],\"matches\":\"x\",\"showticklabels\":false},\"yaxis7\":{\"anchor\":\"x7\",\"domain\":[0.535,0.7325],\"matches\":\"y\",\"title\":{\"text\":\"value\"}},\"xaxis8\":{\"anchor\":\"y8\",\"domain\":[0.33999999999999997,0.6599999999999999],\"matches\":\"x\",\"showticklabels\":false},\"yaxis8\":{\"anchor\":\"x8\",\"domain\":[0.535,0.7325],\"matches\":\"y\",\"showticklabels\":false},\"xaxis9\":{\"anchor\":\"y9\",\"domain\":[0.6799999999999999,0.9999999999999999],\"matches\":\"x\",\"showticklabels\":false},\"yaxis9\":{\"anchor\":\"x9\",\"domain\":[0.535,0.7325],\"matches\":\"y\",\"showticklabels\":false},\"xaxis10\":{\"anchor\":\"y10\",\"domain\":[0.0,0.31999999999999995],\"matches\":\"x\",\"showticklabels\":false},\"yaxis10\":{\"anchor\":\"x10\",\"domain\":[0.8025,1.0],\"matches\":\"y\",\"title\":{\"text\":\"value\"}},\"xaxis11\":{\"anchor\":\"y11\",\"domain\":[0.33999999999999997,0.6599999999999999],\"matches\":\"x\",\"showticklabels\":false},\"yaxis11\":{\"anchor\":\"x11\",\"domain\":[0.8025,1.0],\"matches\":\"y\",\"showticklabels\":false},\"xaxis12\":{\"anchor\":\"y12\",\"domain\":[0.6799999999999999,0.9999999999999999],\"matches\":\"x\",\"showticklabels\":false},\"yaxis12\":{\"anchor\":\"x12\",\"domain\":[0.8025,1.0],\"matches\":\"y\",\"showticklabels\":false},\"annotations\":[{\"font\":{},\"showarrow\":false,\"text\":\"month_created_str=Nov\",\"x\":0.15999999999999998,\"xanchor\":\"center\",\"xref\":\"paper\",\"y\":0.1975,\"yanchor\":\"bottom\",\"yref\":\"paper\"},{\"font\":{},\"showarrow\":false,\"text\":\"month_created_str=Dec\",\"x\":0.49999999999999994,\"xanchor\":\"center\",\"xref\":\"paper\",\"y\":0.1975,\"yanchor\":\"bottom\",\"yref\":\"paper\"},{\"font\":{},\"showarrow\":false,\"text\":\"month_created_str=Aug\",\"x\":0.15999999999999998,\"xanchor\":\"center\",\"xref\":\"paper\",\"y\":0.465,\"yanchor\":\"bottom\",\"yref\":\"paper\"},{\"font\":{},\"showarrow\":false,\"text\":\"month_created_str=Sep\",\"x\":0.49999999999999994,\"xanchor\":\"center\",\"xref\":\"paper\",\"y\":0.465,\"yanchor\":\"bottom\",\"yref\":\"paper\"},{\"font\":{},\"showarrow\":false,\"text\":\"month_created_str=Oct\",\"x\":0.8399999999999999,\"xanchor\":\"center\",\"xref\":\"paper\",\"y\":0.465,\"yanchor\":\"bottom\",\"yref\":\"paper\"},{\"font\":{},\"showarrow\":false,\"text\":\"month_created_str=May\",\"x\":0.15999999999999998,\"xanchor\":\"center\",\"xref\":\"paper\",\"y\":0.7325,\"yanchor\":\"bottom\",\"yref\":\"paper\"},{\"font\":{},\"showarrow\":false,\"text\":\"month_created_str=Jun\",\"x\":0.49999999999999994,\"xanchor\":\"center\",\"xref\":\"paper\",\"y\":0.7325,\"yanchor\":\"bottom\",\"yref\":\"paper\"},{\"font\":{},\"showarrow\":false,\"text\":\"month_created_str=Jul\",\"x\":0.8399999999999999,\"xanchor\":\"center\",\"xref\":\"paper\",\"y\":0.7325,\"yanchor\":\"bottom\",\"yref\":\"paper\"},{\"font\":{},\"showarrow\":false,\"text\":\"month_created_str=Jan\",\"x\":0.15999999999999998,\"xanchor\":\"center\",\"xref\":\"paper\",\"y\":1.0,\"yanchor\":\"bottom\",\"yref\":\"paper\"},{\"font\":{},\"showarrow\":false,\"text\":\"month_created_str=Feb\",\"x\":0.49999999999999994,\"xanchor\":\"center\",\"xref\":\"paper\",\"y\":1.0,\"yanchor\":\"bottom\",\"yref\":\"paper\"},{\"font\":{},\"showarrow\":false,\"text\":\"month_created_str=Apr\",\"x\":0.8399999999999999,\"xanchor\":\"center\",\"xref\":\"paper\",\"y\":1.0,\"yanchor\":\"bottom\",\"yref\":\"paper\"}],\"legend\":{\"title\":{\"text\":\"variable\"},\"tracegroupgap\":0},\"margin\":{\"t\":60}},                        {\"responsive\": true}                    ).then(function(){\n                            \nvar gd = document.getElementById('6d24465e-6923-4593-9c91-1d501cc419b1');\nvar x = new MutationObserver(function (mutations, observer) {{\n        var display = window.getComputedStyle(gd).display;\n        if (!display || display === 'none') {{\n            console.log([gd, 'removed!']);\n            Plotly.purge(gd);\n            observer.disconnect();\n        }}\n}});\n\n// Listen for the removal of the full notebook cells\nvar notebookContainer = gd.closest('#notebook-container');\nif (notebookContainer) {{\n    x.observe(notebookContainer, {childList: true});\n}}\n\n// Listen for the clearing of the current output cell\nvar outputEl = gd.closest('.output');\nif (outputEl) {{\n    x.observe(outputEl, {childList: true});\n}}\n\n                        })                };                });            </script>        </div>"
     },
     "metadata": {},
     "output_type": "display_data"
    }
   ],
   "source": [
    "\n",
    "import plotly.express as px\n",
    "\n",
    "\n",
    "fig = px.area(df1, facet_col=\"month_created_str\", facet_col_wrap=3, color_discrete_sequence=px.colors.sequential.Plasma)\n",
    "fig.show()"
   ],
   "metadata": {
    "collapsed": false,
    "pycharm": {
     "name": "#%%\n"
    }
   }
  },
  {
   "cell_type": "code",
   "execution_count": 111,
   "outputs": [
    {
     "data": {
      "text/plain": "             month_created  count\nday_created                      \n7                        1      1\n21                       1      1\n15                       2      1\n8                        4      1\n28                       4      1\n...                    ...    ...\n6                        1      1\n17                       1      5\n19                       1      1\n26                       1      1\n27                       1      2\n\n[117 rows x 2 columns]",
      "text/html": "<div>\n<style scoped>\n    .dataframe tbody tr th:only-of-type {\n        vertical-align: middle;\n    }\n\n    .dataframe tbody tr th {\n        vertical-align: top;\n    }\n\n    .dataframe thead th {\n        text-align: right;\n    }\n</style>\n<table border=\"1\" class=\"dataframe\">\n  <thead>\n    <tr style=\"text-align: right;\">\n      <th></th>\n      <th>month_created</th>\n      <th>count</th>\n    </tr>\n    <tr>\n      <th>day_created</th>\n      <th></th>\n      <th></th>\n    </tr>\n  </thead>\n  <tbody>\n    <tr>\n      <th>7</th>\n      <td>1</td>\n      <td>1</td>\n    </tr>\n    <tr>\n      <th>21</th>\n      <td>1</td>\n      <td>1</td>\n    </tr>\n    <tr>\n      <th>15</th>\n      <td>2</td>\n      <td>1</td>\n    </tr>\n    <tr>\n      <th>8</th>\n      <td>4</td>\n      <td>1</td>\n    </tr>\n    <tr>\n      <th>28</th>\n      <td>4</td>\n      <td>1</td>\n    </tr>\n    <tr>\n      <th>...</th>\n      <td>...</td>\n      <td>...</td>\n    </tr>\n    <tr>\n      <th>6</th>\n      <td>1</td>\n      <td>1</td>\n    </tr>\n    <tr>\n      <th>17</th>\n      <td>1</td>\n      <td>5</td>\n    </tr>\n    <tr>\n      <th>19</th>\n      <td>1</td>\n      <td>1</td>\n    </tr>\n    <tr>\n      <th>26</th>\n      <td>1</td>\n      <td>1</td>\n    </tr>\n    <tr>\n      <th>27</th>\n      <td>1</td>\n      <td>2</td>\n    </tr>\n  </tbody>\n</table>\n<p>117 rows × 2 columns</p>\n</div>"
     },
     "execution_count": 111,
     "metadata": {},
     "output_type": "execute_result"
    }
   ],
   "source": [
    "df1"
   ],
   "metadata": {
    "collapsed": false,
    "pycharm": {
     "name": "#%%\n"
    }
   }
  },
  {
   "cell_type": "code",
   "execution_count": 5,
   "outputs": [
    {
     "data": {
      "text/plain": "                            _id  Unnamed: 0  order_id  customer_id  \\\n0      6267ec705b0da65f8048f48a           0       100            1   \n1      6267ec705b0da65f8048f48b           1       102            2   \n2      6267ec705b0da65f8048f48c           2       103            0   \n3      6267ec705b0da65f8048f48d           3       104            0   \n4      6267ec705b0da65f8048f48e           4       105            0   \n...                         ...         ...       ...          ...   \n13412  6267ec705b0da65f804928ee       13412     13260            0   \n13413  6267ec705b0da65f804928ef       13413     13261       136855   \n13414  6267ec705b0da65f804928f0       13414     13262        14179   \n13415  6267ec705b0da65f804928f1       13415     13263       110164   \n13416  6267ec705b0da65f804928f2       13416     13264       143702   \n\n                          date_created                    date_modified  \\\n0      Tue, 05 Mar 2019 19:17:35 +0000  Mon, 24 Jun 2019 14:10:30 +0000   \n1      Tue, 28 May 2019 22:50:31 +0000  Mon, 24 Jun 2019 14:10:27 +0000   \n2      Fri, 21 Jun 2019 12:35:07 +0000  Fri, 22 Nov 2019 09:14:28 +0000   \n3      Fri, 21 Jun 2019 20:28:22 +0000  Fri, 22 Nov 2019 09:14:29 +0000   \n4      Fri, 21 Jun 2019 20:28:22 +0000  Thu, 27 Jun 2019 20:11:08 +0000   \n...                                ...                              ...   \n13412  Fri, 31 Dec 2021 17:13:42 +0000  Fri, 07 Jan 2022 20:26:12 +0000   \n13413  Fri, 31 Dec 2021 17:13:46 +0000  Fri, 07 Jan 2022 20:26:12 +0000   \n13414  Fri, 31 Dec 2021 17:13:53 +0000  Fri, 07 Jan 2022 20:26:12 +0000   \n13415  Fri, 31 Dec 2021 17:13:54 +0000  Fri, 07 Jan 2022 20:25:58 +0000   \n13416  Fri, 31 Dec 2021 17:13:54 +0000  Fri, 07 Jan 2022 20:25:58 +0000   \n\n                          date_shipped  status_id     status  subtotal_ex_tax  \\\n0      Tue, 23 Apr 2019 16:11:34 +0000          5  Cancelled            49.00   \n1                                  NaN          5  Cancelled           149.99   \n2      Fri, 22 Nov 2019 09:14:28 +0000         10  Completed             9.99   \n3      Fri, 22 Nov 2019 09:14:29 +0000         10  Completed             0.00   \n4      Thu, 27 Jun 2019 20:11:08 +0000         10  Completed           149.00   \n...                                ...        ...        ...              ...   \n13412  Fri, 07 Jan 2022 20:26:12 +0000          2    Shipped            20.00   \n13413  Fri, 07 Jan 2022 20:26:12 +0000          2    Shipped            20.00   \n13414  Fri, 07 Jan 2022 20:26:12 +0000          2    Shipped            20.00   \n13415  Fri, 07 Jan 2022 20:25:58 +0000          2    Shipped            20.00   \n13416  Fri, 07 Jan 2022 20:25:58 +0000          2    Shipped            20.00   \n\n       ...  ebay_transaction_id  option_set_id  parent_order_product_id  \\\n0      ...                  NaN           14.0                      NaN   \n1      ...                  NaN            NaN                      NaN   \n2      ...                  NaN            NaN                      NaN   \n3      ...                  NaN            NaN                      NaN   \n4      ...                  NaN            NaN                      NaN   \n...    ...                  ...            ...                      ...   \n13412  ...                  NaN         1238.0                      NaN   \n13413  ...                  NaN         1238.0                      NaN   \n13414  ...                  NaN         1238.0                      NaN   \n13415  ...                  NaN         1238.0                      NaN   \n13416  ...                  NaN         1238.0                      NaN   \n\n       is_bundled_product  bin_picking_number  external_id_y  \\\n0                   False                 NaN            NaN   \n1                   False                 NaN            NaN   \n2                   False                 NaN            NaN   \n3                   False                 NaN            NaN   \n4                   False                 NaN            NaN   \n...                   ...                 ...            ...   \n13412               False                 NaN            NaN   \n13413               False                 NaN            NaN   \n13414               False                 NaN            NaN   \n13415               False                 NaN            NaN   \n13416               False                 NaN            NaN   \n\n       fulfillment_source  applied_discounts  \\\n0                     NaN                 []   \n1                     NaN                 []   \n2                     NaN                 []   \n3                     NaN                 []   \n4                     NaN                 []   \n...                   ...                ...   \n13412                 NaN                 []   \n13413                 NaN                 []   \n13414                 NaN                 []   \n13415                 NaN                 []   \n13416                 NaN                 []   \n\n                                         product_options  configurable_fields  \n0      [{'id': 1, 'option_id': 18, 'order_product_id'...                   []  \n1                                                     []                   []  \n2                                                     []                   []  \n3                                                     []                   []  \n4                                                     []                   []  \n...                                                  ...                  ...  \n13412  [{'id': 9513, 'option_id': 1273, 'order_produc...                   []  \n13413  [{'id': 9514, 'option_id': 1273, 'order_produc...                   []  \n13414  [{'id': 9515, 'option_id': 1273, 'order_produc...                   []  \n13415  [{'id': 9516, 'option_id': 1273, 'order_produc...                   []  \n13416  [{'id': 9517, 'option_id': 1273, 'order_produc...                   []  \n\n[13417 rows x 133 columns]",
      "text/html": "<div>\n<style scoped>\n    .dataframe tbody tr th:only-of-type {\n        vertical-align: middle;\n    }\n\n    .dataframe tbody tr th {\n        vertical-align: top;\n    }\n\n    .dataframe thead th {\n        text-align: right;\n    }\n</style>\n<table border=\"1\" class=\"dataframe\">\n  <thead>\n    <tr style=\"text-align: right;\">\n      <th></th>\n      <th>_id</th>\n      <th>Unnamed: 0</th>\n      <th>order_id</th>\n      <th>customer_id</th>\n      <th>date_created</th>\n      <th>date_modified</th>\n      <th>date_shipped</th>\n      <th>status_id</th>\n      <th>status</th>\n      <th>subtotal_ex_tax</th>\n      <th>...</th>\n      <th>ebay_transaction_id</th>\n      <th>option_set_id</th>\n      <th>parent_order_product_id</th>\n      <th>is_bundled_product</th>\n      <th>bin_picking_number</th>\n      <th>external_id_y</th>\n      <th>fulfillment_source</th>\n      <th>applied_discounts</th>\n      <th>product_options</th>\n      <th>configurable_fields</th>\n    </tr>\n  </thead>\n  <tbody>\n    <tr>\n      <th>0</th>\n      <td>6267ec705b0da65f8048f48a</td>\n      <td>0</td>\n      <td>100</td>\n      <td>1</td>\n      <td>Tue, 05 Mar 2019 19:17:35 +0000</td>\n      <td>Mon, 24 Jun 2019 14:10:30 +0000</td>\n      <td>Tue, 23 Apr 2019 16:11:34 +0000</td>\n      <td>5</td>\n      <td>Cancelled</td>\n      <td>49.00</td>\n      <td>...</td>\n      <td>NaN</td>\n      <td>14.0</td>\n      <td>NaN</td>\n      <td>False</td>\n      <td>NaN</td>\n      <td>NaN</td>\n      <td>NaN</td>\n      <td>[]</td>\n      <td>[{'id': 1, 'option_id': 18, 'order_product_id'...</td>\n      <td>[]</td>\n    </tr>\n    <tr>\n      <th>1</th>\n      <td>6267ec705b0da65f8048f48b</td>\n      <td>1</td>\n      <td>102</td>\n      <td>2</td>\n      <td>Tue, 28 May 2019 22:50:31 +0000</td>\n      <td>Mon, 24 Jun 2019 14:10:27 +0000</td>\n      <td>NaN</td>\n      <td>5</td>\n      <td>Cancelled</td>\n      <td>149.99</td>\n      <td>...</td>\n      <td>NaN</td>\n      <td>NaN</td>\n      <td>NaN</td>\n      <td>False</td>\n      <td>NaN</td>\n      <td>NaN</td>\n      <td>NaN</td>\n      <td>[]</td>\n      <td>[]</td>\n      <td>[]</td>\n    </tr>\n    <tr>\n      <th>2</th>\n      <td>6267ec705b0da65f8048f48c</td>\n      <td>2</td>\n      <td>103</td>\n      <td>0</td>\n      <td>Fri, 21 Jun 2019 12:35:07 +0000</td>\n      <td>Fri, 22 Nov 2019 09:14:28 +0000</td>\n      <td>Fri, 22 Nov 2019 09:14:28 +0000</td>\n      <td>10</td>\n      <td>Completed</td>\n      <td>9.99</td>\n      <td>...</td>\n      <td>NaN</td>\n      <td>NaN</td>\n      <td>NaN</td>\n      <td>False</td>\n      <td>NaN</td>\n      <td>NaN</td>\n      <td>NaN</td>\n      <td>[]</td>\n      <td>[]</td>\n      <td>[]</td>\n    </tr>\n    <tr>\n      <th>3</th>\n      <td>6267ec705b0da65f8048f48d</td>\n      <td>3</td>\n      <td>104</td>\n      <td>0</td>\n      <td>Fri, 21 Jun 2019 20:28:22 +0000</td>\n      <td>Fri, 22 Nov 2019 09:14:29 +0000</td>\n      <td>Fri, 22 Nov 2019 09:14:29 +0000</td>\n      <td>10</td>\n      <td>Completed</td>\n      <td>0.00</td>\n      <td>...</td>\n      <td>NaN</td>\n      <td>NaN</td>\n      <td>NaN</td>\n      <td>False</td>\n      <td>NaN</td>\n      <td>NaN</td>\n      <td>NaN</td>\n      <td>[]</td>\n      <td>[]</td>\n      <td>[]</td>\n    </tr>\n    <tr>\n      <th>4</th>\n      <td>6267ec705b0da65f8048f48e</td>\n      <td>4</td>\n      <td>105</td>\n      <td>0</td>\n      <td>Fri, 21 Jun 2019 20:28:22 +0000</td>\n      <td>Thu, 27 Jun 2019 20:11:08 +0000</td>\n      <td>Thu, 27 Jun 2019 20:11:08 +0000</td>\n      <td>10</td>\n      <td>Completed</td>\n      <td>149.00</td>\n      <td>...</td>\n      <td>NaN</td>\n      <td>NaN</td>\n      <td>NaN</td>\n      <td>False</td>\n      <td>NaN</td>\n      <td>NaN</td>\n      <td>NaN</td>\n      <td>[]</td>\n      <td>[]</td>\n      <td>[]</td>\n    </tr>\n    <tr>\n      <th>...</th>\n      <td>...</td>\n      <td>...</td>\n      <td>...</td>\n      <td>...</td>\n      <td>...</td>\n      <td>...</td>\n      <td>...</td>\n      <td>...</td>\n      <td>...</td>\n      <td>...</td>\n      <td>...</td>\n      <td>...</td>\n      <td>...</td>\n      <td>...</td>\n      <td>...</td>\n      <td>...</td>\n      <td>...</td>\n      <td>...</td>\n      <td>...</td>\n      <td>...</td>\n      <td>...</td>\n    </tr>\n    <tr>\n      <th>13412</th>\n      <td>6267ec705b0da65f804928ee</td>\n      <td>13412</td>\n      <td>13260</td>\n      <td>0</td>\n      <td>Fri, 31 Dec 2021 17:13:42 +0000</td>\n      <td>Fri, 07 Jan 2022 20:26:12 +0000</td>\n      <td>Fri, 07 Jan 2022 20:26:12 +0000</td>\n      <td>2</td>\n      <td>Shipped</td>\n      <td>20.00</td>\n      <td>...</td>\n      <td>NaN</td>\n      <td>1238.0</td>\n      <td>NaN</td>\n      <td>False</td>\n      <td>NaN</td>\n      <td>NaN</td>\n      <td>NaN</td>\n      <td>[]</td>\n      <td>[{'id': 9513, 'option_id': 1273, 'order_produc...</td>\n      <td>[]</td>\n    </tr>\n    <tr>\n      <th>13413</th>\n      <td>6267ec705b0da65f804928ef</td>\n      <td>13413</td>\n      <td>13261</td>\n      <td>136855</td>\n      <td>Fri, 31 Dec 2021 17:13:46 +0000</td>\n      <td>Fri, 07 Jan 2022 20:26:12 +0000</td>\n      <td>Fri, 07 Jan 2022 20:26:12 +0000</td>\n      <td>2</td>\n      <td>Shipped</td>\n      <td>20.00</td>\n      <td>...</td>\n      <td>NaN</td>\n      <td>1238.0</td>\n      <td>NaN</td>\n      <td>False</td>\n      <td>NaN</td>\n      <td>NaN</td>\n      <td>NaN</td>\n      <td>[]</td>\n      <td>[{'id': 9514, 'option_id': 1273, 'order_produc...</td>\n      <td>[]</td>\n    </tr>\n    <tr>\n      <th>13414</th>\n      <td>6267ec705b0da65f804928f0</td>\n      <td>13414</td>\n      <td>13262</td>\n      <td>14179</td>\n      <td>Fri, 31 Dec 2021 17:13:53 +0000</td>\n      <td>Fri, 07 Jan 2022 20:26:12 +0000</td>\n      <td>Fri, 07 Jan 2022 20:26:12 +0000</td>\n      <td>2</td>\n      <td>Shipped</td>\n      <td>20.00</td>\n      <td>...</td>\n      <td>NaN</td>\n      <td>1238.0</td>\n      <td>NaN</td>\n      <td>False</td>\n      <td>NaN</td>\n      <td>NaN</td>\n      <td>NaN</td>\n      <td>[]</td>\n      <td>[{'id': 9515, 'option_id': 1273, 'order_produc...</td>\n      <td>[]</td>\n    </tr>\n    <tr>\n      <th>13415</th>\n      <td>6267ec705b0da65f804928f1</td>\n      <td>13415</td>\n      <td>13263</td>\n      <td>110164</td>\n      <td>Fri, 31 Dec 2021 17:13:54 +0000</td>\n      <td>Fri, 07 Jan 2022 20:25:58 +0000</td>\n      <td>Fri, 07 Jan 2022 20:25:58 +0000</td>\n      <td>2</td>\n      <td>Shipped</td>\n      <td>20.00</td>\n      <td>...</td>\n      <td>NaN</td>\n      <td>1238.0</td>\n      <td>NaN</td>\n      <td>False</td>\n      <td>NaN</td>\n      <td>NaN</td>\n      <td>NaN</td>\n      <td>[]</td>\n      <td>[{'id': 9516, 'option_id': 1273, 'order_produc...</td>\n      <td>[]</td>\n    </tr>\n    <tr>\n      <th>13416</th>\n      <td>6267ec705b0da65f804928f2</td>\n      <td>13416</td>\n      <td>13264</td>\n      <td>143702</td>\n      <td>Fri, 31 Dec 2021 17:13:54 +0000</td>\n      <td>Fri, 07 Jan 2022 20:25:58 +0000</td>\n      <td>Fri, 07 Jan 2022 20:25:58 +0000</td>\n      <td>2</td>\n      <td>Shipped</td>\n      <td>20.00</td>\n      <td>...</td>\n      <td>NaN</td>\n      <td>1238.0</td>\n      <td>NaN</td>\n      <td>False</td>\n      <td>NaN</td>\n      <td>NaN</td>\n      <td>NaN</td>\n      <td>[]</td>\n      <td>[{'id': 9517, 'option_id': 1273, 'order_produc...</td>\n      <td>[]</td>\n    </tr>\n  </tbody>\n</table>\n<p>13417 rows × 133 columns</p>\n</div>"
     },
     "execution_count": 5,
     "metadata": {},
     "output_type": "execute_result"
    }
   ],
   "source": [
    "df_orders = get_data_from_collection('orders', query)\n",
    "df_orders"
   ],
   "metadata": {
    "collapsed": false,
    "pycharm": {
     "name": "#%%\n"
    }
   }
  }
 ],
 "metadata": {
  "kernelspec": {
   "display_name": "Python 3",
   "language": "python",
   "name": "python3"
  },
  "language_info": {
   "codemirror_mode": {
    "name": "ipython",
    "version": 2
   },
   "file_extension": ".py",
   "mimetype": "text/x-python",
   "name": "python",
   "nbconvert_exporter": "python",
   "pygments_lexer": "ipython2",
   "version": "2.7.6"
  }
 },
 "nbformat": 4,
 "nbformat_minor": 0
}
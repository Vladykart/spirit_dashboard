{
 "cells": [
  {
   "cell_type": "code",
   "execution_count": 2,
   "outputs": [],
   "source": [
    "import pandas as pd\n",
    "import numpy as np\n",
    "from settings import LOCAL_DATA_PATH, ROOT_DIR\n",
    "import re\n"
   ],
   "metadata": {
    "collapsed": false,
    "pycharm": {
     "name": "#%%\n"
    }
   }
  },
  {
   "cell_type": "code",
   "execution_count": 5,
   "outputs": [
    {
     "data": {
      "text/plain": "WindowsPath('C:/Users/user/PycharmProjects/spirit_dashboard/data')"
     },
     "execution_count": 5,
     "metadata": {},
     "output_type": "execute_result"
    }
   ],
   "source": [],
   "metadata": {
    "collapsed": false,
    "pycharm": {
     "name": "#%%\n"
    }
   }
  },
  {
   "cell_type": "code",
   "execution_count": 47,
   "outputs": [
    {
     "data": {
      "text/plain": "                                                                           Name\nId                                                                             \nBB4241E8-5CA7-4FAD-B447-0018C581C843  The Bonneville Cocktail Collection (S1E3)\n2EE8724D-17B8-41CE-9987-00BBD89593A2                 All The Right Notes (S1E1)\n69FA9F4D-F10F-45B6-B3D8-0169865C7320                       Home Bar Hero (S2E5)\nF60B88E7-0733-462E-B02B-01A6256898B9        Spirits for Beginners: Glenmorangie\nECEA777C-A6A0-458A-AA48-01B8494B282A               There's No Going Back (EP 4)\n...                                                                         ...\n562A2CE8-FEDA-4799-B72B-FEC09B4EE3F9            Rare & Precious Japanese Whisky\n81076AB4-DC29-402B-BC23-FEF4F21CA9CB                   How to make a Ciroc Rosé\nFFD1F658-B5F8-42B3-80D0-FFA017C016E0            Scotch: Story of Whisky, Part 3\n477A1480-F9FD-4BF1-9B11-FFCBF65A5154                          Mezcal: GuildSomm\n893D2158-DF24-4C05-9817-FFD779F973EE                           Speakeasy (S2E4)\n\n[682 rows x 1 columns]",
      "text/html": "<div>\n<style scoped>\n    .dataframe tbody tr th:only-of-type {\n        vertical-align: middle;\n    }\n\n    .dataframe tbody tr th {\n        vertical-align: top;\n    }\n\n    .dataframe thead th {\n        text-align: right;\n    }\n</style>\n<table border=\"1\" class=\"dataframe\">\n  <thead>\n    <tr style=\"text-align: right;\">\n      <th></th>\n      <th>Name</th>\n    </tr>\n    <tr>\n      <th>Id</th>\n      <th></th>\n    </tr>\n  </thead>\n  <tbody>\n    <tr>\n      <th>BB4241E8-5CA7-4FAD-B447-0018C581C843</th>\n      <td>The Bonneville Cocktail Collection (S1E3)</td>\n    </tr>\n    <tr>\n      <th>2EE8724D-17B8-41CE-9987-00BBD89593A2</th>\n      <td>All The Right Notes (S1E1)</td>\n    </tr>\n    <tr>\n      <th>69FA9F4D-F10F-45B6-B3D8-0169865C7320</th>\n      <td>Home Bar Hero (S2E5)</td>\n    </tr>\n    <tr>\n      <th>F60B88E7-0733-462E-B02B-01A6256898B9</th>\n      <td>Spirits for Beginners: Glenmorangie</td>\n    </tr>\n    <tr>\n      <th>ECEA777C-A6A0-458A-AA48-01B8494B282A</th>\n      <td>There's No Going Back (EP 4)</td>\n    </tr>\n    <tr>\n      <th>...</th>\n      <td>...</td>\n    </tr>\n    <tr>\n      <th>562A2CE8-FEDA-4799-B72B-FEC09B4EE3F9</th>\n      <td>Rare &amp; Precious Japanese Whisky</td>\n    </tr>\n    <tr>\n      <th>81076AB4-DC29-402B-BC23-FEF4F21CA9CB</th>\n      <td>How to make a Ciroc Rosé</td>\n    </tr>\n    <tr>\n      <th>FFD1F658-B5F8-42B3-80D0-FFA017C016E0</th>\n      <td>Scotch: Story of Whisky, Part 3</td>\n    </tr>\n    <tr>\n      <th>477A1480-F9FD-4BF1-9B11-FFCBF65A5154</th>\n      <td>Mezcal: GuildSomm</td>\n    </tr>\n    <tr>\n      <th>893D2158-DF24-4C05-9817-FFD779F973EE</th>\n      <td>Speakeasy (S2E4)</td>\n    </tr>\n  </tbody>\n</table>\n<p>682 rows × 1 columns</p>\n</div>"
     },
     "execution_count": 47,
     "metadata": {},
     "output_type": "execute_result"
    }
   ],
   "source": [
    "# video_df = pd.read_excel(LOCAL_DATA_PATH.joinpath(\"VideoPackages.xlsx\"))\n",
    "video_df = pd.read_csv(LOCAL_DATA_PATH.joinpath(\"video_events_test_sample.csv\"), index_col=0)\n",
    "name_space = pd.read_excel(LOCAL_DATA_PATH.joinpath('GA-VideoPlaySeek_SinceAug2020 (1).xlsx'),\n",
    "                           sheet_name='Packages')\n",
    "name_space = name_space.set_index('Id')\n",
    "name_space"
   ],
   "metadata": {
    "collapsed": false,
    "pycharm": {
     "name": "#%%\n"
    }
   }
  },
  {
   "cell_type": "code",
   "execution_count": 48,
   "outputs": [
    {
     "data": {
      "text/plain": "     eventCategory     eventAction  \\\n0            video  durationchange   \n1            video  durationchange   \n2            video  durationchange   \n3            video  durationchange   \n4            video  durationchange   \n...            ...             ...   \n1536         video         waiting   \n1537         video         waiting   \n1538         video         waiting   \n1539         video         waiting   \n1540         video         waiting   \n\n                                             eventLabel      date  hour  \\\n0     https://prod-cdn.spiritsnetwork.com/Applicatio...  20220306    22   \n1     https://prod-cdn.spiritsnetwork.com/Applicatio...  20220307    11   \n2     https://prod-cdn.spiritsnetwork.com/Applicatio...  20220307    11   \n3     https://prod-cdn.spiritsnetwork.com/Applicatio...  20220307    19   \n4     https://prod-cdn.spiritsnetwork.com/Applicatio...  20220307    19   \n...                                                 ...       ...   ...   \n1536  https://prod-cdn.spiritsnetwork.com/Applicatio...  20220131    14   \n1537  https://prod-cdn.spiritsnetwork.com/Applicatio...  20220131     5   \n1538  https://prod-cdn.spiritsnetwork.com/Applicatio...  20220131     3   \n1539  https://prod-cdn.spiritsnetwork.com/Applicatio...  20220131    21   \n1540  https://prod-cdn.spiritsnetwork.com/Applicatio...  20220131     0   \n\n      minute  totalEvents  uniqueEvents  eventValue  \\\n0         19            1             1           0   \n1         16            1             1           0   \n2         18            1             0         124   \n3         19            1             1           0   \n4         20            1             0          30   \n...      ...          ...           ...         ...   \n1536      29            1             1           0   \n1537      10            1             1           0   \n1538      17            1             1           0   \n1539       2            1             1           0   \n1540      24            1             1           0   \n\n                                        id  \\\n0     0CCCE6F8-57A4-47A2-8F40-2BE1A1B3479F   \n1     0CCCE6F8-57A4-47A2-8F40-2BE1A1B3479F   \n2     0CCCE6F8-57A4-47A2-8F40-2BE1A1B3479F   \n3     0CCCE6F8-57A4-47A2-8F40-2BE1A1B3479F   \n4     0CCCE6F8-57A4-47A2-8F40-2BE1A1B3479F   \n...                                    ...   \n1536  E62C976B-DCBA-4CCA-93A8-DB4578F0A72D   \n1537  EDBB1313-CDE4-44B0-A6EF-38052D86D07B   \n1538  F60B88E7-0733-462E-B02B-01A6256898B9   \n1539  F9751CCC-AC5B-4532-9379-29AF49B00F5A   \n1540  FD20DDB1-C650-465C-AC92-A7622FEE99F9   \n\n                                     name eventType  \\\n0                 Cocktail History (S1E1)   Content   \n1                 Cocktail History (S1E1)   Content   \n2                 Cocktail History (S1E1)   Content   \n3                 Cocktail History (S1E1)   Content   \n4                 Cocktail History (S1E1)   Content   \n...                                   ...       ...   \n1536      Scotch: Story of Whisky, Part 1   Content   \n1537                  Hairy Bikers (S1E1)   Content   \n1538  Spirits for Beginners: Glenmorangie   Content   \n1539                                  NaN   Content   \n1540   Not Sure What to Watch?  Try this!   Content   \n\n                             uniqueEventID  \\\n0     0ccce6f8-57a4-47a2-8f40-2be1a1b3479f   \n1     0ccce6f8-57a4-47a2-8f40-2be1a1b3479f   \n2     0ccce6f8-57a4-47a2-8f40-2be1a1b3479f   \n3     0ccce6f8-57a4-47a2-8f40-2be1a1b3479f   \n4     0ccce6f8-57a4-47a2-8f40-2be1a1b3479f   \n...                                    ...   \n1536  e62c976b-dcba-4cca-93a8-db4578f0a72d   \n1537  edbb1313-cde4-44b0-a6ef-38052d86d07b   \n1538  f60b88e7-0733-462e-b02b-01a6256898b9   \n1539  f9751ccc-ac5b-4532-9379-29af49b00f5a   \n1540  fd20ddb1-c650-465c-ac92-a7622fee99f9   \n\n                                contantName  \n0     9ad54743d7e2436ab585a60939b9c7f3.m3u8  \n1     9ad54743d7e2436ab585a60939b9c7f3.m3u8  \n2     9ad54743d7e2436ab585a60939b9c7f3.m3u8  \n3     9ad54743d7e2436ab585a60939b9c7f3.m3u8  \n4     9ad54743d7e2436ab585a60939b9c7f3.m3u8  \n...                                     ...  \n1536  6b7360abd63d456ebe027b6956fc1f94.m3u8  \n1537  7cbcdfc59a6648fe9b9ae700a3f592ae.m3u8  \n1538  f6e7875c11c6444ea4508bc28bc4edec.m3u8  \n1539  87dea49d661a4bfdb959bea0f2f793d3.m3u8  \n1540  7ca9574bd3394f84883612adce2a8bdd.m3u8  \n\n[64782 rows x 14 columns]",
      "text/html": "<div>\n<style scoped>\n    .dataframe tbody tr th:only-of-type {\n        vertical-align: middle;\n    }\n\n    .dataframe tbody tr th {\n        vertical-align: top;\n    }\n\n    .dataframe thead th {\n        text-align: right;\n    }\n</style>\n<table border=\"1\" class=\"dataframe\">\n  <thead>\n    <tr style=\"text-align: right;\">\n      <th></th>\n      <th>eventCategory</th>\n      <th>eventAction</th>\n      <th>eventLabel</th>\n      <th>date</th>\n      <th>hour</th>\n      <th>minute</th>\n      <th>totalEvents</th>\n      <th>uniqueEvents</th>\n      <th>eventValue</th>\n      <th>id</th>\n      <th>name</th>\n      <th>eventType</th>\n      <th>uniqueEventID</th>\n      <th>contantName</th>\n    </tr>\n  </thead>\n  <tbody>\n    <tr>\n      <th>0</th>\n      <td>video</td>\n      <td>durationchange</td>\n      <td>https://prod-cdn.spiritsnetwork.com/Applicatio...</td>\n      <td>20220306</td>\n      <td>22</td>\n      <td>19</td>\n      <td>1</td>\n      <td>1</td>\n      <td>0</td>\n      <td>0CCCE6F8-57A4-47A2-8F40-2BE1A1B3479F</td>\n      <td>Cocktail History (S1E1)</td>\n      <td>Content</td>\n      <td>0ccce6f8-57a4-47a2-8f40-2be1a1b3479f</td>\n      <td>9ad54743d7e2436ab585a60939b9c7f3.m3u8</td>\n    </tr>\n    <tr>\n      <th>1</th>\n      <td>video</td>\n      <td>durationchange</td>\n      <td>https://prod-cdn.spiritsnetwork.com/Applicatio...</td>\n      <td>20220307</td>\n      <td>11</td>\n      <td>16</td>\n      <td>1</td>\n      <td>1</td>\n      <td>0</td>\n      <td>0CCCE6F8-57A4-47A2-8F40-2BE1A1B3479F</td>\n      <td>Cocktail History (S1E1)</td>\n      <td>Content</td>\n      <td>0ccce6f8-57a4-47a2-8f40-2be1a1b3479f</td>\n      <td>9ad54743d7e2436ab585a60939b9c7f3.m3u8</td>\n    </tr>\n    <tr>\n      <th>2</th>\n      <td>video</td>\n      <td>durationchange</td>\n      <td>https://prod-cdn.spiritsnetwork.com/Applicatio...</td>\n      <td>20220307</td>\n      <td>11</td>\n      <td>18</td>\n      <td>1</td>\n      <td>0</td>\n      <td>124</td>\n      <td>0CCCE6F8-57A4-47A2-8F40-2BE1A1B3479F</td>\n      <td>Cocktail History (S1E1)</td>\n      <td>Content</td>\n      <td>0ccce6f8-57a4-47a2-8f40-2be1a1b3479f</td>\n      <td>9ad54743d7e2436ab585a60939b9c7f3.m3u8</td>\n    </tr>\n    <tr>\n      <th>3</th>\n      <td>video</td>\n      <td>durationchange</td>\n      <td>https://prod-cdn.spiritsnetwork.com/Applicatio...</td>\n      <td>20220307</td>\n      <td>19</td>\n      <td>19</td>\n      <td>1</td>\n      <td>1</td>\n      <td>0</td>\n      <td>0CCCE6F8-57A4-47A2-8F40-2BE1A1B3479F</td>\n      <td>Cocktail History (S1E1)</td>\n      <td>Content</td>\n      <td>0ccce6f8-57a4-47a2-8f40-2be1a1b3479f</td>\n      <td>9ad54743d7e2436ab585a60939b9c7f3.m3u8</td>\n    </tr>\n    <tr>\n      <th>4</th>\n      <td>video</td>\n      <td>durationchange</td>\n      <td>https://prod-cdn.spiritsnetwork.com/Applicatio...</td>\n      <td>20220307</td>\n      <td>19</td>\n      <td>20</td>\n      <td>1</td>\n      <td>0</td>\n      <td>30</td>\n      <td>0CCCE6F8-57A4-47A2-8F40-2BE1A1B3479F</td>\n      <td>Cocktail History (S1E1)</td>\n      <td>Content</td>\n      <td>0ccce6f8-57a4-47a2-8f40-2be1a1b3479f</td>\n      <td>9ad54743d7e2436ab585a60939b9c7f3.m3u8</td>\n    </tr>\n    <tr>\n      <th>...</th>\n      <td>...</td>\n      <td>...</td>\n      <td>...</td>\n      <td>...</td>\n      <td>...</td>\n      <td>...</td>\n      <td>...</td>\n      <td>...</td>\n      <td>...</td>\n      <td>...</td>\n      <td>...</td>\n      <td>...</td>\n      <td>...</td>\n      <td>...</td>\n    </tr>\n    <tr>\n      <th>1536</th>\n      <td>video</td>\n      <td>waiting</td>\n      <td>https://prod-cdn.spiritsnetwork.com/Applicatio...</td>\n      <td>20220131</td>\n      <td>14</td>\n      <td>29</td>\n      <td>1</td>\n      <td>1</td>\n      <td>0</td>\n      <td>E62C976B-DCBA-4CCA-93A8-DB4578F0A72D</td>\n      <td>Scotch: Story of Whisky, Part 1</td>\n      <td>Content</td>\n      <td>e62c976b-dcba-4cca-93a8-db4578f0a72d</td>\n      <td>6b7360abd63d456ebe027b6956fc1f94.m3u8</td>\n    </tr>\n    <tr>\n      <th>1537</th>\n      <td>video</td>\n      <td>waiting</td>\n      <td>https://prod-cdn.spiritsnetwork.com/Applicatio...</td>\n      <td>20220131</td>\n      <td>5</td>\n      <td>10</td>\n      <td>1</td>\n      <td>1</td>\n      <td>0</td>\n      <td>EDBB1313-CDE4-44B0-A6EF-38052D86D07B</td>\n      <td>Hairy Bikers (S1E1)</td>\n      <td>Content</td>\n      <td>edbb1313-cde4-44b0-a6ef-38052d86d07b</td>\n      <td>7cbcdfc59a6648fe9b9ae700a3f592ae.m3u8</td>\n    </tr>\n    <tr>\n      <th>1538</th>\n      <td>video</td>\n      <td>waiting</td>\n      <td>https://prod-cdn.spiritsnetwork.com/Applicatio...</td>\n      <td>20220131</td>\n      <td>3</td>\n      <td>17</td>\n      <td>1</td>\n      <td>1</td>\n      <td>0</td>\n      <td>F60B88E7-0733-462E-B02B-01A6256898B9</td>\n      <td>Spirits for Beginners: Glenmorangie</td>\n      <td>Content</td>\n      <td>f60b88e7-0733-462e-b02b-01a6256898b9</td>\n      <td>f6e7875c11c6444ea4508bc28bc4edec.m3u8</td>\n    </tr>\n    <tr>\n      <th>1539</th>\n      <td>video</td>\n      <td>waiting</td>\n      <td>https://prod-cdn.spiritsnetwork.com/Applicatio...</td>\n      <td>20220131</td>\n      <td>21</td>\n      <td>2</td>\n      <td>1</td>\n      <td>1</td>\n      <td>0</td>\n      <td>F9751CCC-AC5B-4532-9379-29AF49B00F5A</td>\n      <td>NaN</td>\n      <td>Content</td>\n      <td>f9751ccc-ac5b-4532-9379-29af49b00f5a</td>\n      <td>87dea49d661a4bfdb959bea0f2f793d3.m3u8</td>\n    </tr>\n    <tr>\n      <th>1540</th>\n      <td>video</td>\n      <td>waiting</td>\n      <td>https://prod-cdn.spiritsnetwork.com/Applicatio...</td>\n      <td>20220131</td>\n      <td>0</td>\n      <td>24</td>\n      <td>1</td>\n      <td>1</td>\n      <td>0</td>\n      <td>FD20DDB1-C650-465C-AC92-A7622FEE99F9</td>\n      <td>Not Sure What to Watch?  Try this!</td>\n      <td>Content</td>\n      <td>fd20ddb1-c650-465c-ac92-a7622fee99f9</td>\n      <td>7ca9574bd3394f84883612adce2a8bdd.m3u8</td>\n    </tr>\n  </tbody>\n</table>\n<p>64782 rows × 14 columns</p>\n</div>"
     },
     "execution_count": 48,
     "metadata": {},
     "output_type": "execute_result"
    }
   ],
   "source": [
    "def split_link(x):\n",
    "    s = re.split('[/&?]', str(x))\n",
    "    # print(len(s))\n",
    "    return s\n",
    "\n",
    "def parse_url(df):\n",
    "\n",
    "    df['eventType'] = df['eventLabel'].apply(lambda x: split_link(x)[5])\n",
    "    df['uniqueEventID'] = df['eventLabel'].apply(lambda x: split_link(x)[6])\n",
    "    df['contantName'] = df['eventLabel'].apply(lambda x: split_link(x)[7])\n",
    "    # df['Key_Pair_Id'] = df['eventLabel'].apply(lambda x: str(split_link(x)[8]).replace('Key-Pair-Id=', ''))\n",
    "    # df['Policy'] = df['eventLabel'].apply(lambda x: str(split_link(x)[9]).replace('Policy=', ''))\n",
    "    # df['Signature'] = df['eventLabel'].apply(lambda x: str(split_link(x)[10]).replace('Signature=', ''))\n",
    "\n",
    "    return df\n",
    "\n",
    "\n",
    "df1 = parse_url(video_df).copy()\n",
    "df1"
   ],
   "metadata": {
    "collapsed": false,
    "pycharm": {
     "name": "#%%\n"
    }
   }
  },
  {
   "cell_type": "code",
   "execution_count": null,
   "metadata": {
    "collapsed": true,
    "pycharm": {
     "name": "#%%\n"
    }
   },
   "outputs": [],
   "source": [
    "video_df = video_df[['date', 'hour','minute', 'eventAction', 'eventLabel', 'totalEvents', 'uniqueEvents', 'eventValue',]]"
   ]
  },
  {
   "cell_type": "code",
   "execution_count": 49,
   "outputs": [
    {
     "name": "stderr",
     "output_type": "stream",
     "text": [
      "/var/folders/xv/_zzskczj4gl8nx12j104l4th0000gn/T/ipykernel_89032/2041101823.py:11: SettingWithCopyWarning: \n",
      "A value is trying to be set on a copy of a slice from a DataFrame.\n",
      "Try using .loc[row_indexer,col_indexer] = value instead\n",
      "\n",
      "See the caveats in the documentation: https://pandas.pydata.org/pandas-docs/stable/user_guide/indexing.html#returning-a-view-versus-a-copy\n",
      "  video_df['date'] = pd.to_datetime(video_df['date'], format='%Y%m%d')\n"
     ]
    },
    {
     "data": {
      "text/plain": "     eventCategory     eventAction  \\\n0            video  durationchange   \n1            video  durationchange   \n2            video  durationchange   \n3            video  durationchange   \n4            video  durationchange   \n...            ...             ...   \n1535         video         waiting   \n1536         video         waiting   \n1537         video         waiting   \n1538         video         waiting   \n1540         video         waiting   \n\n                                             eventLabel       date  hour  \\\n0     https://prod-cdn.spiritsnetwork.com/Applicatio... 2022-03-06    22   \n1     https://prod-cdn.spiritsnetwork.com/Applicatio... 2022-03-07    11   \n2     https://prod-cdn.spiritsnetwork.com/Applicatio... 2022-03-07    11   \n3     https://prod-cdn.spiritsnetwork.com/Applicatio... 2022-03-07    19   \n4     https://prod-cdn.spiritsnetwork.com/Applicatio... 2022-03-07    19   \n...                                                 ...        ...   ...   \n1535  https://prod-cdn.spiritsnetwork.com/Applicatio... 2022-01-31     0   \n1536  https://prod-cdn.spiritsnetwork.com/Applicatio... 2022-01-31    14   \n1537  https://prod-cdn.spiritsnetwork.com/Applicatio... 2022-01-31     5   \n1538  https://prod-cdn.spiritsnetwork.com/Applicatio... 2022-01-31     3   \n1540  https://prod-cdn.spiritsnetwork.com/Applicatio... 2022-01-31     0   \n\n      minute  totalEvents  uniqueEvents  eventValue  \\\n0         19            1             1           0   \n1         16            1             1           0   \n2         18            1             0         124   \n3         19            1             1           0   \n4         20            1             0          30   \n...      ...          ...           ...         ...   \n1535       5            1             1           0   \n1536      29            1             1           0   \n1537      10            1             1           0   \n1538      17            1             1           0   \n1540      24            1             1           0   \n\n                                        id  \\\n0     0CCCE6F8-57A4-47A2-8F40-2BE1A1B3479F   \n1     0CCCE6F8-57A4-47A2-8F40-2BE1A1B3479F   \n2     0CCCE6F8-57A4-47A2-8F40-2BE1A1B3479F   \n3     0CCCE6F8-57A4-47A2-8F40-2BE1A1B3479F   \n4     0CCCE6F8-57A4-47A2-8F40-2BE1A1B3479F   \n...                                    ...   \n1535  E62C976B-DCBA-4CCA-93A8-DB4578F0A72D   \n1536  E62C976B-DCBA-4CCA-93A8-DB4578F0A72D   \n1537  EDBB1313-CDE4-44B0-A6EF-38052D86D07B   \n1538  F60B88E7-0733-462E-B02B-01A6256898B9   \n1540  FD20DDB1-C650-465C-AC92-A7622FEE99F9   \n\n                                     name eventType  \\\n0                 Cocktail History (S1E1)   Content   \n1                 Cocktail History (S1E1)   Content   \n2                 Cocktail History (S1E1)   Content   \n3                 Cocktail History (S1E1)   Content   \n4                 Cocktail History (S1E1)   Content   \n...                                   ...       ...   \n1535      Scotch: Story of Whisky, Part 1   Content   \n1536      Scotch: Story of Whisky, Part 1   Content   \n1537                  Hairy Bikers (S1E1)   Content   \n1538  Spirits for Beginners: Glenmorangie   Content   \n1540   Not Sure What to Watch?  Try this!   Content   \n\n                             uniqueEventID  \\\n0     0ccce6f8-57a4-47a2-8f40-2be1a1b3479f   \n1     0ccce6f8-57a4-47a2-8f40-2be1a1b3479f   \n2     0ccce6f8-57a4-47a2-8f40-2be1a1b3479f   \n3     0ccce6f8-57a4-47a2-8f40-2be1a1b3479f   \n4     0ccce6f8-57a4-47a2-8f40-2be1a1b3479f   \n...                                    ...   \n1535  e62c976b-dcba-4cca-93a8-db4578f0a72d   \n1536  e62c976b-dcba-4cca-93a8-db4578f0a72d   \n1537  edbb1313-cde4-44b0-a6ef-38052d86d07b   \n1538  f60b88e7-0733-462e-b02b-01a6256898b9   \n1540  fd20ddb1-c650-465c-ac92-a7622fee99f9   \n\n                                contantName  \n0     9ad54743d7e2436ab585a60939b9c7f3.m3u8  \n1     9ad54743d7e2436ab585a60939b9c7f3.m3u8  \n2     9ad54743d7e2436ab585a60939b9c7f3.m3u8  \n3     9ad54743d7e2436ab585a60939b9c7f3.m3u8  \n4     9ad54743d7e2436ab585a60939b9c7f3.m3u8  \n...                                     ...  \n1535  6b7360abd63d456ebe027b6956fc1f94.m3u8  \n1536  6b7360abd63d456ebe027b6956fc1f94.m3u8  \n1537  7cbcdfc59a6648fe9b9ae700a3f592ae.m3u8  \n1538  f6e7875c11c6444ea4508bc28bc4edec.m3u8  \n1540  7ca9574bd3394f84883612adce2a8bdd.m3u8  \n\n[56765 rows x 14 columns]",
      "text/html": "<div>\n<style scoped>\n    .dataframe tbody tr th:only-of-type {\n        vertical-align: middle;\n    }\n\n    .dataframe tbody tr th {\n        vertical-align: top;\n    }\n\n    .dataframe thead th {\n        text-align: right;\n    }\n</style>\n<table border=\"1\" class=\"dataframe\">\n  <thead>\n    <tr style=\"text-align: right;\">\n      <th></th>\n      <th>eventCategory</th>\n      <th>eventAction</th>\n      <th>eventLabel</th>\n      <th>date</th>\n      <th>hour</th>\n      <th>minute</th>\n      <th>totalEvents</th>\n      <th>uniqueEvents</th>\n      <th>eventValue</th>\n      <th>id</th>\n      <th>name</th>\n      <th>eventType</th>\n      <th>uniqueEventID</th>\n      <th>contantName</th>\n    </tr>\n  </thead>\n  <tbody>\n    <tr>\n      <th>0</th>\n      <td>video</td>\n      <td>durationchange</td>\n      <td>https://prod-cdn.spiritsnetwork.com/Applicatio...</td>\n      <td>2022-03-06</td>\n      <td>22</td>\n      <td>19</td>\n      <td>1</td>\n      <td>1</td>\n      <td>0</td>\n      <td>0CCCE6F8-57A4-47A2-8F40-2BE1A1B3479F</td>\n      <td>Cocktail History (S1E1)</td>\n      <td>Content</td>\n      <td>0ccce6f8-57a4-47a2-8f40-2be1a1b3479f</td>\n      <td>9ad54743d7e2436ab585a60939b9c7f3.m3u8</td>\n    </tr>\n    <tr>\n      <th>1</th>\n      <td>video</td>\n      <td>durationchange</td>\n      <td>https://prod-cdn.spiritsnetwork.com/Applicatio...</td>\n      <td>2022-03-07</td>\n      <td>11</td>\n      <td>16</td>\n      <td>1</td>\n      <td>1</td>\n      <td>0</td>\n      <td>0CCCE6F8-57A4-47A2-8F40-2BE1A1B3479F</td>\n      <td>Cocktail History (S1E1)</td>\n      <td>Content</td>\n      <td>0ccce6f8-57a4-47a2-8f40-2be1a1b3479f</td>\n      <td>9ad54743d7e2436ab585a60939b9c7f3.m3u8</td>\n    </tr>\n    <tr>\n      <th>2</th>\n      <td>video</td>\n      <td>durationchange</td>\n      <td>https://prod-cdn.spiritsnetwork.com/Applicatio...</td>\n      <td>2022-03-07</td>\n      <td>11</td>\n      <td>18</td>\n      <td>1</td>\n      <td>0</td>\n      <td>124</td>\n      <td>0CCCE6F8-57A4-47A2-8F40-2BE1A1B3479F</td>\n      <td>Cocktail History (S1E1)</td>\n      <td>Content</td>\n      <td>0ccce6f8-57a4-47a2-8f40-2be1a1b3479f</td>\n      <td>9ad54743d7e2436ab585a60939b9c7f3.m3u8</td>\n    </tr>\n    <tr>\n      <th>3</th>\n      <td>video</td>\n      <td>durationchange</td>\n      <td>https://prod-cdn.spiritsnetwork.com/Applicatio...</td>\n      <td>2022-03-07</td>\n      <td>19</td>\n      <td>19</td>\n      <td>1</td>\n      <td>1</td>\n      <td>0</td>\n      <td>0CCCE6F8-57A4-47A2-8F40-2BE1A1B3479F</td>\n      <td>Cocktail History (S1E1)</td>\n      <td>Content</td>\n      <td>0ccce6f8-57a4-47a2-8f40-2be1a1b3479f</td>\n      <td>9ad54743d7e2436ab585a60939b9c7f3.m3u8</td>\n    </tr>\n    <tr>\n      <th>4</th>\n      <td>video</td>\n      <td>durationchange</td>\n      <td>https://prod-cdn.spiritsnetwork.com/Applicatio...</td>\n      <td>2022-03-07</td>\n      <td>19</td>\n      <td>20</td>\n      <td>1</td>\n      <td>0</td>\n      <td>30</td>\n      <td>0CCCE6F8-57A4-47A2-8F40-2BE1A1B3479F</td>\n      <td>Cocktail History (S1E1)</td>\n      <td>Content</td>\n      <td>0ccce6f8-57a4-47a2-8f40-2be1a1b3479f</td>\n      <td>9ad54743d7e2436ab585a60939b9c7f3.m3u8</td>\n    </tr>\n    <tr>\n      <th>...</th>\n      <td>...</td>\n      <td>...</td>\n      <td>...</td>\n      <td>...</td>\n      <td>...</td>\n      <td>...</td>\n      <td>...</td>\n      <td>...</td>\n      <td>...</td>\n      <td>...</td>\n      <td>...</td>\n      <td>...</td>\n      <td>...</td>\n      <td>...</td>\n    </tr>\n    <tr>\n      <th>1535</th>\n      <td>video</td>\n      <td>waiting</td>\n      <td>https://prod-cdn.spiritsnetwork.com/Applicatio...</td>\n      <td>2022-01-31</td>\n      <td>0</td>\n      <td>5</td>\n      <td>1</td>\n      <td>1</td>\n      <td>0</td>\n      <td>E62C976B-DCBA-4CCA-93A8-DB4578F0A72D</td>\n      <td>Scotch: Story of Whisky, Part 1</td>\n      <td>Content</td>\n      <td>e62c976b-dcba-4cca-93a8-db4578f0a72d</td>\n      <td>6b7360abd63d456ebe027b6956fc1f94.m3u8</td>\n    </tr>\n    <tr>\n      <th>1536</th>\n      <td>video</td>\n      <td>waiting</td>\n      <td>https://prod-cdn.spiritsnetwork.com/Applicatio...</td>\n      <td>2022-01-31</td>\n      <td>14</td>\n      <td>29</td>\n      <td>1</td>\n      <td>1</td>\n      <td>0</td>\n      <td>E62C976B-DCBA-4CCA-93A8-DB4578F0A72D</td>\n      <td>Scotch: Story of Whisky, Part 1</td>\n      <td>Content</td>\n      <td>e62c976b-dcba-4cca-93a8-db4578f0a72d</td>\n      <td>6b7360abd63d456ebe027b6956fc1f94.m3u8</td>\n    </tr>\n    <tr>\n      <th>1537</th>\n      <td>video</td>\n      <td>waiting</td>\n      <td>https://prod-cdn.spiritsnetwork.com/Applicatio...</td>\n      <td>2022-01-31</td>\n      <td>5</td>\n      <td>10</td>\n      <td>1</td>\n      <td>1</td>\n      <td>0</td>\n      <td>EDBB1313-CDE4-44B0-A6EF-38052D86D07B</td>\n      <td>Hairy Bikers (S1E1)</td>\n      <td>Content</td>\n      <td>edbb1313-cde4-44b0-a6ef-38052d86d07b</td>\n      <td>7cbcdfc59a6648fe9b9ae700a3f592ae.m3u8</td>\n    </tr>\n    <tr>\n      <th>1538</th>\n      <td>video</td>\n      <td>waiting</td>\n      <td>https://prod-cdn.spiritsnetwork.com/Applicatio...</td>\n      <td>2022-01-31</td>\n      <td>3</td>\n      <td>17</td>\n      <td>1</td>\n      <td>1</td>\n      <td>0</td>\n      <td>F60B88E7-0733-462E-B02B-01A6256898B9</td>\n      <td>Spirits for Beginners: Glenmorangie</td>\n      <td>Content</td>\n      <td>f60b88e7-0733-462e-b02b-01a6256898b9</td>\n      <td>f6e7875c11c6444ea4508bc28bc4edec.m3u8</td>\n    </tr>\n    <tr>\n      <th>1540</th>\n      <td>video</td>\n      <td>waiting</td>\n      <td>https://prod-cdn.spiritsnetwork.com/Applicatio...</td>\n      <td>2022-01-31</td>\n      <td>0</td>\n      <td>24</td>\n      <td>1</td>\n      <td>1</td>\n      <td>0</td>\n      <td>FD20DDB1-C650-465C-AC92-A7622FEE99F9</td>\n      <td>Not Sure What to Watch?  Try this!</td>\n      <td>Content</td>\n      <td>fd20ddb1-c650-465c-ac92-a7622fee99f9</td>\n      <td>7ca9574bd3394f84883612adce2a8bdd.m3u8</td>\n    </tr>\n  </tbody>\n</table>\n<p>56765 rows × 14 columns</p>\n</div>"
     },
     "execution_count": 49,
     "metadata": {},
     "output_type": "execute_result"
    }
   ],
   "source": [
    "def get_name_by_id(id):\n",
    "    name_space_d = name_space.to_dict('dict')\n",
    "    return name_space_d['Name'].get(id)\n",
    "\n",
    "def prepare_id(df):\n",
    "    df['id'] = df['uniqueEventID'].str.upper()\n",
    "    df = df.dropna()\n",
    "    return df\n",
    "\n",
    "video_df = prepare_id(df1)\n",
    "video_df['date'] = pd.to_datetime(video_df['date'], format='%Y%m%d')\n",
    "video_df"
   ],
   "metadata": {
    "collapsed": false,
    "pycharm": {
     "name": "#%%\n"
    }
   }
  },
  {
   "cell_type": "code",
   "execution_count": null,
   "outputs": [],
   "source": [
    "columns = ['id', 'total', 'unique',\n",
    "           'valuation', 'mean valuation']"
   ],
   "metadata": {
    "collapsed": false,
    "pycharm": {
     "name": "#%%\n"
    }
   }
  },
  {
   "cell_type": "code",
   "execution_count": 51,
   "outputs": [
    {
     "name": "stderr",
     "output_type": "stream",
     "text": [
      "/var/folders/xv/_zzskczj4gl8nx12j104l4th0000gn/T/ipykernel_89032/1475556503.py:1: SettingWithCopyWarning: \n",
      "A value is trying to be set on a copy of a slice from a DataFrame.\n",
      "Try using .loc[row_indexer,col_indexer] = value instead\n",
      "\n",
      "See the caveats in the documentation: https://pandas.pydata.org/pandas-docs/stable/user_guide/indexing.html#returning-a-view-versus-a-copy\n",
      "  video_df['name'] = video_df['id'].apply(lambda x: get_name_by_id(x))\n"
     ]
    },
    {
     "data": {
      "text/plain": "     eventCategory     eventAction  \\\n0            video  durationchange   \n1            video  durationchange   \n2            video  durationchange   \n3            video  durationchange   \n4            video  durationchange   \n...            ...             ...   \n1535         video         waiting   \n1536         video         waiting   \n1537         video         waiting   \n1538         video         waiting   \n1540         video         waiting   \n\n                                             eventLabel       date  hour  \\\n0     https://prod-cdn.spiritsnetwork.com/Applicatio... 2022-03-06    22   \n1     https://prod-cdn.spiritsnetwork.com/Applicatio... 2022-03-07    11   \n2     https://prod-cdn.spiritsnetwork.com/Applicatio... 2022-03-07    11   \n3     https://prod-cdn.spiritsnetwork.com/Applicatio... 2022-03-07    19   \n4     https://prod-cdn.spiritsnetwork.com/Applicatio... 2022-03-07    19   \n...                                                 ...        ...   ...   \n1535  https://prod-cdn.spiritsnetwork.com/Applicatio... 2022-01-31     0   \n1536  https://prod-cdn.spiritsnetwork.com/Applicatio... 2022-01-31    14   \n1537  https://prod-cdn.spiritsnetwork.com/Applicatio... 2022-01-31     5   \n1538  https://prod-cdn.spiritsnetwork.com/Applicatio... 2022-01-31     3   \n1540  https://prod-cdn.spiritsnetwork.com/Applicatio... 2022-01-31     0   \n\n      minute  totalEvents  uniqueEvents  eventValue  \\\n0         19            1             1           0   \n1         16            1             1           0   \n2         18            1             0         124   \n3         19            1             1           0   \n4         20            1             0          30   \n...      ...          ...           ...         ...   \n1535       5            1             1           0   \n1536      29            1             1           0   \n1537      10            1             1           0   \n1538      17            1             1           0   \n1540      24            1             1           0   \n\n                                        id  \\\n0     0CCCE6F8-57A4-47A2-8F40-2BE1A1B3479F   \n1     0CCCE6F8-57A4-47A2-8F40-2BE1A1B3479F   \n2     0CCCE6F8-57A4-47A2-8F40-2BE1A1B3479F   \n3     0CCCE6F8-57A4-47A2-8F40-2BE1A1B3479F   \n4     0CCCE6F8-57A4-47A2-8F40-2BE1A1B3479F   \n...                                    ...   \n1535  E62C976B-DCBA-4CCA-93A8-DB4578F0A72D   \n1536  E62C976B-DCBA-4CCA-93A8-DB4578F0A72D   \n1537  EDBB1313-CDE4-44B0-A6EF-38052D86D07B   \n1538  F60B88E7-0733-462E-B02B-01A6256898B9   \n1540  FD20DDB1-C650-465C-AC92-A7622FEE99F9   \n\n                                     name eventType  \\\n0                 Cocktail History (S1E1)   Content   \n1                 Cocktail History (S1E1)   Content   \n2                 Cocktail History (S1E1)   Content   \n3                 Cocktail History (S1E1)   Content   \n4                 Cocktail History (S1E1)   Content   \n...                                   ...       ...   \n1535      Scotch: Story of Whisky, Part 1   Content   \n1536      Scotch: Story of Whisky, Part 1   Content   \n1537                  Hairy Bikers (S1E1)   Content   \n1538  Spirits for Beginners: Glenmorangie   Content   \n1540   Not Sure What to Watch?  Try this!   Content   \n\n                             uniqueEventID  \\\n0     0ccce6f8-57a4-47a2-8f40-2be1a1b3479f   \n1     0ccce6f8-57a4-47a2-8f40-2be1a1b3479f   \n2     0ccce6f8-57a4-47a2-8f40-2be1a1b3479f   \n3     0ccce6f8-57a4-47a2-8f40-2be1a1b3479f   \n4     0ccce6f8-57a4-47a2-8f40-2be1a1b3479f   \n...                                    ...   \n1535  e62c976b-dcba-4cca-93a8-db4578f0a72d   \n1536  e62c976b-dcba-4cca-93a8-db4578f0a72d   \n1537  edbb1313-cde4-44b0-a6ef-38052d86d07b   \n1538  f60b88e7-0733-462e-b02b-01a6256898b9   \n1540  fd20ddb1-c650-465c-ac92-a7622fee99f9   \n\n                                contantName  \n0     9ad54743d7e2436ab585a60939b9c7f3.m3u8  \n1     9ad54743d7e2436ab585a60939b9c7f3.m3u8  \n2     9ad54743d7e2436ab585a60939b9c7f3.m3u8  \n3     9ad54743d7e2436ab585a60939b9c7f3.m3u8  \n4     9ad54743d7e2436ab585a60939b9c7f3.m3u8  \n...                                     ...  \n1535  6b7360abd63d456ebe027b6956fc1f94.m3u8  \n1536  6b7360abd63d456ebe027b6956fc1f94.m3u8  \n1537  7cbcdfc59a6648fe9b9ae700a3f592ae.m3u8  \n1538  f6e7875c11c6444ea4508bc28bc4edec.m3u8  \n1540  7ca9574bd3394f84883612adce2a8bdd.m3u8  \n\n[56765 rows x 14 columns]",
      "text/html": "<div>\n<style scoped>\n    .dataframe tbody tr th:only-of-type {\n        vertical-align: middle;\n    }\n\n    .dataframe tbody tr th {\n        vertical-align: top;\n    }\n\n    .dataframe thead th {\n        text-align: right;\n    }\n</style>\n<table border=\"1\" class=\"dataframe\">\n  <thead>\n    <tr style=\"text-align: right;\">\n      <th></th>\n      <th>eventCategory</th>\n      <th>eventAction</th>\n      <th>eventLabel</th>\n      <th>date</th>\n      <th>hour</th>\n      <th>minute</th>\n      <th>totalEvents</th>\n      <th>uniqueEvents</th>\n      <th>eventValue</th>\n      <th>id</th>\n      <th>name</th>\n      <th>eventType</th>\n      <th>uniqueEventID</th>\n      <th>contantName</th>\n    </tr>\n  </thead>\n  <tbody>\n    <tr>\n      <th>0</th>\n      <td>video</td>\n      <td>durationchange</td>\n      <td>https://prod-cdn.spiritsnetwork.com/Applicatio...</td>\n      <td>2022-03-06</td>\n      <td>22</td>\n      <td>19</td>\n      <td>1</td>\n      <td>1</td>\n      <td>0</td>\n      <td>0CCCE6F8-57A4-47A2-8F40-2BE1A1B3479F</td>\n      <td>Cocktail History (S1E1)</td>\n      <td>Content</td>\n      <td>0ccce6f8-57a4-47a2-8f40-2be1a1b3479f</td>\n      <td>9ad54743d7e2436ab585a60939b9c7f3.m3u8</td>\n    </tr>\n    <tr>\n      <th>1</th>\n      <td>video</td>\n      <td>durationchange</td>\n      <td>https://prod-cdn.spiritsnetwork.com/Applicatio...</td>\n      <td>2022-03-07</td>\n      <td>11</td>\n      <td>16</td>\n      <td>1</td>\n      <td>1</td>\n      <td>0</td>\n      <td>0CCCE6F8-57A4-47A2-8F40-2BE1A1B3479F</td>\n      <td>Cocktail History (S1E1)</td>\n      <td>Content</td>\n      <td>0ccce6f8-57a4-47a2-8f40-2be1a1b3479f</td>\n      <td>9ad54743d7e2436ab585a60939b9c7f3.m3u8</td>\n    </tr>\n    <tr>\n      <th>2</th>\n      <td>video</td>\n      <td>durationchange</td>\n      <td>https://prod-cdn.spiritsnetwork.com/Applicatio...</td>\n      <td>2022-03-07</td>\n      <td>11</td>\n      <td>18</td>\n      <td>1</td>\n      <td>0</td>\n      <td>124</td>\n      <td>0CCCE6F8-57A4-47A2-8F40-2BE1A1B3479F</td>\n      <td>Cocktail History (S1E1)</td>\n      <td>Content</td>\n      <td>0ccce6f8-57a4-47a2-8f40-2be1a1b3479f</td>\n      <td>9ad54743d7e2436ab585a60939b9c7f3.m3u8</td>\n    </tr>\n    <tr>\n      <th>3</th>\n      <td>video</td>\n      <td>durationchange</td>\n      <td>https://prod-cdn.spiritsnetwork.com/Applicatio...</td>\n      <td>2022-03-07</td>\n      <td>19</td>\n      <td>19</td>\n      <td>1</td>\n      <td>1</td>\n      <td>0</td>\n      <td>0CCCE6F8-57A4-47A2-8F40-2BE1A1B3479F</td>\n      <td>Cocktail History (S1E1)</td>\n      <td>Content</td>\n      <td>0ccce6f8-57a4-47a2-8f40-2be1a1b3479f</td>\n      <td>9ad54743d7e2436ab585a60939b9c7f3.m3u8</td>\n    </tr>\n    <tr>\n      <th>4</th>\n      <td>video</td>\n      <td>durationchange</td>\n      <td>https://prod-cdn.spiritsnetwork.com/Applicatio...</td>\n      <td>2022-03-07</td>\n      <td>19</td>\n      <td>20</td>\n      <td>1</td>\n      <td>0</td>\n      <td>30</td>\n      <td>0CCCE6F8-57A4-47A2-8F40-2BE1A1B3479F</td>\n      <td>Cocktail History (S1E1)</td>\n      <td>Content</td>\n      <td>0ccce6f8-57a4-47a2-8f40-2be1a1b3479f</td>\n      <td>9ad54743d7e2436ab585a60939b9c7f3.m3u8</td>\n    </tr>\n    <tr>\n      <th>...</th>\n      <td>...</td>\n      <td>...</td>\n      <td>...</td>\n      <td>...</td>\n      <td>...</td>\n      <td>...</td>\n      <td>...</td>\n      <td>...</td>\n      <td>...</td>\n      <td>...</td>\n      <td>...</td>\n      <td>...</td>\n      <td>...</td>\n      <td>...</td>\n    </tr>\n    <tr>\n      <th>1535</th>\n      <td>video</td>\n      <td>waiting</td>\n      <td>https://prod-cdn.spiritsnetwork.com/Applicatio...</td>\n      <td>2022-01-31</td>\n      <td>0</td>\n      <td>5</td>\n      <td>1</td>\n      <td>1</td>\n      <td>0</td>\n      <td>E62C976B-DCBA-4CCA-93A8-DB4578F0A72D</td>\n      <td>Scotch: Story of Whisky, Part 1</td>\n      <td>Content</td>\n      <td>e62c976b-dcba-4cca-93a8-db4578f0a72d</td>\n      <td>6b7360abd63d456ebe027b6956fc1f94.m3u8</td>\n    </tr>\n    <tr>\n      <th>1536</th>\n      <td>video</td>\n      <td>waiting</td>\n      <td>https://prod-cdn.spiritsnetwork.com/Applicatio...</td>\n      <td>2022-01-31</td>\n      <td>14</td>\n      <td>29</td>\n      <td>1</td>\n      <td>1</td>\n      <td>0</td>\n      <td>E62C976B-DCBA-4CCA-93A8-DB4578F0A72D</td>\n      <td>Scotch: Story of Whisky, Part 1</td>\n      <td>Content</td>\n      <td>e62c976b-dcba-4cca-93a8-db4578f0a72d</td>\n      <td>6b7360abd63d456ebe027b6956fc1f94.m3u8</td>\n    </tr>\n    <tr>\n      <th>1537</th>\n      <td>video</td>\n      <td>waiting</td>\n      <td>https://prod-cdn.spiritsnetwork.com/Applicatio...</td>\n      <td>2022-01-31</td>\n      <td>5</td>\n      <td>10</td>\n      <td>1</td>\n      <td>1</td>\n      <td>0</td>\n      <td>EDBB1313-CDE4-44B0-A6EF-38052D86D07B</td>\n      <td>Hairy Bikers (S1E1)</td>\n      <td>Content</td>\n      <td>edbb1313-cde4-44b0-a6ef-38052d86d07b</td>\n      <td>7cbcdfc59a6648fe9b9ae700a3f592ae.m3u8</td>\n    </tr>\n    <tr>\n      <th>1538</th>\n      <td>video</td>\n      <td>waiting</td>\n      <td>https://prod-cdn.spiritsnetwork.com/Applicatio...</td>\n      <td>2022-01-31</td>\n      <td>3</td>\n      <td>17</td>\n      <td>1</td>\n      <td>1</td>\n      <td>0</td>\n      <td>F60B88E7-0733-462E-B02B-01A6256898B9</td>\n      <td>Spirits for Beginners: Glenmorangie</td>\n      <td>Content</td>\n      <td>f60b88e7-0733-462e-b02b-01a6256898b9</td>\n      <td>f6e7875c11c6444ea4508bc28bc4edec.m3u8</td>\n    </tr>\n    <tr>\n      <th>1540</th>\n      <td>video</td>\n      <td>waiting</td>\n      <td>https://prod-cdn.spiritsnetwork.com/Applicatio...</td>\n      <td>2022-01-31</td>\n      <td>0</td>\n      <td>24</td>\n      <td>1</td>\n      <td>1</td>\n      <td>0</td>\n      <td>FD20DDB1-C650-465C-AC92-A7622FEE99F9</td>\n      <td>Not Sure What to Watch?  Try this!</td>\n      <td>Content</td>\n      <td>fd20ddb1-c650-465c-ac92-a7622fee99f9</td>\n      <td>7ca9574bd3394f84883612adce2a8bdd.m3u8</td>\n    </tr>\n  </tbody>\n</table>\n<p>56765 rows × 14 columns</p>\n</div>"
     },
     "execution_count": 51,
     "metadata": {},
     "output_type": "execute_result"
    }
   ],
   "source": [
    "video_df['name'] = video_df['id'].apply(lambda x: get_name_by_id(x))\n",
    "# video_df = video_df.set_index('id')\n",
    "video_df\n",
    "\n"
   ],
   "metadata": {
    "collapsed": false,
    "pycharm": {
     "name": "#%%\n"
    }
   }
  },
  {
   "cell_type": "code",
   "execution_count": 52,
   "outputs": [
    {
     "data": {
      "text/plain": "<pymongo.results.InsertManyResult at 0x150630040>"
     },
     "execution_count": 52,
     "metadata": {},
     "output_type": "execute_result"
    }
   ],
   "source": [
    "from mongo_utils.mongo_connection import get_mongodb_client\n",
    "\n",
    "\n",
    "client = get_mongodb_client()\n",
    "db = client\n",
    "collection = db['video']\n",
    "data_dict = video_df.to_dict(\"records\")\n",
    "# Insert collection\n",
    "collection.insert_many(data_dict)\n"
   ],
   "metadata": {
    "collapsed": false,
    "pycharm": {
     "name": "#%%\n"
    }
   }
  },
  {
   "cell_type": "code",
   "execution_count": 15,
   "outputs": [
    {
     "data": {
      "text/plain": "     eventCategory     eventAction  \\\n0            video  durationchange   \n1            video  durationchange   \n2            video  durationchange   \n3            video  durationchange   \n4            video  durationchange   \n...            ...             ...   \n1535         video         waiting   \n1536         video         waiting   \n1537         video         waiting   \n1538         video         waiting   \n1540         video         waiting   \n\n                                             eventLabel       date  hour  \\\n0     https://prod-cdn.spiritsnetwork.com/Applicatio... 2022-03-06    22   \n1     https://prod-cdn.spiritsnetwork.com/Applicatio... 2022-03-07    11   \n2     https://prod-cdn.spiritsnetwork.com/Applicatio... 2022-03-07    11   \n3     https://prod-cdn.spiritsnetwork.com/Applicatio... 2022-03-07    19   \n4     https://prod-cdn.spiritsnetwork.com/Applicatio... 2022-03-07    19   \n...                                                 ...        ...   ...   \n1535  https://prod-cdn.spiritsnetwork.com/Applicatio... 2022-01-31     0   \n1536  https://prod-cdn.spiritsnetwork.com/Applicatio... 2022-01-31    14   \n1537  https://prod-cdn.spiritsnetwork.com/Applicatio... 2022-01-31     5   \n1538  https://prod-cdn.spiritsnetwork.com/Applicatio... 2022-01-31     3   \n1540  https://prod-cdn.spiritsnetwork.com/Applicatio... 2022-01-31     0   \n\n      minute  totalEvents  uniqueEvents  eventValue  \\\n0         19            1             1           0   \n1         16            1             1           0   \n2         18            1             0         124   \n3         19            1             1           0   \n4         20            1             0          30   \n...      ...          ...           ...         ...   \n1535       5            1             1           0   \n1536      29            1             1           0   \n1537      10            1             1           0   \n1538      17            1             1           0   \n1540      24            1             1           0   \n\n                                        id  \\\n0     0CCCE6F8-57A4-47A2-8F40-2BE1A1B3479F   \n1     0CCCE6F8-57A4-47A2-8F40-2BE1A1B3479F   \n2     0CCCE6F8-57A4-47A2-8F40-2BE1A1B3479F   \n3     0CCCE6F8-57A4-47A2-8F40-2BE1A1B3479F   \n4     0CCCE6F8-57A4-47A2-8F40-2BE1A1B3479F   \n...                                    ...   \n1535  E62C976B-DCBA-4CCA-93A8-DB4578F0A72D   \n1536  E62C976B-DCBA-4CCA-93A8-DB4578F0A72D   \n1537  EDBB1313-CDE4-44B0-A6EF-38052D86D07B   \n1538  F60B88E7-0733-462E-B02B-01A6256898B9   \n1540  FD20DDB1-C650-465C-AC92-A7622FEE99F9   \n\n                                     name eventType  \\\n0                 Cocktail History (S1E1)   Content   \n1                 Cocktail History (S1E1)   Content   \n2                 Cocktail History (S1E1)   Content   \n3                 Cocktail History (S1E1)   Content   \n4                 Cocktail History (S1E1)   Content   \n...                                   ...       ...   \n1535      Scotch: Story of Whisky, Part 1   Content   \n1536      Scotch: Story of Whisky, Part 1   Content   \n1537                  Hairy Bikers (S1E1)   Content   \n1538  Spirits for Beginners: Glenmorangie   Content   \n1540   Not Sure What to Watch?  Try this!   Content   \n\n                             uniqueEventID  \\\n0     0ccce6f8-57a4-47a2-8f40-2be1a1b3479f   \n1     0ccce6f8-57a4-47a2-8f40-2be1a1b3479f   \n2     0ccce6f8-57a4-47a2-8f40-2be1a1b3479f   \n3     0ccce6f8-57a4-47a2-8f40-2be1a1b3479f   \n4     0ccce6f8-57a4-47a2-8f40-2be1a1b3479f   \n...                                    ...   \n1535  e62c976b-dcba-4cca-93a8-db4578f0a72d   \n1536  e62c976b-dcba-4cca-93a8-db4578f0a72d   \n1537  edbb1313-cde4-44b0-a6ef-38052d86d07b   \n1538  f60b88e7-0733-462e-b02b-01a6256898b9   \n1540  fd20ddb1-c650-465c-ac92-a7622fee99f9   \n\n                                contantName           Key_Pair_Id  \\\n0     9ad54743d7e2436ab585a60939b9c7f3.m3u8  APKAJ4OZPWOQEQNFLQCA   \n1     9ad54743d7e2436ab585a60939b9c7f3.m3u8  APKAJ4OZPWOQEQNFLQCA   \n2     9ad54743d7e2436ab585a60939b9c7f3.m3u8  APKAJ4OZPWOQEQNFLQCA   \n3     9ad54743d7e2436ab585a60939b9c7f3.m3u8  APKAJ4OZPWOQEQNFLQCA   \n4     9ad54743d7e2436ab585a60939b9c7f3.m3u8  APKAJ4OZPWOQEQNFLQCA   \n...                                     ...                   ...   \n1535  6b7360abd63d456ebe027b6956fc1f94.m3u8               Content   \n1536  6b7360abd63d456ebe027b6956fc1f94.m3u8               Content   \n1537  7cbcdfc59a6648fe9b9ae700a3f592ae.m3u8               Content   \n1538  f6e7875c11c6444ea4508bc28bc4edec.m3u8               Content   \n1540  7ca9574bd3394f84883612adce2a8bdd.m3u8               Content   \n\n                                                 Policy  \\\n0     eyJTdGF0ZW1lbnQiOiBbeyJSZXNvdXJjZSI6IioiLCJDb2...   \n1     eyJTdGF0ZW1lbnQiOiBbeyJSZXNvdXJjZSI6IioiLCJDb2...   \n2     eyJTdGF0ZW1lbnQiOiBbeyJSZXNvdXJjZSI6IioiLCJDb2...   \n3     eyJTdGF0ZW1lbnQiOiBbeyJSZXNvdXJjZSI6IioiLCJDb2...   \n4     eyJTdGF0ZW1lbnQiOiBbeyJSZXNvdXJjZSI6IioiLCJDb2...   \n...                                                 ...   \n1535               e62c976b-dcba-4cca-93a8-db4578f0a72d   \n1536               e62c976b-dcba-4cca-93a8-db4578f0a72d   \n1537               edbb1313-cde4-44b0-a6ef-38052d86d07b   \n1538               f60b88e7-0733-462e-b02b-01a6256898b9   \n1540               fd20ddb1-c650-465c-ac92-a7622fee99f9   \n\n                                              Signature  \n0     QrDM-oLeD0rupIUOh15Gb~fgibxhdQ4BZLcYkhZTIchoa8...  \n1     QrDM-oLeD0rupIUOh15Gb~fgibxhdQ4BZLcYkhZTIchoa8...  \n2     QrDM-oLeD0rupIUOh15Gb~fgibxhdQ4BZLcYkhZTIchoa8...  \n3     I00TllhdrUxGX9mfdy0lOW-VEuw7fxhaJlr9NqlheZfyc9...  \n4     I00TllhdrUxGX9mfdy0lOW-VEuw7fxhaJlr9NqlheZfyc9...  \n...                                                 ...  \n1535              6b7360abd63d456ebe027b6956fc1f94.m3u8  \n1536              6b7360abd63d456ebe027b6956fc1f94.m3u8  \n1537              7cbcdfc59a6648fe9b9ae700a3f592ae.m3u8  \n1538              f6e7875c11c6444ea4508bc28bc4edec.m3u8  \n1540              7ca9574bd3394f84883612adce2a8bdd.m3u8  \n\n[56765 rows x 17 columns]",
      "text/html": "<div>\n<style scoped>\n    .dataframe tbody tr th:only-of-type {\n        vertical-align: middle;\n    }\n\n    .dataframe tbody tr th {\n        vertical-align: top;\n    }\n\n    .dataframe thead th {\n        text-align: right;\n    }\n</style>\n<table border=\"1\" class=\"dataframe\">\n  <thead>\n    <tr style=\"text-align: right;\">\n      <th></th>\n      <th>eventCategory</th>\n      <th>eventAction</th>\n      <th>eventLabel</th>\n      <th>date</th>\n      <th>hour</th>\n      <th>minute</th>\n      <th>totalEvents</th>\n      <th>uniqueEvents</th>\n      <th>eventValue</th>\n      <th>id</th>\n      <th>name</th>\n      <th>eventType</th>\n      <th>uniqueEventID</th>\n      <th>contantName</th>\n      <th>Key_Pair_Id</th>\n      <th>Policy</th>\n      <th>Signature</th>\n    </tr>\n  </thead>\n  <tbody>\n    <tr>\n      <th>0</th>\n      <td>video</td>\n      <td>durationchange</td>\n      <td>https://prod-cdn.spiritsnetwork.com/Applicatio...</td>\n      <td>2022-03-06</td>\n      <td>22</td>\n      <td>19</td>\n      <td>1</td>\n      <td>1</td>\n      <td>0</td>\n      <td>0CCCE6F8-57A4-47A2-8F40-2BE1A1B3479F</td>\n      <td>Cocktail History (S1E1)</td>\n      <td>Content</td>\n      <td>0ccce6f8-57a4-47a2-8f40-2be1a1b3479f</td>\n      <td>9ad54743d7e2436ab585a60939b9c7f3.m3u8</td>\n      <td>APKAJ4OZPWOQEQNFLQCA</td>\n      <td>eyJTdGF0ZW1lbnQiOiBbeyJSZXNvdXJjZSI6IioiLCJDb2...</td>\n      <td>QrDM-oLeD0rupIUOh15Gb~fgibxhdQ4BZLcYkhZTIchoa8...</td>\n    </tr>\n    <tr>\n      <th>1</th>\n      <td>video</td>\n      <td>durationchange</td>\n      <td>https://prod-cdn.spiritsnetwork.com/Applicatio...</td>\n      <td>2022-03-07</td>\n      <td>11</td>\n      <td>16</td>\n      <td>1</td>\n      <td>1</td>\n      <td>0</td>\n      <td>0CCCE6F8-57A4-47A2-8F40-2BE1A1B3479F</td>\n      <td>Cocktail History (S1E1)</td>\n      <td>Content</td>\n      <td>0ccce6f8-57a4-47a2-8f40-2be1a1b3479f</td>\n      <td>9ad54743d7e2436ab585a60939b9c7f3.m3u8</td>\n      <td>APKAJ4OZPWOQEQNFLQCA</td>\n      <td>eyJTdGF0ZW1lbnQiOiBbeyJSZXNvdXJjZSI6IioiLCJDb2...</td>\n      <td>QrDM-oLeD0rupIUOh15Gb~fgibxhdQ4BZLcYkhZTIchoa8...</td>\n    </tr>\n    <tr>\n      <th>2</th>\n      <td>video</td>\n      <td>durationchange</td>\n      <td>https://prod-cdn.spiritsnetwork.com/Applicatio...</td>\n      <td>2022-03-07</td>\n      <td>11</td>\n      <td>18</td>\n      <td>1</td>\n      <td>0</td>\n      <td>124</td>\n      <td>0CCCE6F8-57A4-47A2-8F40-2BE1A1B3479F</td>\n      <td>Cocktail History (S1E1)</td>\n      <td>Content</td>\n      <td>0ccce6f8-57a4-47a2-8f40-2be1a1b3479f</td>\n      <td>9ad54743d7e2436ab585a60939b9c7f3.m3u8</td>\n      <td>APKAJ4OZPWOQEQNFLQCA</td>\n      <td>eyJTdGF0ZW1lbnQiOiBbeyJSZXNvdXJjZSI6IioiLCJDb2...</td>\n      <td>QrDM-oLeD0rupIUOh15Gb~fgibxhdQ4BZLcYkhZTIchoa8...</td>\n    </tr>\n    <tr>\n      <th>3</th>\n      <td>video</td>\n      <td>durationchange</td>\n      <td>https://prod-cdn.spiritsnetwork.com/Applicatio...</td>\n      <td>2022-03-07</td>\n      <td>19</td>\n      <td>19</td>\n      <td>1</td>\n      <td>1</td>\n      <td>0</td>\n      <td>0CCCE6F8-57A4-47A2-8F40-2BE1A1B3479F</td>\n      <td>Cocktail History (S1E1)</td>\n      <td>Content</td>\n      <td>0ccce6f8-57a4-47a2-8f40-2be1a1b3479f</td>\n      <td>9ad54743d7e2436ab585a60939b9c7f3.m3u8</td>\n      <td>APKAJ4OZPWOQEQNFLQCA</td>\n      <td>eyJTdGF0ZW1lbnQiOiBbeyJSZXNvdXJjZSI6IioiLCJDb2...</td>\n      <td>I00TllhdrUxGX9mfdy0lOW-VEuw7fxhaJlr9NqlheZfyc9...</td>\n    </tr>\n    <tr>\n      <th>4</th>\n      <td>video</td>\n      <td>durationchange</td>\n      <td>https://prod-cdn.spiritsnetwork.com/Applicatio...</td>\n      <td>2022-03-07</td>\n      <td>19</td>\n      <td>20</td>\n      <td>1</td>\n      <td>0</td>\n      <td>30</td>\n      <td>0CCCE6F8-57A4-47A2-8F40-2BE1A1B3479F</td>\n      <td>Cocktail History (S1E1)</td>\n      <td>Content</td>\n      <td>0ccce6f8-57a4-47a2-8f40-2be1a1b3479f</td>\n      <td>9ad54743d7e2436ab585a60939b9c7f3.m3u8</td>\n      <td>APKAJ4OZPWOQEQNFLQCA</td>\n      <td>eyJTdGF0ZW1lbnQiOiBbeyJSZXNvdXJjZSI6IioiLCJDb2...</td>\n      <td>I00TllhdrUxGX9mfdy0lOW-VEuw7fxhaJlr9NqlheZfyc9...</td>\n    </tr>\n    <tr>\n      <th>...</th>\n      <td>...</td>\n      <td>...</td>\n      <td>...</td>\n      <td>...</td>\n      <td>...</td>\n      <td>...</td>\n      <td>...</td>\n      <td>...</td>\n      <td>...</td>\n      <td>...</td>\n      <td>...</td>\n      <td>...</td>\n      <td>...</td>\n      <td>...</td>\n      <td>...</td>\n      <td>...</td>\n      <td>...</td>\n    </tr>\n    <tr>\n      <th>1535</th>\n      <td>video</td>\n      <td>waiting</td>\n      <td>https://prod-cdn.spiritsnetwork.com/Applicatio...</td>\n      <td>2022-01-31</td>\n      <td>0</td>\n      <td>5</td>\n      <td>1</td>\n      <td>1</td>\n      <td>0</td>\n      <td>E62C976B-DCBA-4CCA-93A8-DB4578F0A72D</td>\n      <td>Scotch: Story of Whisky, Part 1</td>\n      <td>Content</td>\n      <td>e62c976b-dcba-4cca-93a8-db4578f0a72d</td>\n      <td>6b7360abd63d456ebe027b6956fc1f94.m3u8</td>\n      <td>Content</td>\n      <td>e62c976b-dcba-4cca-93a8-db4578f0a72d</td>\n      <td>6b7360abd63d456ebe027b6956fc1f94.m3u8</td>\n    </tr>\n    <tr>\n      <th>1536</th>\n      <td>video</td>\n      <td>waiting</td>\n      <td>https://prod-cdn.spiritsnetwork.com/Applicatio...</td>\n      <td>2022-01-31</td>\n      <td>14</td>\n      <td>29</td>\n      <td>1</td>\n      <td>1</td>\n      <td>0</td>\n      <td>E62C976B-DCBA-4CCA-93A8-DB4578F0A72D</td>\n      <td>Scotch: Story of Whisky, Part 1</td>\n      <td>Content</td>\n      <td>e62c976b-dcba-4cca-93a8-db4578f0a72d</td>\n      <td>6b7360abd63d456ebe027b6956fc1f94.m3u8</td>\n      <td>Content</td>\n      <td>e62c976b-dcba-4cca-93a8-db4578f0a72d</td>\n      <td>6b7360abd63d456ebe027b6956fc1f94.m3u8</td>\n    </tr>\n    <tr>\n      <th>1537</th>\n      <td>video</td>\n      <td>waiting</td>\n      <td>https://prod-cdn.spiritsnetwork.com/Applicatio...</td>\n      <td>2022-01-31</td>\n      <td>5</td>\n      <td>10</td>\n      <td>1</td>\n      <td>1</td>\n      <td>0</td>\n      <td>EDBB1313-CDE4-44B0-A6EF-38052D86D07B</td>\n      <td>Hairy Bikers (S1E1)</td>\n      <td>Content</td>\n      <td>edbb1313-cde4-44b0-a6ef-38052d86d07b</td>\n      <td>7cbcdfc59a6648fe9b9ae700a3f592ae.m3u8</td>\n      <td>Content</td>\n      <td>edbb1313-cde4-44b0-a6ef-38052d86d07b</td>\n      <td>7cbcdfc59a6648fe9b9ae700a3f592ae.m3u8</td>\n    </tr>\n    <tr>\n      <th>1538</th>\n      <td>video</td>\n      <td>waiting</td>\n      <td>https://prod-cdn.spiritsnetwork.com/Applicatio...</td>\n      <td>2022-01-31</td>\n      <td>3</td>\n      <td>17</td>\n      <td>1</td>\n      <td>1</td>\n      <td>0</td>\n      <td>F60B88E7-0733-462E-B02B-01A6256898B9</td>\n      <td>Spirits for Beginners: Glenmorangie</td>\n      <td>Content</td>\n      <td>f60b88e7-0733-462e-b02b-01a6256898b9</td>\n      <td>f6e7875c11c6444ea4508bc28bc4edec.m3u8</td>\n      <td>Content</td>\n      <td>f60b88e7-0733-462e-b02b-01a6256898b9</td>\n      <td>f6e7875c11c6444ea4508bc28bc4edec.m3u8</td>\n    </tr>\n    <tr>\n      <th>1540</th>\n      <td>video</td>\n      <td>waiting</td>\n      <td>https://prod-cdn.spiritsnetwork.com/Applicatio...</td>\n      <td>2022-01-31</td>\n      <td>0</td>\n      <td>24</td>\n      <td>1</td>\n      <td>1</td>\n      <td>0</td>\n      <td>FD20DDB1-C650-465C-AC92-A7622FEE99F9</td>\n      <td>Not Sure What to Watch?  Try this!</td>\n      <td>Content</td>\n      <td>fd20ddb1-c650-465c-ac92-a7622fee99f9</td>\n      <td>7ca9574bd3394f84883612adce2a8bdd.m3u8</td>\n      <td>Content</td>\n      <td>fd20ddb1-c650-465c-ac92-a7622fee99f9</td>\n      <td>7ca9574bd3394f84883612adce2a8bdd.m3u8</td>\n    </tr>\n  </tbody>\n</table>\n<p>56765 rows × 17 columns</p>\n</div>"
     },
     "execution_count": 15,
     "metadata": {},
     "output_type": "execute_result"
    }
   ],
   "source": [
    "video_df"
   ],
   "metadata": {
    "collapsed": false,
    "pycharm": {
     "name": "#%%\n"
    }
   }
  },
  {
   "cell_type": "code",
   "execution_count": 21,
   "outputs": [],
   "source": [
    "agg = {'eventAction': 'count',\n",
    "       'uniqueEvents': 'sum',\n",
    "       'totalEvents': 'sum',\n",
    "       'eventValue': 'sum'}\n",
    "gdf = video_df[video_df['eventAction'] == 'playing'].groupby(['date', 'hour', 'minute', 'eventAction', 'name']).agg(agg)"
   ],
   "metadata": {
    "collapsed": false,
    "pycharm": {
     "name": "#%%\n"
    }
   }
  },
  {
   "cell_type": "code",
   "execution_count": 22,
   "outputs": [
    {
     "data": {
      "text/plain": "                                                                              eventAction  \\\ndate       hour minute eventAction name                                                     \n2022-01-01 0    0      playing     Cardi's WhipShots (S1E2)                             1   \n                8      playing     Cardi's WhipShots (S1E2)                             1   \n                19     playing     Secure your Whipshots                                1   \n                25     playing     Cardi's WhipShots (S1E2)                             1   \n                28     playing     Secure your Whipshots                                1   \n...                                                                                   ...   \n2022-04-02 21   29     playing     The Bonneville Cocktail Collection (S3E7)            1   \n                44     playing     The Bonneville Cocktail Collection (S3E7)            1   \n                54     playing     Liquidity                                            1   \n                55     playing     Liquidity                                            1   \n                56     playing     Liquidity                                            1   \n\n                                                                              uniqueEvents  \\\ndate       hour minute eventAction name                                                      \n2022-01-01 0    0      playing     Cardi's WhipShots (S1E2)                              1   \n                8      playing     Cardi's WhipShots (S1E2)                              0   \n                19     playing     Secure your Whipshots                                 1   \n                25     playing     Cardi's WhipShots (S1E2)                              0   \n                28     playing     Secure your Whipshots                                 1   \n...                                                                                    ...   \n2022-04-02 21   29     playing     The Bonneville Cocktail Collection (S3E7)             0   \n                44     playing     The Bonneville Cocktail Collection (S3E7)             0   \n                54     playing     Liquidity                                             1   \n                55     playing     Liquidity                                             0   \n                56     playing     Liquidity                                             0   \n\n                                                                              totalEvents  \\\ndate       hour minute eventAction name                                                     \n2022-01-01 0    0      playing     Cardi's WhipShots (S1E2)                             4   \n                8      playing     Cardi's WhipShots (S1E2)                             2   \n                19     playing     Secure your Whipshots                                2   \n                25     playing     Cardi's WhipShots (S1E2)                             2   \n                28     playing     Secure your Whipshots                                1   \n...                                                                                   ...   \n2022-04-02 21   29     playing     The Bonneville Cocktail Collection (S3E7)            4   \n                44     playing     The Bonneville Cocktail Collection (S3E7)            1   \n                54     playing     Liquidity                                            1   \n                55     playing     Liquidity                                            1   \n                56     playing     Liquidity                                            2   \n\n                                                                              eventValue  \ndate       hour minute eventAction name                                                   \n2022-01-01 0    0      playing     Cardi's WhipShots (S1E2)                          330  \n                8      playing     Cardi's WhipShots (S1E2)                          264  \n                19     playing     Secure your Whipshots                               0  \n                25     playing     Cardi's WhipShots (S1E2)                         1290  \n                28     playing     Secure your Whipshots                               0  \n...                                                                                  ...  \n2022-04-02 21   29     playing     The Bonneville Cocktail Collection (S3E7)         875  \n                44     playing     The Bonneville Cocktail Collection (S3E7)          33  \n                54     playing     Liquidity                                           0  \n                55     playing     Liquidity                                           1  \n                56     playing     Liquidity                                          97  \n\n[5190 rows x 4 columns]",
      "text/html": "<div>\n<style scoped>\n    .dataframe tbody tr th:only-of-type {\n        vertical-align: middle;\n    }\n\n    .dataframe tbody tr th {\n        vertical-align: top;\n    }\n\n    .dataframe thead th {\n        text-align: right;\n    }\n</style>\n<table border=\"1\" class=\"dataframe\">\n  <thead>\n    <tr style=\"text-align: right;\">\n      <th></th>\n      <th></th>\n      <th></th>\n      <th></th>\n      <th></th>\n      <th>eventAction</th>\n      <th>uniqueEvents</th>\n      <th>totalEvents</th>\n      <th>eventValue</th>\n    </tr>\n    <tr>\n      <th>date</th>\n      <th>hour</th>\n      <th>minute</th>\n      <th>eventAction</th>\n      <th>name</th>\n      <th></th>\n      <th></th>\n      <th></th>\n      <th></th>\n    </tr>\n  </thead>\n  <tbody>\n    <tr>\n      <th rowspan=\"5\" valign=\"top\">2022-01-01</th>\n      <th rowspan=\"5\" valign=\"top\">0</th>\n      <th>0</th>\n      <th>playing</th>\n      <th>Cardi's WhipShots (S1E2)</th>\n      <td>1</td>\n      <td>1</td>\n      <td>4</td>\n      <td>330</td>\n    </tr>\n    <tr>\n      <th>8</th>\n      <th>playing</th>\n      <th>Cardi's WhipShots (S1E2)</th>\n      <td>1</td>\n      <td>0</td>\n      <td>2</td>\n      <td>264</td>\n    </tr>\n    <tr>\n      <th>19</th>\n      <th>playing</th>\n      <th>Secure your Whipshots</th>\n      <td>1</td>\n      <td>1</td>\n      <td>2</td>\n      <td>0</td>\n    </tr>\n    <tr>\n      <th>25</th>\n      <th>playing</th>\n      <th>Cardi's WhipShots (S1E2)</th>\n      <td>1</td>\n      <td>0</td>\n      <td>2</td>\n      <td>1290</td>\n    </tr>\n    <tr>\n      <th>28</th>\n      <th>playing</th>\n      <th>Secure your Whipshots</th>\n      <td>1</td>\n      <td>1</td>\n      <td>1</td>\n      <td>0</td>\n    </tr>\n    <tr>\n      <th>...</th>\n      <th>...</th>\n      <th>...</th>\n      <th>...</th>\n      <th>...</th>\n      <td>...</td>\n      <td>...</td>\n      <td>...</td>\n      <td>...</td>\n    </tr>\n    <tr>\n      <th rowspan=\"5\" valign=\"top\">2022-04-02</th>\n      <th rowspan=\"5\" valign=\"top\">21</th>\n      <th>29</th>\n      <th>playing</th>\n      <th>The Bonneville Cocktail Collection (S3E7)</th>\n      <td>1</td>\n      <td>0</td>\n      <td>4</td>\n      <td>875</td>\n    </tr>\n    <tr>\n      <th>44</th>\n      <th>playing</th>\n      <th>The Bonneville Cocktail Collection (S3E7)</th>\n      <td>1</td>\n      <td>0</td>\n      <td>1</td>\n      <td>33</td>\n    </tr>\n    <tr>\n      <th>54</th>\n      <th>playing</th>\n      <th>Liquidity</th>\n      <td>1</td>\n      <td>1</td>\n      <td>1</td>\n      <td>0</td>\n    </tr>\n    <tr>\n      <th>55</th>\n      <th>playing</th>\n      <th>Liquidity</th>\n      <td>1</td>\n      <td>0</td>\n      <td>1</td>\n      <td>1</td>\n    </tr>\n    <tr>\n      <th>56</th>\n      <th>playing</th>\n      <th>Liquidity</th>\n      <td>1</td>\n      <td>0</td>\n      <td>2</td>\n      <td>97</td>\n    </tr>\n  </tbody>\n</table>\n<p>5190 rows × 4 columns</p>\n</div>"
     },
     "execution_count": 22,
     "metadata": {},
     "output_type": "execute_result"
    }
   ],
   "source": [
    "gdf\n",
    "\n"
   ],
   "metadata": {
    "collapsed": false,
    "pycharm": {
     "name": "#%%\n"
    }
   }
  },
  {
   "cell_type": "code",
   "execution_count": 23,
   "outputs": [
    {
     "data": {
      "text/plain": "array(['durationchange', 'ended', 'pause', 'playing', 'progress',\n       'seeked', 'seeking', 'volumechange', 'waiting'], dtype=object)"
     },
     "execution_count": 23,
     "metadata": {},
     "output_type": "execute_result"
    }
   ],
   "source": [
    "video_df['eventAction'].unique()"
   ],
   "metadata": {
    "collapsed": false,
    "pycharm": {
     "name": "#%%\n"
    }
   }
  },
  {
   "cell_type": "code",
   "execution_count": 86,
   "outputs": [],
   "source": [
    "video_df_ended = video_df[video_df['eventAction'] == 'ended'][['date', 'hour', 'minute', 'eventLabel', 'name', 'totalEvents','eventValue']].copy()\n",
    "video_df_playing = video_df[video_df['eventAction'] == 'playing'][['date', 'hour', 'minute', 'eventLabel', 'name', 'totalEvents','eventValue']].copy()\n",
    "video_df_seeked = video_df[video_df['eventAction'] == 'seeked'][['date', 'hour', 'minute', 'eventLabel', 'name', 'totalEvents','eventValue']].copy()\n",
    "video_df_seeking = video_df[video_df['eventAction'] == 'seeking'][['date', 'hour', 'minute', 'eventLabel', 'name', 'totalEvents','eventValue']].copy()"
   ],
   "metadata": {
    "collapsed": false,
    "pycharm": {
     "name": "#%%\n"
    }
   }
  },
  {
   "cell_type": "markdown",
   "source": [
    "what videos were started watching(also how many videos)"
   ],
   "metadata": {
    "collapsed": false,
    "pycharm": {
     "name": "#%% md\n"
    }
   }
  },
  {
   "cell_type": "code",
   "execution_count": 75,
   "outputs": [
    {
     "data": {
      "text/plain": "name\n#WhiskyWednesdays (S1E1)                                                           33\n#WhiskyWednesdays (S1E15)                                                           4\n#WhiskyWednesdays (S1E2)                                                            4\n#WhiskyWednesdays (S1E3)                                                            2\n#WhiskyWednesdays (S1E4)                                                            1\n                                                                                 ... \nWine Uncorked (S1E1)                                                              103\nWomen's Whiskey Revolution (S1E1)                                                  40\nWorld Whiskey: Royal Salute Polo Estancia Edition                                   1\nWorld Whisky: Puni Arte Limited Edition 01 & Michel Couvreur The Unique Whisky     12\nWorld Whisky: Waterford Whisky                                                     29\nName: name, Length: 271, dtype: int64"
     },
     "execution_count": 75,
     "metadata": {},
     "output_type": "execute_result"
    }
   ],
   "source": [
    "video_df_playing.groupby('name')['name'].count()"
   ],
   "metadata": {
    "collapsed": false,
    "pycharm": {
     "name": "#%%\n"
    }
   }
  },
  {
   "cell_type": "markdown",
   "source": [
    "what videos have been viewed to the end(also how many videos)"
   ],
   "metadata": {
    "collapsed": false,
    "pycharm": {
     "name": "#%% md\n"
    }
   }
  },
  {
   "cell_type": "code",
   "execution_count": 77,
   "outputs": [
    {
     "data": {
      "text/plain": "name\n#WhiskyWednesdays (S1E1)             1\n#WhiskyWednesdays (S1E2)             1\n#WhiskyWednesdays (S1E6)             2\n#WhiskyWednesdays (S2E1)             1\n#WhiskyWednesdays (S2E3)             1\n                                    ..\nWild About Whiskey (S1E1)            1\nWild About Whiskey (S1E2)            3\nWine Uncorked (S1E1)                 5\nWomen's Whiskey Revolution (S1E1)    5\nWorld Whisky: Waterford Whisky       5\nName: name, Length: 179, dtype: int64"
     },
     "execution_count": 77,
     "metadata": {},
     "output_type": "execute_result"
    }
   ],
   "source": [
    "video_df_ended.groupby('name')['name'].count()"
   ],
   "metadata": {
    "collapsed": false,
    "pycharm": {
     "name": "#%%\n"
    }
   }
  },
  {
   "cell_type": "markdown",
   "source": [
    "Seek Time (or Seek Latency). This metric represents the time it takes for your video to resume when you scrub to another position. You can calculate this event by calculating the difference between the timestamps of the seeking and the seeked event."
   ],
   "metadata": {
    "collapsed": false,
    "pycharm": {
     "name": "#%% md\n"
    }
   }
  },
  {
   "cell_type": "code",
   "execution_count": 89,
   "outputs": [
    {
     "data": {
      "text/plain": "                                    name  seek_time\n3                Cocktail History (S1E1)        124\n4                Cocktail History (S1E1)        248\n5                Cocktail History (S1E1)        124\n10             Wild About Whiskey (S1E2)       1117\n12             Wild About Whiskey (S1E2)       1629\n...                                  ...        ...\n22183         Frontier Filmmakers (S1E1)         45\n22184         Frontier Filmmakers (S1E1)         45\n22196  Women's Whiskey Revolution (S1E1)       1977\n22198               Wine Uncorked (S1E1)        207\n22199               Wine Uncorked (S1E1)        207\n\n[14916 rows x 2 columns]",
      "text/html": "<div>\n<style scoped>\n    .dataframe tbody tr th:only-of-type {\n        vertical-align: middle;\n    }\n\n    .dataframe tbody tr th {\n        vertical-align: top;\n    }\n\n    .dataframe thead th {\n        text-align: right;\n    }\n</style>\n<table border=\"1\" class=\"dataframe\">\n  <thead>\n    <tr style=\"text-align: right;\">\n      <th></th>\n      <th>name</th>\n      <th>seek_time</th>\n    </tr>\n  </thead>\n  <tbody>\n    <tr>\n      <th>3</th>\n      <td>Cocktail History (S1E1)</td>\n      <td>124</td>\n    </tr>\n    <tr>\n      <th>4</th>\n      <td>Cocktail History (S1E1)</td>\n      <td>248</td>\n    </tr>\n    <tr>\n      <th>5</th>\n      <td>Cocktail History (S1E1)</td>\n      <td>124</td>\n    </tr>\n    <tr>\n      <th>10</th>\n      <td>Wild About Whiskey (S1E2)</td>\n      <td>1117</td>\n    </tr>\n    <tr>\n      <th>12</th>\n      <td>Wild About Whiskey (S1E2)</td>\n      <td>1629</td>\n    </tr>\n    <tr>\n      <th>...</th>\n      <td>...</td>\n      <td>...</td>\n    </tr>\n    <tr>\n      <th>22183</th>\n      <td>Frontier Filmmakers (S1E1)</td>\n      <td>45</td>\n    </tr>\n    <tr>\n      <th>22184</th>\n      <td>Frontier Filmmakers (S1E1)</td>\n      <td>45</td>\n    </tr>\n    <tr>\n      <th>22196</th>\n      <td>Women's Whiskey Revolution (S1E1)</td>\n      <td>1977</td>\n    </tr>\n    <tr>\n      <th>22198</th>\n      <td>Wine Uncorked (S1E1)</td>\n      <td>207</td>\n    </tr>\n    <tr>\n      <th>22199</th>\n      <td>Wine Uncorked (S1E1)</td>\n      <td>207</td>\n    </tr>\n  </tbody>\n</table>\n<p>14916 rows × 2 columns</p>\n</div>"
     },
     "execution_count": 89,
     "metadata": {},
     "output_type": "execute_result"
    }
   ],
   "source": [
    "seek_time = pd.merge(video_df_seeking, video_df_seeked,\n",
    "             on=['eventLabel', 'name', 'date'],\n",
    "             how='inner',\n",
    "             suffixes=['_seeking', '_seeked'])\n",
    "seek_time['seek_time'] = abs(seek_time['eventValue_seeked'] - seek_time['eventValue_seeking'])\n",
    "seek_time[seek_time['seek_time'] > 0][['name', 'seek_time']]"
   ],
   "metadata": {
    "collapsed": false,
    "pycharm": {
     "name": "#%%\n"
    }
   }
  },
  {
   "cell_type": "code",
   "execution_count": 46,
   "outputs": [
    {
     "data": {
      "text/plain": "          date  hour  minute  \\\n52  2022-03-06    17      59   \n53  2022-03-07     9      27   \n117 2022-02-23    13      50   \n120 2022-02-22     1      19   \n121 2022-02-23    13      51   \n..         ...   ...     ...   \n117 2022-01-31    21       2   \n118 2022-02-01     3      33   \n119 2022-02-01     4      27   \n120 2022-02-01    19       7   \n121 2022-02-01    17      17   \n\n                                            eventLabel  \\\n52   https://prod-cdn.spiritsnetwork.com/Applicatio...   \n53   https://prod-cdn.spiritsnetwork.com/Applicatio...   \n117  https://prod-cdn.spiritsnetwork.com/Applicatio...   \n120  https://prod-cdn.spiritsnetwork.com/Applicatio...   \n121  https://prod-cdn.spiritsnetwork.com/Applicatio...   \n..                                                 ...   \n117  https://prod-cdn.spiritsnetwork.com/Applicatio...   \n118  https://prod-cdn.spiritsnetwork.com/Applicatio...   \n119  https://prod-cdn.spiritsnetwork.com/Applicatio...   \n120  https://prod-cdn.spiritsnetwork.com/Applicatio...   \n121  https://prod-cdn.spiritsnetwork.com/Applicatio...   \n\n                               name  totalEvents  eventValue  \n52             Lost in Taste (S1E1)            1         396  \n53                       Mix (S3E3)            1         182  \n117            Lost in Taste (S1E1)            1         396  \n120        Cardi's WhipShots (S1E1)            1         887  \n121       Check out Spirits Network            1          72  \n..                              ...          ...         ...  \n117  World Whisky: Waterford Whisky            1         255  \n118  World Whisky: Waterford Whisky            1         255  \n119  World Whisky: Waterford Whisky            1         255  \n120  World Whisky: Waterford Whisky            1         255  \n121              First Taste (S1E1)            1         692  \n\n[802 rows x 7 columns]",
      "text/html": "<div>\n<style scoped>\n    .dataframe tbody tr th:only-of-type {\n        vertical-align: middle;\n    }\n\n    .dataframe tbody tr th {\n        vertical-align: top;\n    }\n\n    .dataframe thead th {\n        text-align: right;\n    }\n</style>\n<table border=\"1\" class=\"dataframe\">\n  <thead>\n    <tr style=\"text-align: right;\">\n      <th></th>\n      <th>date</th>\n      <th>hour</th>\n      <th>minute</th>\n      <th>eventLabel</th>\n      <th>name</th>\n      <th>totalEvents</th>\n      <th>eventValue</th>\n    </tr>\n  </thead>\n  <tbody>\n    <tr>\n      <th>52</th>\n      <td>2022-03-06</td>\n      <td>17</td>\n      <td>59</td>\n      <td>https://prod-cdn.spiritsnetwork.com/Applicatio...</td>\n      <td>Lost in Taste (S1E1)</td>\n      <td>1</td>\n      <td>396</td>\n    </tr>\n    <tr>\n      <th>53</th>\n      <td>2022-03-07</td>\n      <td>9</td>\n      <td>27</td>\n      <td>https://prod-cdn.spiritsnetwork.com/Applicatio...</td>\n      <td>Mix (S3E3)</td>\n      <td>1</td>\n      <td>182</td>\n    </tr>\n    <tr>\n      <th>117</th>\n      <td>2022-02-23</td>\n      <td>13</td>\n      <td>50</td>\n      <td>https://prod-cdn.spiritsnetwork.com/Applicatio...</td>\n      <td>Lost in Taste (S1E1)</td>\n      <td>1</td>\n      <td>396</td>\n    </tr>\n    <tr>\n      <th>120</th>\n      <td>2022-02-22</td>\n      <td>1</td>\n      <td>19</td>\n      <td>https://prod-cdn.spiritsnetwork.com/Applicatio...</td>\n      <td>Cardi's WhipShots (S1E1)</td>\n      <td>1</td>\n      <td>887</td>\n    </tr>\n    <tr>\n      <th>121</th>\n      <td>2022-02-23</td>\n      <td>13</td>\n      <td>51</td>\n      <td>https://prod-cdn.spiritsnetwork.com/Applicatio...</td>\n      <td>Check out Spirits Network</td>\n      <td>1</td>\n      <td>72</td>\n    </tr>\n    <tr>\n      <th>...</th>\n      <td>...</td>\n      <td>...</td>\n      <td>...</td>\n      <td>...</td>\n      <td>...</td>\n      <td>...</td>\n      <td>...</td>\n    </tr>\n    <tr>\n      <th>117</th>\n      <td>2022-01-31</td>\n      <td>21</td>\n      <td>2</td>\n      <td>https://prod-cdn.spiritsnetwork.com/Applicatio...</td>\n      <td>World Whisky: Waterford Whisky</td>\n      <td>1</td>\n      <td>255</td>\n    </tr>\n    <tr>\n      <th>118</th>\n      <td>2022-02-01</td>\n      <td>3</td>\n      <td>33</td>\n      <td>https://prod-cdn.spiritsnetwork.com/Applicatio...</td>\n      <td>World Whisky: Waterford Whisky</td>\n      <td>1</td>\n      <td>255</td>\n    </tr>\n    <tr>\n      <th>119</th>\n      <td>2022-02-01</td>\n      <td>4</td>\n      <td>27</td>\n      <td>https://prod-cdn.spiritsnetwork.com/Applicatio...</td>\n      <td>World Whisky: Waterford Whisky</td>\n      <td>1</td>\n      <td>255</td>\n    </tr>\n    <tr>\n      <th>120</th>\n      <td>2022-02-01</td>\n      <td>19</td>\n      <td>7</td>\n      <td>https://prod-cdn.spiritsnetwork.com/Applicatio...</td>\n      <td>World Whisky: Waterford Whisky</td>\n      <td>1</td>\n      <td>255</td>\n    </tr>\n    <tr>\n      <th>121</th>\n      <td>2022-02-01</td>\n      <td>17</td>\n      <td>17</td>\n      <td>https://prod-cdn.spiritsnetwork.com/Applicatio...</td>\n      <td>First Taste (S1E1)</td>\n      <td>1</td>\n      <td>692</td>\n    </tr>\n  </tbody>\n</table>\n<p>802 rows × 7 columns</p>\n</div>"
     },
     "execution_count": 46,
     "metadata": {},
     "output_type": "execute_result"
    }
   ],
   "source": [
    "video_df_ended"
   ],
   "metadata": {
    "collapsed": false,
    "pycharm": {
     "name": "#%%\n"
    }
   }
  },
  {
   "cell_type": "code",
   "execution_count": 57,
   "outputs": [
    {
     "data": {
      "text/plain": "           date  hour_playing  minute_playing  \\\n0    2022-03-06            17              53   \n1    2022-03-07             9              24   \n2    2022-02-23            13              43   \n3    2022-02-22             0               4   \n4    2022-02-22             1               4   \n...         ...           ...             ...   \n9965 2022-02-01            19               4   \n9966 2022-02-01            21               0   \n9967 2022-02-01            21               0   \n9968 2022-02-01            21               0   \n9969 2022-02-01            17               7   \n\n                                             eventLabel  \\\n0     https://prod-cdn.spiritsnetwork.com/Applicatio...   \n1     https://prod-cdn.spiritsnetwork.com/Applicatio...   \n2     https://prod-cdn.spiritsnetwork.com/Applicatio...   \n3     https://prod-cdn.spiritsnetwork.com/Applicatio...   \n4     https://prod-cdn.spiritsnetwork.com/Applicatio...   \n...                                                 ...   \n9965  https://prod-cdn.spiritsnetwork.com/Applicatio...   \n9966  https://prod-cdn.spiritsnetwork.com/Applicatio...   \n9967  https://prod-cdn.spiritsnetwork.com/Applicatio...   \n9968  https://prod-cdn.spiritsnetwork.com/Applicatio...   \n9969  https://prod-cdn.spiritsnetwork.com/Applicatio...   \n\n                                name  totalEvents_playing  eventValue_playing  \\\n0               Lost in Taste (S1E1)                    1                   0   \n1                         Mix (S3E3)                    2                   0   \n2               Lost in Taste (S1E1)                    1                   0   \n3           Cardi's WhipShots (S1E1)                    1                   0   \n4           Cardi's WhipShots (S1E1)                    2                   0   \n...                              ...                  ...                 ...   \n9965  World Whisky: Waterford Whisky                    2                 110   \n9966  World Whisky: Waterford Whisky                    4                  58   \n9967  World Whisky: Waterford Whisky                    4                  58   \n9968  World Whisky: Waterford Whisky                    4                  58   \n9969              First Taste (S1E1)                    2                  80   \n\n      hour_ended  minute_ended  totalEvents_ended  eventValue_ended  \n0             17            59                  1               396  \n1              9            27                  1               182  \n2             13            50                  1               396  \n3              1            19                  1               887  \n4              1            19                  1               887  \n...          ...           ...                ...               ...  \n9965          19             7                  1               255  \n9966           3            33                  1               255  \n9967           4            27                  1               255  \n9968          19             7                  1               255  \n9969          17            17                  1               692  \n\n[9970 rows x 11 columns]",
      "text/html": "<div>\n<style scoped>\n    .dataframe tbody tr th:only-of-type {\n        vertical-align: middle;\n    }\n\n    .dataframe tbody tr th {\n        vertical-align: top;\n    }\n\n    .dataframe thead th {\n        text-align: right;\n    }\n</style>\n<table border=\"1\" class=\"dataframe\">\n  <thead>\n    <tr style=\"text-align: right;\">\n      <th></th>\n      <th>date</th>\n      <th>hour_playing</th>\n      <th>minute_playing</th>\n      <th>eventLabel</th>\n      <th>name</th>\n      <th>totalEvents_playing</th>\n      <th>eventValue_playing</th>\n      <th>hour_ended</th>\n      <th>minute_ended</th>\n      <th>totalEvents_ended</th>\n      <th>eventValue_ended</th>\n    </tr>\n  </thead>\n  <tbody>\n    <tr>\n      <th>0</th>\n      <td>2022-03-06</td>\n      <td>17</td>\n      <td>53</td>\n      <td>https://prod-cdn.spiritsnetwork.com/Applicatio...</td>\n      <td>Lost in Taste (S1E1)</td>\n      <td>1</td>\n      <td>0</td>\n      <td>17</td>\n      <td>59</td>\n      <td>1</td>\n      <td>396</td>\n    </tr>\n    <tr>\n      <th>1</th>\n      <td>2022-03-07</td>\n      <td>9</td>\n      <td>24</td>\n      <td>https://prod-cdn.spiritsnetwork.com/Applicatio...</td>\n      <td>Mix (S3E3)</td>\n      <td>2</td>\n      <td>0</td>\n      <td>9</td>\n      <td>27</td>\n      <td>1</td>\n      <td>182</td>\n    </tr>\n    <tr>\n      <th>2</th>\n      <td>2022-02-23</td>\n      <td>13</td>\n      <td>43</td>\n      <td>https://prod-cdn.spiritsnetwork.com/Applicatio...</td>\n      <td>Lost in Taste (S1E1)</td>\n      <td>1</td>\n      <td>0</td>\n      <td>13</td>\n      <td>50</td>\n      <td>1</td>\n      <td>396</td>\n    </tr>\n    <tr>\n      <th>3</th>\n      <td>2022-02-22</td>\n      <td>0</td>\n      <td>4</td>\n      <td>https://prod-cdn.spiritsnetwork.com/Applicatio...</td>\n      <td>Cardi's WhipShots (S1E1)</td>\n      <td>1</td>\n      <td>0</td>\n      <td>1</td>\n      <td>19</td>\n      <td>1</td>\n      <td>887</td>\n    </tr>\n    <tr>\n      <th>4</th>\n      <td>2022-02-22</td>\n      <td>1</td>\n      <td>4</td>\n      <td>https://prod-cdn.spiritsnetwork.com/Applicatio...</td>\n      <td>Cardi's WhipShots (S1E1)</td>\n      <td>2</td>\n      <td>0</td>\n      <td>1</td>\n      <td>19</td>\n      <td>1</td>\n      <td>887</td>\n    </tr>\n    <tr>\n      <th>...</th>\n      <td>...</td>\n      <td>...</td>\n      <td>...</td>\n      <td>...</td>\n      <td>...</td>\n      <td>...</td>\n      <td>...</td>\n      <td>...</td>\n      <td>...</td>\n      <td>...</td>\n      <td>...</td>\n    </tr>\n    <tr>\n      <th>9965</th>\n      <td>2022-02-01</td>\n      <td>19</td>\n      <td>4</td>\n      <td>https://prod-cdn.spiritsnetwork.com/Applicatio...</td>\n      <td>World Whisky: Waterford Whisky</td>\n      <td>2</td>\n      <td>110</td>\n      <td>19</td>\n      <td>7</td>\n      <td>1</td>\n      <td>255</td>\n    </tr>\n    <tr>\n      <th>9966</th>\n      <td>2022-02-01</td>\n      <td>21</td>\n      <td>0</td>\n      <td>https://prod-cdn.spiritsnetwork.com/Applicatio...</td>\n      <td>World Whisky: Waterford Whisky</td>\n      <td>4</td>\n      <td>58</td>\n      <td>3</td>\n      <td>33</td>\n      <td>1</td>\n      <td>255</td>\n    </tr>\n    <tr>\n      <th>9967</th>\n      <td>2022-02-01</td>\n      <td>21</td>\n      <td>0</td>\n      <td>https://prod-cdn.spiritsnetwork.com/Applicatio...</td>\n      <td>World Whisky: Waterford Whisky</td>\n      <td>4</td>\n      <td>58</td>\n      <td>4</td>\n      <td>27</td>\n      <td>1</td>\n      <td>255</td>\n    </tr>\n    <tr>\n      <th>9968</th>\n      <td>2022-02-01</td>\n      <td>21</td>\n      <td>0</td>\n      <td>https://prod-cdn.spiritsnetwork.com/Applicatio...</td>\n      <td>World Whisky: Waterford Whisky</td>\n      <td>4</td>\n      <td>58</td>\n      <td>19</td>\n      <td>7</td>\n      <td>1</td>\n      <td>255</td>\n    </tr>\n    <tr>\n      <th>9969</th>\n      <td>2022-02-01</td>\n      <td>17</td>\n      <td>7</td>\n      <td>https://prod-cdn.spiritsnetwork.com/Applicatio...</td>\n      <td>First Taste (S1E1)</td>\n      <td>2</td>\n      <td>80</td>\n      <td>17</td>\n      <td>17</td>\n      <td>1</td>\n      <td>692</td>\n    </tr>\n  </tbody>\n</table>\n<p>9970 rows × 11 columns</p>\n</div>"
     },
     "execution_count": 57,
     "metadata": {},
     "output_type": "execute_result"
    }
   ],
   "source": [
    "d = pd.merge(video_df_playing, video_df_ended,\n",
    "             on=['eventLabel', 'name', 'date'],\n",
    "             how='inner',\n",
    "             suffixes=['_playing', '_ended'])\n",
    "d"
   ],
   "metadata": {
    "collapsed": false,
    "pycharm": {
     "name": "#%%\n"
    }
   }
  },
  {
   "cell_type": "markdown",
   "source": [
    "Watch Time. This metric represents how much time is spent watching content by your viewers. You calculate this value by tracking the playing event, and halting it when the waiting, pause, ended or error event occurs."
   ],
   "metadata": {
    "collapsed": false,
    "pycharm": {
     "name": "#%% md\n"
    }
   }
  },
  {
   "cell_type": "code",
   "execution_count": null,
   "outputs": [],
   "source": [],
   "metadata": {
    "collapsed": false,
    "pycharm": {
     "name": "#%%\n"
    }
   }
  }
 ],
 "metadata": {
  "kernelspec": {
   "display_name": "Python 3",
   "language": "python",
   "name": "python3"
  },
  "language_info": {
   "codemirror_mode": {
    "name": "ipython",
    "version": 2
   },
   "file_extension": ".py",
   "mimetype": "text/x-python",
   "name": "python",
   "nbconvert_exporter": "python",
   "pygments_lexer": "ipython2",
   "version": "2.7.6"
  }
 },
 "nbformat": 4,
 "nbformat_minor": 0
}
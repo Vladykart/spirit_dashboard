{
 "cells": [
  {
   "cell_type": "code",
   "execution_count": 1,
   "metadata": {
    "collapsed": true
   },
   "outputs": [
    {
     "name": "stderr",
     "output_type": "stream",
     "text": [
      "2022-05-25 14:06:42.078 WARNING streamlit.state.auto_session_state: Session state does not function when running a script without `streamlit run`\n"
     ]
    },
    {
     "name": "stdout",
     "output_type": "stream",
     "text": [
      "Unable to connect to the server.\n"
     ]
    }
   ],
   "source": [
    "from datetime import datetime\n",
    "\n",
    "import pandas as pd\n",
    "\n",
    "from data.get_data import get_data_from_collection"
   ]
  },
  {
   "cell_type": "code",
   "execution_count": 132,
   "outputs": [
    {
     "data": {
      "text/plain": "          eventAction       date  hour  totalEvents  uniqueEvents  eventValue  \\\n0      durationchange 2022-03-06    17            1             1           0   \n1      durationchange 2022-03-06    17            1             0         389   \n2      durationchange 2022-03-07    12            1             1          33   \n3      durationchange 2022-03-07     9            1             0          10   \n4      durationchange 2022-03-07    10            1             1          74   \n...               ...        ...   ...          ...           ...         ...   \n64777         waiting 2022-01-31    16            1             0         487   \n64778         waiting 2022-01-31     7            1             1         394   \n64779         waiting 2022-02-01    14            1             1           0   \n64780         waiting 2022-02-01     5            1             1           0   \n64781         waiting 2022-01-31    14            1             1           0   \n\n                                                    name  day  week  month  \n0                                   Lost in Taste (S1E1)    7     9      3  \n1                                   Lost in Taste (S1E1)    7     9      3  \n2                                             Mix (S3E3)    1    10      3  \n3                                             Mix (S3E3)    1    10      3  \n4                               Cardi's WhipShots (S1E1)    1    10      3  \n...                                                  ...  ...   ...    ...  \n64777  American Whiskey: W. B. Saffell & Bond and Lil...    1     5      1  \n64778                                                NaN    1     5      1  \n64779  World Whisky: Puni Arte Limited Edition 01 & M...    2     5      2  \n64780                               Home Bar Hero (S2E3)    2     5      2  \n64781                    Scotch: Story of Whisky, Part 1    1     5      1  \n\n[64782 rows x 10 columns]",
      "text/html": "<div>\n<style scoped>\n    .dataframe tbody tr th:only-of-type {\n        vertical-align: middle;\n    }\n\n    .dataframe tbody tr th {\n        vertical-align: top;\n    }\n\n    .dataframe thead th {\n        text-align: right;\n    }\n</style>\n<table border=\"1\" class=\"dataframe\">\n  <thead>\n    <tr style=\"text-align: right;\">\n      <th></th>\n      <th>eventAction</th>\n      <th>date</th>\n      <th>hour</th>\n      <th>totalEvents</th>\n      <th>uniqueEvents</th>\n      <th>eventValue</th>\n      <th>name</th>\n      <th>day</th>\n      <th>week</th>\n      <th>month</th>\n    </tr>\n  </thead>\n  <tbody>\n    <tr>\n      <th>0</th>\n      <td>durationchange</td>\n      <td>2022-03-06</td>\n      <td>17</td>\n      <td>1</td>\n      <td>1</td>\n      <td>0</td>\n      <td>Lost in Taste (S1E1)</td>\n      <td>7</td>\n      <td>9</td>\n      <td>3</td>\n    </tr>\n    <tr>\n      <th>1</th>\n      <td>durationchange</td>\n      <td>2022-03-06</td>\n      <td>17</td>\n      <td>1</td>\n      <td>0</td>\n      <td>389</td>\n      <td>Lost in Taste (S1E1)</td>\n      <td>7</td>\n      <td>9</td>\n      <td>3</td>\n    </tr>\n    <tr>\n      <th>2</th>\n      <td>durationchange</td>\n      <td>2022-03-07</td>\n      <td>12</td>\n      <td>1</td>\n      <td>1</td>\n      <td>33</td>\n      <td>Mix (S3E3)</td>\n      <td>1</td>\n      <td>10</td>\n      <td>3</td>\n    </tr>\n    <tr>\n      <th>3</th>\n      <td>durationchange</td>\n      <td>2022-03-07</td>\n      <td>9</td>\n      <td>1</td>\n      <td>0</td>\n      <td>10</td>\n      <td>Mix (S3E3)</td>\n      <td>1</td>\n      <td>10</td>\n      <td>3</td>\n    </tr>\n    <tr>\n      <th>4</th>\n      <td>durationchange</td>\n      <td>2022-03-07</td>\n      <td>10</td>\n      <td>1</td>\n      <td>1</td>\n      <td>74</td>\n      <td>Cardi's WhipShots (S1E1)</td>\n      <td>1</td>\n      <td>10</td>\n      <td>3</td>\n    </tr>\n    <tr>\n      <th>...</th>\n      <td>...</td>\n      <td>...</td>\n      <td>...</td>\n      <td>...</td>\n      <td>...</td>\n      <td>...</td>\n      <td>...</td>\n      <td>...</td>\n      <td>...</td>\n      <td>...</td>\n    </tr>\n    <tr>\n      <th>64777</th>\n      <td>waiting</td>\n      <td>2022-01-31</td>\n      <td>16</td>\n      <td>1</td>\n      <td>0</td>\n      <td>487</td>\n      <td>American Whiskey: W. B. Saffell &amp; Bond and Lil...</td>\n      <td>1</td>\n      <td>5</td>\n      <td>1</td>\n    </tr>\n    <tr>\n      <th>64778</th>\n      <td>waiting</td>\n      <td>2022-01-31</td>\n      <td>7</td>\n      <td>1</td>\n      <td>1</td>\n      <td>394</td>\n      <td>NaN</td>\n      <td>1</td>\n      <td>5</td>\n      <td>1</td>\n    </tr>\n    <tr>\n      <th>64779</th>\n      <td>waiting</td>\n      <td>2022-02-01</td>\n      <td>14</td>\n      <td>1</td>\n      <td>1</td>\n      <td>0</td>\n      <td>World Whisky: Puni Arte Limited Edition 01 &amp; M...</td>\n      <td>2</td>\n      <td>5</td>\n      <td>2</td>\n    </tr>\n    <tr>\n      <th>64780</th>\n      <td>waiting</td>\n      <td>2022-02-01</td>\n      <td>5</td>\n      <td>1</td>\n      <td>1</td>\n      <td>0</td>\n      <td>Home Bar Hero (S2E3)</td>\n      <td>2</td>\n      <td>5</td>\n      <td>2</td>\n    </tr>\n    <tr>\n      <th>64781</th>\n      <td>waiting</td>\n      <td>2022-01-31</td>\n      <td>14</td>\n      <td>1</td>\n      <td>1</td>\n      <td>0</td>\n      <td>Scotch: Story of Whisky, Part 1</td>\n      <td>1</td>\n      <td>5</td>\n      <td>1</td>\n    </tr>\n  </tbody>\n</table>\n<p>64782 rows × 10 columns</p>\n</div>"
     },
     "execution_count": 132,
     "metadata": {},
     "output_type": "execute_result"
    }
   ],
   "source": [
    "select_rows = {\n",
    "    \"date\": 1,\n",
    "    \"name\": 1,\n",
    "    \"eventAction\": 1,\n",
    "    \"hour\": 1,\n",
    "    \"totalEvents\": 1,\n",
    "    \"uniqueEvents\": 1,\n",
    "    \"eventValue\": 1,\n",
    "    \"_id\": 0,\n",
    "}\n",
    "query = {}\n",
    "\n",
    "agg = {\"totalEvents\": \"sum\", \"uniqueEvents\": \"sum\", \"eventValue\": \"sum\"}\n",
    "df = get_data_from_collection(\"video\", query, select_rows)\n",
    "df[\"day\"] = df[\"date\"].dt.isocalendar().day\n",
    "df[\"week\"] = df[\"date\"].dt.isocalendar().week\n",
    "df[\"month\"] = df[\"date\"].dt.month\n",
    "df"
   ],
   "metadata": {
    "collapsed": false,
    "pycharm": {
     "name": "#%%\n"
    }
   }
  },
  {
   "cell_type": "code",
   "execution_count": 133,
   "outputs": [
    {
     "data": {
      "text/plain": "                       name       date  totalEvents  uniqueEvents  eventValue\n0   Cocktail History (S1E1) 2022-01-20           12            12        7884\n1  #WhiskyWednesdays (S1E2) 2022-02-13            2             1        4708\n2  Cardi's WhipShots (S1E1) 2022-01-21            5             5        4435\n3      Wine Uncorked (S1E1) 2022-02-25            2             2        3652\n4  Cardi's WhipShots (S1E1) 2022-02-15            4             4        3548\n5  Cardi's WhipShots (S1E1) 2022-02-03            4             4        3548\n6  Cardi's WhipShots (S1E2) 2022-01-01            4             4        2872\n7  Cardi's WhipShots (S1E2) 2022-02-18            4             4        2872\n8  Cardi's WhipShots (S1E2) 2022-02-11            4             4        2872\n9  Cardi's WhipShots (S1E2) 2022-02-07            4             4        2872",
      "text/html": "<div>\n<style scoped>\n    .dataframe tbody tr th:only-of-type {\n        vertical-align: middle;\n    }\n\n    .dataframe tbody tr th {\n        vertical-align: top;\n    }\n\n    .dataframe thead th {\n        text-align: right;\n    }\n</style>\n<table border=\"1\" class=\"dataframe\">\n  <thead>\n    <tr style=\"text-align: right;\">\n      <th></th>\n      <th>name</th>\n      <th>date</th>\n      <th>totalEvents</th>\n      <th>uniqueEvents</th>\n      <th>eventValue</th>\n    </tr>\n  </thead>\n  <tbody>\n    <tr>\n      <th>0</th>\n      <td>Cocktail History (S1E1)</td>\n      <td>2022-01-20</td>\n      <td>12</td>\n      <td>12</td>\n      <td>7884</td>\n    </tr>\n    <tr>\n      <th>1</th>\n      <td>#WhiskyWednesdays (S1E2)</td>\n      <td>2022-02-13</td>\n      <td>2</td>\n      <td>1</td>\n      <td>4708</td>\n    </tr>\n    <tr>\n      <th>2</th>\n      <td>Cardi's WhipShots (S1E1)</td>\n      <td>2022-01-21</td>\n      <td>5</td>\n      <td>5</td>\n      <td>4435</td>\n    </tr>\n    <tr>\n      <th>3</th>\n      <td>Wine Uncorked (S1E1)</td>\n      <td>2022-02-25</td>\n      <td>2</td>\n      <td>2</td>\n      <td>3652</td>\n    </tr>\n    <tr>\n      <th>4</th>\n      <td>Cardi's WhipShots (S1E1)</td>\n      <td>2022-02-15</td>\n      <td>4</td>\n      <td>4</td>\n      <td>3548</td>\n    </tr>\n    <tr>\n      <th>5</th>\n      <td>Cardi's WhipShots (S1E1)</td>\n      <td>2022-02-03</td>\n      <td>4</td>\n      <td>4</td>\n      <td>3548</td>\n    </tr>\n    <tr>\n      <th>6</th>\n      <td>Cardi's WhipShots (S1E2)</td>\n      <td>2022-01-01</td>\n      <td>4</td>\n      <td>4</td>\n      <td>2872</td>\n    </tr>\n    <tr>\n      <th>7</th>\n      <td>Cardi's WhipShots (S1E2)</td>\n      <td>2022-02-18</td>\n      <td>4</td>\n      <td>4</td>\n      <td>2872</td>\n    </tr>\n    <tr>\n      <th>8</th>\n      <td>Cardi's WhipShots (S1E2)</td>\n      <td>2022-02-11</td>\n      <td>4</td>\n      <td>4</td>\n      <td>2872</td>\n    </tr>\n    <tr>\n      <th>9</th>\n      <td>Cardi's WhipShots (S1E2)</td>\n      <td>2022-02-07</td>\n      <td>4</td>\n      <td>4</td>\n      <td>2872</td>\n    </tr>\n  </tbody>\n</table>\n</div>"
     },
     "execution_count": 133,
     "metadata": {},
     "output_type": "execute_result"
    }
   ],
   "source": [
    "def top_events(data, event, start_date, end_date, top_n = 10):\n",
    "    agg = {\"totalEvents\": \"sum\", \"uniqueEvents\": \"sum\", \"eventValue\": \"sum\"}\n",
    "    start_date = datetime.strptime(start_date, \"%Y-%m-%d\")\n",
    "    end_date = datetime.strptime(end_date, \"%Y-%m-%d\")\n",
    "    df = data.copy()\n",
    "    df[\"date\"] = pd.to_datetime(df[\"date\"])\n",
    "    # greater than the start date and smaller than the end date\n",
    "    df = df.loc[df[\"date\"].between(start_date, end_date)]\n",
    "    # df = df[df['name'].str.startswith('#')]\n",
    "    df = df[df[\"eventAction\"] == event].groupby([\"name\", \"date\"]).agg(agg).reset_index()\n",
    "    df = df.sort_values(by=[\"eventValue\"], ascending=False).reset_index(drop=True)\n",
    "    return df.iloc[:top_n, :]\n",
    "\n",
    "top_events(df, \"ended\", \"2020-01-01\", \"2022-12-31\")"
   ],
   "metadata": {
    "collapsed": false,
    "pycharm": {
     "name": "#%%\n"
    }
   }
  },
  {
   "cell_type": "code",
   "execution_count": null,
   "outputs": [],
   "source": [],
   "metadata": {
    "collapsed": false,
    "pycharm": {
     "name": "#%%\n"
    }
   }
  },
  {
   "cell_type": "code",
   "execution_count": 119,
   "outputs": [
    {
     "data": {
      "text/plain": "array(['durationchange', 'pause', 'playing', 'progress', 'ended',\n       'seeked', 'seeking', 'volumechange', 'waiting'], dtype=object)"
     },
     "execution_count": 119,
     "metadata": {},
     "output_type": "execute_result"
    }
   ],
   "source": [
    "df['eventAction'].unique()"
   ],
   "metadata": {
    "collapsed": false,
    "pycharm": {
     "name": "#%%\n"
    }
   }
  },
  {
   "cell_type": "code",
   "execution_count": 128,
   "outputs": [
    {
     "ename": "ValueError",
     "evalue": "Cannot mask with non-boolean array containing NA / NaN values",
     "output_type": "error",
     "traceback": [
      "\u001B[1;31m---------------------------------------------------------------------------\u001B[0m",
      "\u001B[1;31mValueError\u001B[0m                                Traceback (most recent call last)",
      "Input \u001B[1;32mIn [128]\u001B[0m, in \u001B[0;36m<cell line: 1>\u001B[1;34m()\u001B[0m\n\u001B[1;32m----> 1\u001B[0m df \u001B[38;5;241m=\u001B[39m \u001B[43mdf\u001B[49m\u001B[43m[\u001B[49m\u001B[43mdf\u001B[49m\u001B[43m[\u001B[49m\u001B[38;5;124;43m'\u001B[39;49m\u001B[38;5;124;43mname\u001B[39;49m\u001B[38;5;124;43m'\u001B[39;49m\u001B[43m]\u001B[49m\u001B[38;5;241;43m.\u001B[39;49m\u001B[43mstr\u001B[49m\u001B[38;5;241;43m.\u001B[39;49m\u001B[43mstartswith\u001B[49m\u001B[43m(\u001B[49m\u001B[38;5;124;43m'\u001B[39;49m\u001B[38;5;124;43m#\u001B[39;49m\u001B[38;5;124;43m'\u001B[39;49m\u001B[43m)\u001B[49m\u001B[43m]\u001B[49m\n",
      "File \u001B[1;32mc:\\users\\user\\pycharmprojects\\spirit_dashboard\\venv\\lib\\site-packages\\pandas\\core\\frame.py:3495\u001B[0m, in \u001B[0;36mDataFrame.__getitem__\u001B[1;34m(self, key)\u001B[0m\n\u001B[0;32m   3492\u001B[0m     \u001B[38;5;28;01mreturn\u001B[39;00m \u001B[38;5;28mself\u001B[39m\u001B[38;5;241m.\u001B[39mwhere(key)\n\u001B[0;32m   3494\u001B[0m \u001B[38;5;66;03m# Do we have a (boolean) 1d indexer?\u001B[39;00m\n\u001B[1;32m-> 3495\u001B[0m \u001B[38;5;28;01mif\u001B[39;00m \u001B[43mcom\u001B[49m\u001B[38;5;241;43m.\u001B[39;49m\u001B[43mis_bool_indexer\u001B[49m\u001B[43m(\u001B[49m\u001B[43mkey\u001B[49m\u001B[43m)\u001B[49m:\n\u001B[0;32m   3496\u001B[0m     \u001B[38;5;28;01mreturn\u001B[39;00m \u001B[38;5;28mself\u001B[39m\u001B[38;5;241m.\u001B[39m_getitem_bool_array(key)\n\u001B[0;32m   3498\u001B[0m \u001B[38;5;66;03m# We are left with two options: a single key, and a collection of keys,\u001B[39;00m\n\u001B[0;32m   3499\u001B[0m \u001B[38;5;66;03m# We interpret tuples as collections only for non-MultiIndex\u001B[39;00m\n",
      "File \u001B[1;32mc:\\users\\user\\pycharmprojects\\spirit_dashboard\\venv\\lib\\site-packages\\pandas\\core\\common.py:144\u001B[0m, in \u001B[0;36mis_bool_indexer\u001B[1;34m(key)\u001B[0m\n\u001B[0;32m    140\u001B[0m     na_msg \u001B[38;5;241m=\u001B[39m \u001B[38;5;124m\"\u001B[39m\u001B[38;5;124mCannot mask with non-boolean array containing NA / NaN values\u001B[39m\u001B[38;5;124m\"\u001B[39m\n\u001B[0;32m    141\u001B[0m     \u001B[38;5;28;01mif\u001B[39;00m lib\u001B[38;5;241m.\u001B[39minfer_dtype(key) \u001B[38;5;241m==\u001B[39m \u001B[38;5;124m\"\u001B[39m\u001B[38;5;124mboolean\u001B[39m\u001B[38;5;124m\"\u001B[39m \u001B[38;5;129;01mand\u001B[39;00m isna(key)\u001B[38;5;241m.\u001B[39many():\n\u001B[0;32m    142\u001B[0m         \u001B[38;5;66;03m# Don't raise on e.g. [\"A\", \"B\", np.nan], see\u001B[39;00m\n\u001B[0;32m    143\u001B[0m         \u001B[38;5;66;03m#  test_loc_getitem_list_of_labels_categoricalindex_with_na\u001B[39;00m\n\u001B[1;32m--> 144\u001B[0m         \u001B[38;5;28;01mraise\u001B[39;00m \u001B[38;5;167;01mValueError\u001B[39;00m(na_msg)\n\u001B[0;32m    145\u001B[0m     \u001B[38;5;28;01mreturn\u001B[39;00m \u001B[38;5;28;01mFalse\u001B[39;00m\n\u001B[0;32m    146\u001B[0m \u001B[38;5;28;01mreturn\u001B[39;00m \u001B[38;5;28;01mTrue\u001B[39;00m\n",
      "\u001B[1;31mValueError\u001B[0m: Cannot mask with non-boolean array containing NA / NaN values"
     ]
    }
   ],
   "source": [
    "df = df[df['name'].str.startswith('#')]\n"
   ],
   "metadata": {
    "collapsed": false,
    "pycharm": {
     "name": "#%%\n"
    }
   }
  },
  {
   "cell_type": "code",
   "execution_count": null,
   "outputs": [],
   "source": [],
   "metadata": {
    "collapsed": false,
    "pycharm": {
     "name": "#%%\n"
    }
   }
  },
  {
   "cell_type": "code",
   "execution_count": 131,
   "outputs": [
    {
     "data": {
      "text/plain": "0        False\n1        False\n2        False\n3        False\n4        False\n         ...  \n64777    False\n64778      NaN\n64779    False\n64780    False\n64781    False\nName: name, Length: 64782, dtype: object"
     },
     "execution_count": 131,
     "metadata": {},
     "output_type": "execute_result"
    }
   ],
   "source": [
    "df['name'].str.startswith('#')"
   ],
   "metadata": {
    "collapsed": false,
    "pycharm": {
     "name": "#%%\n"
    }
   }
  },
  {
   "cell_type": "code",
   "execution_count": 97,
   "outputs": [
    {
     "data": {
      "text/plain": "0       2022-03-06\n1       2022-03-06\n2       2022-03-07\n3       2022-03-07\n4       2022-03-07\n           ...    \n64777   2022-01-31\n64778   2022-01-31\n64779   2022-02-01\n64780   2022-02-01\n64781   2022-01-31\nName: date, Length: 64782, dtype: datetime64[ns]"
     },
     "execution_count": 97,
     "metadata": {},
     "output_type": "execute_result"
    }
   ],
   "source": [
    "df['date']\n",
    "mask = (df['dates'] > start_date) & (df['dates'] <= end_date)\n"
   ],
   "metadata": {
    "collapsed": false,
    "pycharm": {
     "name": "#%%\n"
    }
   }
  },
  {
   "cell_type": "code",
   "execution_count": 99,
   "outputs": [
    {
     "data": {
      "text/plain": "Empty DataFrame\nColumns: [eventAction, date, hour, totalEvents, uniqueEvents, eventValue, name, day, week, month]\nIndex: []",
      "text/html": "<div>\n<style scoped>\n    .dataframe tbody tr th:only-of-type {\n        vertical-align: middle;\n    }\n\n    .dataframe tbody tr th {\n        vertical-align: top;\n    }\n\n    .dataframe thead th {\n        text-align: right;\n    }\n</style>\n<table border=\"1\" class=\"dataframe\">\n  <thead>\n    <tr style=\"text-align: right;\">\n      <th></th>\n      <th>eventAction</th>\n      <th>date</th>\n      <th>hour</th>\n      <th>totalEvents</th>\n      <th>uniqueEvents</th>\n      <th>eventValue</th>\n      <th>name</th>\n      <th>day</th>\n      <th>week</th>\n      <th>month</th>\n    </tr>\n  </thead>\n  <tbody>\n  </tbody>\n</table>\n</div>"
     },
     "execution_count": 99,
     "metadata": {},
     "output_type": "execute_result"
    }
   ],
   "source": [
    "mask = (df['date'] > start_date) & (df['date'] <= end_date)\n",
    "\n",
    "df.loc[mask]"
   ],
   "metadata": {
    "collapsed": false,
    "pycharm": {
     "name": "#%%\n"
    }
   }
  },
  {
   "cell_type": "code",
   "execution_count": 109,
   "outputs": [
    {
     "data": {
      "text/plain": "          eventAction       date  hour  totalEvents  uniqueEvents  eventValue  \\\n0      durationchange 2022-03-06    17            1             1           0   \n1      durationchange 2022-03-06    17            1             0         389   \n2      durationchange 2022-03-07    12            1             1          33   \n3      durationchange 2022-03-07     9            1             0          10   \n4      durationchange 2022-03-07    10            1             1          74   \n...               ...        ...   ...          ...           ...         ...   \n64777         waiting 2022-01-31    16            1             0         487   \n64778         waiting 2022-01-31     7            1             1         394   \n64779         waiting 2022-02-01    14            1             1           0   \n64780         waiting 2022-02-01     5            1             1           0   \n64781         waiting 2022-01-31    14            1             1           0   \n\n                                                    name  day  week  month  \n0                                   Lost in Taste (S1E1)    7     9      3  \n1                                   Lost in Taste (S1E1)    7     9      3  \n2                                             Mix (S3E3)    1    10      3  \n3                                             Mix (S3E3)    1    10      3  \n4                               Cardi's WhipShots (S1E1)    1    10      3  \n...                                                  ...  ...   ...    ...  \n64777  American Whiskey: W. B. Saffell & Bond and Lil...    1     5      1  \n64778                                                NaN    1     5      1  \n64779  World Whisky: Puni Arte Limited Edition 01 & M...    2     5      2  \n64780                               Home Bar Hero (S2E3)    2     5      2  \n64781                    Scotch: Story of Whisky, Part 1    1     5      1  \n\n[64782 rows x 10 columns]",
      "text/html": "<div>\n<style scoped>\n    .dataframe tbody tr th:only-of-type {\n        vertical-align: middle;\n    }\n\n    .dataframe tbody tr th {\n        vertical-align: top;\n    }\n\n    .dataframe thead th {\n        text-align: right;\n    }\n</style>\n<table border=\"1\" class=\"dataframe\">\n  <thead>\n    <tr style=\"text-align: right;\">\n      <th></th>\n      <th>eventAction</th>\n      <th>date</th>\n      <th>hour</th>\n      <th>totalEvents</th>\n      <th>uniqueEvents</th>\n      <th>eventValue</th>\n      <th>name</th>\n      <th>day</th>\n      <th>week</th>\n      <th>month</th>\n    </tr>\n  </thead>\n  <tbody>\n    <tr>\n      <th>0</th>\n      <td>durationchange</td>\n      <td>2022-03-06</td>\n      <td>17</td>\n      <td>1</td>\n      <td>1</td>\n      <td>0</td>\n      <td>Lost in Taste (S1E1)</td>\n      <td>7</td>\n      <td>9</td>\n      <td>3</td>\n    </tr>\n    <tr>\n      <th>1</th>\n      <td>durationchange</td>\n      <td>2022-03-06</td>\n      <td>17</td>\n      <td>1</td>\n      <td>0</td>\n      <td>389</td>\n      <td>Lost in Taste (S1E1)</td>\n      <td>7</td>\n      <td>9</td>\n      <td>3</td>\n    </tr>\n    <tr>\n      <th>2</th>\n      <td>durationchange</td>\n      <td>2022-03-07</td>\n      <td>12</td>\n      <td>1</td>\n      <td>1</td>\n      <td>33</td>\n      <td>Mix (S3E3)</td>\n      <td>1</td>\n      <td>10</td>\n      <td>3</td>\n    </tr>\n    <tr>\n      <th>3</th>\n      <td>durationchange</td>\n      <td>2022-03-07</td>\n      <td>9</td>\n      <td>1</td>\n      <td>0</td>\n      <td>10</td>\n      <td>Mix (S3E3)</td>\n      <td>1</td>\n      <td>10</td>\n      <td>3</td>\n    </tr>\n    <tr>\n      <th>4</th>\n      <td>durationchange</td>\n      <td>2022-03-07</td>\n      <td>10</td>\n      <td>1</td>\n      <td>1</td>\n      <td>74</td>\n      <td>Cardi's WhipShots (S1E1)</td>\n      <td>1</td>\n      <td>10</td>\n      <td>3</td>\n    </tr>\n    <tr>\n      <th>...</th>\n      <td>...</td>\n      <td>...</td>\n      <td>...</td>\n      <td>...</td>\n      <td>...</td>\n      <td>...</td>\n      <td>...</td>\n      <td>...</td>\n      <td>...</td>\n      <td>...</td>\n    </tr>\n    <tr>\n      <th>64777</th>\n      <td>waiting</td>\n      <td>2022-01-31</td>\n      <td>16</td>\n      <td>1</td>\n      <td>0</td>\n      <td>487</td>\n      <td>American Whiskey: W. B. Saffell &amp; Bond and Lil...</td>\n      <td>1</td>\n      <td>5</td>\n      <td>1</td>\n    </tr>\n    <tr>\n      <th>64778</th>\n      <td>waiting</td>\n      <td>2022-01-31</td>\n      <td>7</td>\n      <td>1</td>\n      <td>1</td>\n      <td>394</td>\n      <td>NaN</td>\n      <td>1</td>\n      <td>5</td>\n      <td>1</td>\n    </tr>\n    <tr>\n      <th>64779</th>\n      <td>waiting</td>\n      <td>2022-02-01</td>\n      <td>14</td>\n      <td>1</td>\n      <td>1</td>\n      <td>0</td>\n      <td>World Whisky: Puni Arte Limited Edition 01 &amp; M...</td>\n      <td>2</td>\n      <td>5</td>\n      <td>2</td>\n    </tr>\n    <tr>\n      <th>64780</th>\n      <td>waiting</td>\n      <td>2022-02-01</td>\n      <td>5</td>\n      <td>1</td>\n      <td>1</td>\n      <td>0</td>\n      <td>Home Bar Hero (S2E3)</td>\n      <td>2</td>\n      <td>5</td>\n      <td>2</td>\n    </tr>\n    <tr>\n      <th>64781</th>\n      <td>waiting</td>\n      <td>2022-01-31</td>\n      <td>14</td>\n      <td>1</td>\n      <td>1</td>\n      <td>0</td>\n      <td>Scotch: Story of Whisky, Part 1</td>\n      <td>1</td>\n      <td>5</td>\n      <td>1</td>\n    </tr>\n  </tbody>\n</table>\n<p>64782 rows × 10 columns</p>\n</div>"
     },
     "execution_count": 109,
     "metadata": {},
     "output_type": "execute_result"
    }
   ],
   "source": [
    "\n",
    "df.loc[df['date'] > start_date]"
   ],
   "metadata": {
    "collapsed": false,
    "pycharm": {
     "name": "#%%\n"
    }
   }
  }
 ],
 "metadata": {
  "kernelspec": {
   "display_name": "Python 3",
   "language": "python",
   "name": "python3"
  },
  "language_info": {
   "codemirror_mode": {
    "name": "ipython",
    "version": 2
   },
   "file_extension": ".py",
   "mimetype": "text/x-python",
   "name": "python",
   "nbconvert_exporter": "python",
   "pygments_lexer": "ipython2",
   "version": "2.7.6"
  }
 },
 "nbformat": 4,
 "nbformat_minor": 0
}